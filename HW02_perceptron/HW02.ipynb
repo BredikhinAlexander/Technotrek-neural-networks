{
 "cells": [
  {
   "cell_type": "markdown",
   "metadata": {
    "id": "MmymaLV4yMDx"
   },
   "source": [
    "# ДЗ №2 - обучение модели трехслойного перцептрона методом градиентного спуска"
   ]
  },
  {
   "cell_type": "markdown",
   "metadata": {
    "id": "_n5WGg3lyMDz"
   },
   "source": [
    "## (1)\n",
    "В качестве теоретического задания в этом ДЗ предлагается провести вывод функции ошибки для задачи регрессии в предположении, что целевая переменная подчиняется распределению Лапласа. Также предлагается воспользоваться байесовским выводом и в том же предположении относительно распределения целевой переменной вывести форму функции потерь с условием лапласовского априорного распределения параметров модели."
   ]
  },
  {
   "cell_type": "markdown",
   "metadata": {},
   "source": [
    "Запишем формулу Байеса: \n",
    "$$ P(\\theta | X) = \\frac{P \\left( X| \\theta \\right) P(\\theta)}{P(X)} $$\n",
    "тут $ P(X| \\theta) $ - правдоподобие (likelihood)\n",
    "\n",
    "$ P(\\theta)$ - prior\n",
    "\n",
    "$ P(X) $ - evidence"
   ]
  },
  {
   "cell_type": "markdown",
   "metadata": {},
   "source": [
    "Мы знаем, что решаем задачу регрессии и предполагаем, что целевая переменная подчиняется распределению Лапласа: $$\n",
    "g(x)=\\frac{\\alpha}{2} e^{-\\alpha|x-\\beta|}, \\quad-\\infty<x<+\\infty\n",
    "$$"
   ]
  },
  {
   "cell_type": "markdown",
   "metadata": {},
   "source": [
    "$$ f(x) = \\theta^T X + g(x)$$\n",
    "\n",
    "Для простоты считаем, что $ \\beta = 0$"
   ]
  },
  {
   "cell_type": "markdown",
   "metadata": {},
   "source": [
    "$$ P(t| X, \\theta, \\alpha) = \\frac{\\alpha}{2} e^{-\\alpha|t - \\theta^T X| } $$"
   ]
  },
  {
   "cell_type": "markdown",
   "metadata": {},
   "source": [
    "$$ \\theta^* = \\mathbf{argmax} \\prod\\limits_{i = 1}^{n} \\left( \\frac{\\alpha}{2} e^{-\\alpha|t - \\theta^T X| } \\right)$$"
   ]
  },
  {
   "cell_type": "markdown",
   "metadata": {},
   "source": [
    "логарифмируем, чтобы перейти к сумме"
   ]
  },
  {
   "cell_type": "markdown",
   "metadata": {},
   "source": [
    "$$ \\theta^* = n \\ln \\frac{\\alpha}{2} +  \\ln \\prod\\limits_{i = 1}^{n} \\left(  e^{-\\alpha|t - \\theta^T X| } \\right) = n \\ln \\frac{\\alpha}{2} + \\sum\\limits_{i = 1}^{n} \\ln \\left(  e^{-\\alpha|t - \\theta^T X| } \\right) $$"
   ]
  },
  {
   "cell_type": "markdown",
   "metadata": {},
   "source": [
    "$$ = n \\ln \\frac{\\alpha}{2} - \\alpha \\sum\\limits_{i = 1}^{n} |t - \\theta^T X|$$"
   ]
  },
  {
   "cell_type": "markdown",
   "metadata": {},
   "source": [
    "Получили известную функцию ошибки MAE (минимизируем сумму модулей: $ \\sum\\limits_{i = 1}^{n} |t - \\theta^T X| $ )"
   ]
  },
  {
   "cell_type": "markdown",
   "metadata": {},
   "source": [
    "Для Байевского вывода предполагаем, что целевая переменная и параметры распределены по Лапласу"
   ]
  },
  {
   "cell_type": "markdown",
   "metadata": {},
   "source": [
    "$$ P(\\theta | t) = P(t | X, \\theta, \\alpha) P(\\theta) $$ (не учитываем evidence, так как он не зависит от параметров нашей модели)"
   ]
  },
  {
   "cell_type": "markdown",
   "metadata": {},
   "source": [
    "Снова логарифмируем, получаем:"
   ]
  },
  {
   "cell_type": "markdown",
   "metadata": {},
   "source": [
    "$$ \\ln P(\\theta | t) = \\frac{1}{\\alpha} \\sum\\limits_{i = 1}^{n} |t - \\theta^T X| + \\frac{\\alpha}{2} |\\theta| + const   $$"
   ]
  },
  {
   "cell_type": "markdown",
   "metadata": {},
   "source": [
    "То есть в таких задачах (когда и целевая переменная и параметры распределены по Лапласу) стоит использовать L1 регуляризацию "
   ]
  },
  {
   "cell_type": "markdown",
   "metadata": {
    "id": "ZBWH5p9dyMD1"
   },
   "source": [
    "## (2)\n",
    "В этом ДЗ предлагается реализовать модель трехслойного перцептрона и обучение этой модели методом градиентного спуска.\n",
    "\n",
    "На этот раз предлагается работать с реальными данными. Данные представляют из себя набор рукописных цифр. Это изображения размером 28х28. Каждому изображению поставлен в соответствие класс - арабская цифра. Задача модели - определить цифру, соответствующую произвольному изображению из тестового набора данных.\n",
    "\n",
    "Так же, как и в ДЗ №1, предлагается реализовать функцию потерь и саму модель перцептрона в манере, схожей с построением модулей фреймворка pytorch.\n",
    "\n",
    "В решении ожидается наличие следующих ключевых составляющих:<br />\n",
    "\n",
    "- (текст) формулировка задачи\n",
    "- (текст) формулировка признакового описания объектов\n",
    "- (текст) формулировка функции ошибки\n",
    "- (текст) формулировка меры качества модели\n",
    "- (текст, код и диаграммы) исследование исходных данных: распределение признаков и другие действия, дающие понимание о характере исходных данных\n",
    "- (текст, код, диаграммы) фильтрация признаков (при необходимости), порождение признаков (при необходимости)\n",
    "- (код, результаты, коммментарии) обучение модели методом градиентного спуска\n",
    "- (код, результаты, комментарии) оценка качества модели на валидационной выборке\n",
    "\n",
    "#### Код решения:\n",
    "(можно использовать предлагаемые шаблоны)\n",
    "- формулировка модели трехслойного перцептрона (имеется в виду только один скрытый слой);\n",
    "- формулировка функции ошибки;\n",
    "- формулировка метрики (метрик);\n",
    "- формулировка цикла оптимизации параметров.\n",
    "\n",
    "#### Визуализация в решении:\n",
    "- распределение признаков;\n",
    "- распределение целевой переменной;\n",
    "- отдельные экземпляры выборки в виде изображений;\n",
    "- эволюция функции ошибки по ходу обучения;\n",
    "- эволюция метрики(метрик) по ходу обучения\n",
    "\n",
    "#### Выводы\n",
    "- вывод о достаточности или избыточности данных для оценки параметров модели\n",
    "- вывод о соотношении выразительности модели и ее обобщающей способности (наблюдаются ли явления переобучения или недообучения).\n",
    "\n",
    "Примечание:<br />\n",
    "Реализация перцептрона и других составляющих исследования может быть написана только с использованием библиотеки Numpy или scipy. Решения с использованием библиотек автоматического вычисления градиентов не засчитываются."
   ]
  },
  {
   "cell_type": "markdown",
   "metadata": {
    "id": "VbGQU2nxyMD1"
   },
   "source": [
    "### Исходные данные\n",
    "\n",
    "Исходные данные можно скачать [по этой ссылке](https://www.dropbox.com/s/y6ar7i7mb6fvoed/mnist.npz). Набор данных MNIST поставляется в различных вариантах. В варианте, доступном по приведенной ссылке, чтение исходных данных может быть выполнено следующим образом:\n",
    "\n",
    "```\n",
    "import numpy as np\n",
    "mnist = np.load('mnist.npz')\n",
    "x_train = mnist['x_train']\n",
    "y_train = mnist['y_train']\n",
    "x_test = mnist['x_test']\n",
    "y_test = mnist['y_test']\n",
    "```"
   ]
  },
  {
   "cell_type": "markdown",
   "metadata": {
    "id": "gjL1egcfyMD2"
   },
   "source": [
    "### Многослойный перцептрон\n",
    "\n",
    "Напомним, мы задаем мнолослойный перцептрон как сложную функцию, в которой используются линейные операции и поточечные нелинейные преобразования. Если входные данные (признаковое описание объекта) заданы вектором $x$, то функция перцептрона с одним скрытым слоем выглядит следующим образом:\n",
    "$$\n",
    "F(x) = \\Psi\\left(\\phi\\left( {x}\\cdot\\theta_1 + b_1 \\right)\\cdot\\theta_2 + b_2\\right),\n",
    "$$\n",
    "где $x$ имеется в виду без дополнительного единичного признака; $\\phi$ - функция активации скрытого слоя; $\\Psi$ - функция активации выходного слоя перцептрона.\n",
    "\n",
    "Напомним также, что в задаче жесткой многоклассовой классификации на $K$ классов допустим вариант формулировки модели, такой что:\n",
    "- количество признаков целевой переменной совпадает с количеством классов $K$;\n",
    "- в качестве функции активации $\\Psi$ может использоваться `softmax`:\n",
    "$$\n",
    "\\Psi(h_i) = \\frac{e^{h_i}}{\\sum_{j=1}^{K}{e^{h_j}}}\n",
    "$$\n",
    "- в качестве функции потерь может использоваться перектрестная энтропия в многоклассовом варианте (приведено в записи для одного объекта):\n",
    "$$\n",
    "{\\mathscr{L}}\\left(\\hat{y},y\\right) = \\sum_{j=1}^{K}{y_j*ln\\left(\\hat{y}_j\\right)},\n",
    "$$\n",
    "где $\\hat{y}=F(x)$\n",
    "\n",
    "В своем решении вы никак не ограничены в выборе функций активации $\\phi$ или $\\Psi$. Однако есть некоторые устоявшиеся практики применения функций `ReLU, sigmoid, tanh`."
   ]
  },
  {
   "cell_type": "markdown",
   "metadata": {
    "id": "crj5ucVAyMD2"
   },
   "source": [
    "### Особенности реализации функции `softmax`\n",
    "Несложно заметить, что как в числителе, так и в знаменателе функции `softmax` стоит экспонента некоторого числа. При этом следует понимать, что разрядность чисел с плавающей точкой `float32`, `float64` и даже `float128` не бесконечны. Свойства экспоненты таковы, что, например, для переполнения разрядности чисел `float64` (максимум  $\\sim1.78*10^{308}$) достаточно показателя, превышающего 710, что совсем немного. Поэтому в случае практической реализации функции `softmax` имеет смысл предусмотреть случаи, когда аргументы экспоненты велики или, наоборот, слишком малы.\n",
    "\n",
    "В этом ДЗ кроме прочих заданий вам нужно реализовать вычислительно стабильную версию `softmax`."
   ]
  },
  {
   "cell_type": "markdown",
   "metadata": {
    "id": "wLxcy7C2yMD3"
   },
   "source": [
    "### Особенности вычисления градиента функции потерь\n",
    "\n",
    "В этом домашнем задании, также как и в ДЗ№1 предлагается реализовывать функцию потерь и отдельные вычислительные блоки перцептрона наследующими `Differentiable` для общности восприятия этих модулей как дифференцируемых по своим аргументам. По желанию можно вычислить градиент функции потерь по параметрам модели вручную (и далее реализовать его в коде), однако предпочитаемым способом будет реализация градиента каждого из вычислительных блоков по аргументу в методе `backward()` и использование этого результата в обобщенном виде, без упрощения. Этот вариант вычисления градиента функции потерь по параметрам модели называется \"backpropagation\" (\"метод обратного распространения ошибки\" или \"метод обратной волны\" у разных авторов).\n",
    "\n",
    "Нелишним будет напомнить, что в некоторых случаях для вычисления компоненты градиента необходимо хранить значения, полученные на этапе вычисления функции $F(x)$. В вашем решении это может быть устроено по-разному. Но для тех, кто хочет придерживаться предложенного шаблона, введен атрибут `state` класса `Differentiable`."
   ]
  },
  {
   "cell_type": "markdown",
   "metadata": {
    "id": "ybaUJTYyyMD4"
   },
   "source": [
    "# Моё решение"
   ]
  },
  {
   "cell_type": "code",
   "execution_count": 1,
   "metadata": {
    "id": "aDN0ZU4nyMD4"
   },
   "outputs": [],
   "source": [
    "import numpy as np\n",
    "from tqdm import tqdm"
   ]
  },
  {
   "cell_type": "code",
   "execution_count": 2,
   "metadata": {
    "id": "dxHg0x2ayMD9"
   },
   "outputs": [],
   "source": [
    "%matplotlib inline"
   ]
  },
  {
   "cell_type": "code",
   "execution_count": 3,
   "metadata": {
    "id": "nuCqdZTHyMD_"
   },
   "outputs": [],
   "source": [
    "import matplotlib.pyplot as plt"
   ]
  },
  {
   "cell_type": "code",
   "execution_count": 4,
   "metadata": {
    "id": "4V2Tpzp3yMEC"
   },
   "outputs": [],
   "source": [
    "mnist = np.load('./mnist.npz')\n",
    "x_train = mnist['x_train']\n",
    "y_train = mnist['y_train']\n",
    "# Обратите внимание на то, что целевая переменная в виде целых чисел от 0 до 9, в то время как в формулах,\n",
    "# приведенных выше, подразумевается one-hot кодирование целевой переменной\n",
    "x_test = mnist['x_test']\n",
    "y_test = mnist['y_test']"
   ]
  },
  {
   "cell_type": "code",
   "execution_count": 5,
   "metadata": {
    "colab": {
     "base_uri": "https://localhost:8080/"
    },
    "id": "yto9jMzJyMEF",
    "outputId": "a426d5b4-392f-49b7-f165-6018ca7f9fdd"
   },
   "outputs": [
    {
     "data": {
      "text/plain": [
       "(10000, 28, 28)"
      ]
     },
     "execution_count": 5,
     "metadata": {
      "tags": []
     },
     "output_type": "execute_result"
    }
   ],
   "source": [
    "x_test.shape"
   ]
  },
  {
   "cell_type": "code",
   "execution_count": 6,
   "metadata": {
    "colab": {
     "base_uri": "https://localhost:8080/"
    },
    "id": "9qa6FPS9yMEI",
    "outputId": "85645b94-2b83-48cf-cc49-b7774ef9efb1"
   },
   "outputs": [
    {
     "data": {
      "text/plain": [
       "(10000,)"
      ]
     },
     "execution_count": 6,
     "metadata": {
      "tags": []
     },
     "output_type": "execute_result"
    }
   ],
   "source": [
    "y_test.shape"
   ]
  },
  {
   "cell_type": "code",
   "execution_count": 6,
   "metadata": {
    "id": "ZLKKbeUzyMEL"
   },
   "outputs": [],
   "source": []
  },
  {
   "cell_type": "code",
   "execution_count": 7,
   "metadata": {
    "colab": {
     "base_uri": "https://localhost:8080/",
     "height": 282
    },
    "id": "dbGNXZIxyMEO",
    "outputId": "54868f75-1cdc-4534-dc96-2108b5a2ce51"
   },
   "outputs": [
    {
     "data": {
      "image/png": "[encoded data removed]",
      "text/plain": [
       "<Figure size 432x288 with 1 Axes>"
      ]
     },
     "metadata": {
      "needs_background": "light",
      "tags": []
     },
     "output_type": "display_data"
    },
    {
     "name": "stdout",
     "output_type": "stream",
     "text": [
      "5\n"
     ]
    }
   ],
   "source": [
    "plt.imshow(x_train[0, :, :]) # пример данных\n",
    "plt.show()\n",
    "print(y_train[0]) # такргетное значение"
   ]
  },
  {
   "cell_type": "code",
   "execution_count": 8,
   "metadata": {
    "id": "FI7zsiDuyMEQ"
   },
   "outputs": [],
   "source": [
    "X_train = x_train.reshape([-1, 28 * 28]) # переводим трёхмерный тензор в двумерный\n",
    "X_test = x_test.reshape([-1, 28 * 28])"
   ]
  },
  {
   "cell_type": "code",
   "execution_count": 9,
   "metadata": {
    "colab": {
     "base_uri": "https://localhost:8080/"
    },
    "id": "qjX3LGVFyMET",
    "outputId": "f56d4dfa-41cd-4903-b635-7a0f9f50aecf"
   },
   "outputs": [
    {
     "data": {
      "text/plain": [
       "(60000, 784)"
      ]
     },
     "execution_count": 9,
     "metadata": {
      "tags": []
     },
     "output_type": "execute_result"
    }
   ],
   "source": [
    "X_train.shape"
   ]
  },
  {
   "cell_type": "code",
   "execution_count": 77,
   "metadata": {
    "id": "VDDhkDqUyMEW"
   },
   "outputs": [],
   "source": [
    "class Differentiable:\n",
    "    def __init__(self):\n",
    "        self.state = None\n",
    "        pass\n",
    "    \n",
    "    def forward(self, **kwargs):\n",
    "        raise NotImplementedError()\n",
    "    \n",
    "    def backward(self, **kwargs):\n",
    "        raise NotImplementedError()"
   ]
  },
  {
   "cell_type": "markdown",
   "metadata": {
    "id": "po4u6MtbyMEY"
   },
   "source": [
    "в качестве функции потерь используем перектрестную энтропию в многоклассовом варианте:\n",
    "$$\n",
    "{\\mathscr{L}}\\left(\\hat{y},y\\right) = \\sum_{j=1}^{K}{y_j*ln\\left(\\hat{y}_j\\right)},\n",
    "$$\n",
    "где $\\hat{y}=F(x)$, то есть вероятность принадлежать классу, которую предсказывает наша модель. В векторном виде $\\vec{y^T}  \\ln \\vec{\\hat{y}}$. Градиент по входному значению $ \\vec{\\hat{y}} $ равен $ \\frac{\\vec{y}}{\\hat{y}} $"
   ]
  },
  {
   "cell_type": "code",
   "execution_count": 118,
   "metadata": {
    "id": "2RXUe0YHyMEZ"
   },
   "outputs": [],
   "source": [
    "class loss(Differentiable):\n",
    "    def __init__(self):\n",
    "        super(loss, self).__init__()\n",
    "        \n",
    "    def __call__(self, y_true, y_pred):\n",
    "        # этот метод предназначен для вычисления значения целевой переменной\n",
    "        return self.forward(y_true, y_pred)\n",
    "    \n",
    "    def forward(self, y_true, y_pred):\n",
    "        # Этот метод реализует вычисление значения функции потерь\n",
    "        # Подсказка: метод должен возвращать единственный скаляр - значение функции потерь\n",
    "        loss_value = 0.0\n",
    "        self.state = 0.0\n",
    "        \n",
    "        ### YOUR CODE HERE\n",
    "        y_predT = np.log(y_pred).T\n",
    "        loss_value = sum(y_true.dot(y_predT)[0])\n",
    "                \n",
    "        return -loss_value\n",
    "    \n",
    "    \n",
    "    def backward(self, y_true, y_pred):\n",
    "        # Этот метод реализует вычисление градиента функции потерь по аргументу y_pred\n",
    "        # Подсказка: метод должен возвращать вектор градиента функции потерь\n",
    "        #           размерностью, совпадающей с размерностью аргумента y_pred\n",
    "        \n",
    "        partial_grad = np.zeros_like(y_pred)\n",
    "        \n",
    "        ### YOUR CODE HERE\n",
    "        #print(y_true.shape)\n",
    "        #print(y_true)\n",
    "        \n",
    "        partial_grad = -y_true / y_pred\n",
    "        \n",
    "        return partial_grad"
   ]
  },
  {
   "cell_type": "markdown",
   "metadata": {
    "id": "okidTMFWyMEb"
   },
   "source": [
    "Этот класс мы прописали в предыдущем задании. Только теперь в backward реализуем вычисление градиента абстрактно от входного вектора"
   ]
  },
  {
   "cell_type": "code",
   "execution_count": 119,
   "metadata": {
    "id": "eBXKlVRPyMEc"
   },
   "outputs": [],
   "source": [
    "class Linear(Differentiable):\n",
    "    def __init__(self):\n",
    "        super(Linear, self).__init__()\n",
    "        self.theta = None\n",
    "    \n",
    "    def __call__(self, X):\n",
    "        # этот метод предназначен для вычисления значения целевой переменной\n",
    "        return self.forward(X)\n",
    "    \n",
    "    def backward(self, y_in):\n",
    "        # Этот метод реализует вычисление компоненты градиента функции потерь\n",
    "        \n",
    "        partial_grad = 0.0\n",
    "        \n",
    "        ### YOUR CODE HERE\n",
    "        partial_grad = y_in\n",
    "        \n",
    "        return partial_grad\n",
    "    \n",
    "    def forward(self, X):\n",
    "        # этот метод предназначен для применения модели к данным\n",
    "        assert X.ndim == 2, \"X should be 2-dimensional: (N of objects, n of features)\"\n",
    "        \n",
    "        if (self.theta is None):\n",
    "            # Если вектор параметров еще не инициализирован, его следует инициализировать\n",
    "            # Подсказка: длина вектора параметров может быть получена из размера матрицы X\n",
    "            self.theta = np.random.normal(scale=0.01, size = (X.shape[1], 100))\n",
    "        \n",
    "        \n",
    "        # Здесь следует собственно применить модель к входным данным\n",
    "        # Подсказка: удобно расширить матрицу X дополнительным признаком,\n",
    "        #            чтобы применять матричные операции, очень эффективно реализованные в numpy\n",
    "        \n",
    "        y_pred = 0.0\n",
    "        y_pred = X.dot(self.theta)\n",
    "        self.state = y_pred # сохраняем результат вычисления функции на данном этапе\n",
    "        \n",
    "        return y_pred"
   ]
  },
  {
   "cell_type": "code",
   "execution_count": 120,
   "metadata": {
    "id": "4jxelHiEyMEe"
   },
   "outputs": [],
   "source": [
    "class Linear_2(Differentiable):\n",
    "    def __init__(self):\n",
    "        super(Linear_2, self).__init__()\n",
    "        self.theta = None\n",
    "    \n",
    "    def __call__(self, X):\n",
    "        # этот метод предназначен для вычисления значения целевой переменной\n",
    "        return self.forward(X)\n",
    "    \n",
    "    def backward(self, y_in, flag):\n",
    "        # Этот метод реализует вычисление компоненты градиента функции потерь\n",
    "\n",
    "        partial_grad = 0.0\n",
    "        \n",
    "        if (flag == 1): # градиент по параметрам \n",
    "            partial_grad = y_in\n",
    "        else:\n",
    "            partial_grad = self.theta\n",
    "        \n",
    "        return partial_grad\n",
    "    \n",
    "    def forward(self, X):\n",
    "        # этот метод предназначен для применения модели к данным\n",
    "        assert X.ndim == 2, \"X should be 2-dimensional: (N of objects, n of features)\"\n",
    "        \n",
    "        if (self.theta is None):\n",
    "            # Если вектор параметров еще не инициализирован, его следует инициализировать\n",
    "            # Подсказка: длина вектора параметров может быть получена из размера матрицы X\n",
    "            self.theta = np.random.normal(scale=0.01, size = (100, 10))\n",
    "        \n",
    "        \n",
    "        # Здесь следует собственно применить модель к входным данным\n",
    "        # Подсказка: удобно расширить матрицу X дополнительным признаком,\n",
    "        #            чтобы применять матричные операции, очень эффективно реализованные в numpy\n",
    "        \n",
    "        y_pred = 0.0\n",
    "        y_pred =  X.dot(self.theta)\n",
    "        self.state = y_pred # сохраняем результат вычисления функции на данном этапе\n",
    "        \n",
    "        return y_pred"
   ]
  },
  {
   "cell_type": "markdown",
   "metadata": {
    "id": "SAf690MGyMEh"
   },
   "source": [
    "Возьмём функцию активации `sigmoid`\n",
    "\n",
    "$$\\begin{equation}sigmoid=\\frac{1}{1+e^{-x}}\\end{equation}$$\n",
    "Градиент этой функции находится следующим образом:\n",
    "$$ \\begin{equation}\\frac{d (sigmoid)}{d x}=-\\frac{1}{\\left(1+e^{-x}\\right)^{2}}\\left(-e^{-x}\\right)=\\frac{e^{-x}}{\\left(1+e^{-x}\\right)^{2}}\\end{equation} $$\n",
    "\n",
    "$$\\begin{equation}=\\frac{1}{1+e^{-x}}\\left(1-\\frac{1}{1+e^{-x}}\\right)=sigmoid(x)(1-sigmoid(x))\\end{equation} $$"
   ]
  },
  {
   "cell_type": "code",
   "execution_count": 121,
   "metadata": {
    "id": "j74iughpyMEh"
   },
   "outputs": [],
   "source": [
    "class Activation(Differentiable):\n",
    "    def __init__(self):\n",
    "        super(Activation, self).__init__()\n",
    "    \n",
    "    def __call__(self, X):\n",
    "        # этот метод предназначен для вычисления значения целевой переменной\n",
    "        return self.forward(X)\n",
    "    \n",
    "    def backward(self, y_in):\n",
    "        # Этот метод реализует вычисление компоненты градиента функции потерь\n",
    "        \n",
    "        partial_grad = 0.0\n",
    "        \n",
    "        ### YOUR CODE HERE\n",
    "        self.activ = Activation()\n",
    "        partial_grad = self.activ.forward(y_in) * (1 - self.activ.forward(y_in))\n",
    "        \n",
    "        return partial_grad\n",
    "    \n",
    "    def forward(self, y_in):\n",
    "        # Здесь следует собственно применить модель к входным данным\n",
    "        # Подсказка: удобно расширить матрицу X дополнительным признаком,\n",
    "        #            чтобы применять матричные операции, очень эффективно реализованные в numpy\n",
    "        \n",
    "        \n",
    "        y_pred = 1.0/(1.0 + np.exp(-y_in))\n",
    "        self.state = y_pred # сохраняем результат вычисления функции на данном этапе\n",
    "        return y_pred"
   ]
  },
  {
   "cell_type": "markdown",
   "metadata": {
    "id": "nKOgUxtPyMEk"
   },
   "source": [
    "в качестве функции активации $\\Psi$ используем `softmax`:\n",
    "$$\n",
    "\\Psi(h_i) = \\frac{e^{h_i}}{\\sum_{j=1}^{K}{e^{h_j}}}\n",
    "$$\n",
    "Как описано в условии задания `softmax` не численно стабильный и нужно рассмотреть случаи, когда показатель экспоненты либо очень большое число, или наоборот достаточно маленькое.\n",
    "\n",
    "Для защиты от этого воспользуемся свойством `softmax`, что $softmax(x) = softmax(x+c)$ для любой константы $c$. Следовательно, можем вычисть максимальный элемент в исходном векторе из всех элементов, то есть для входного вектора $x$ определим $z$ так, чтобы: $z = x - \\max(x) $ и затем будем брать `softmax` от вектора z, который будет стабильным "
   ]
  },
  {
   "cell_type": "markdown",
   "metadata": {
    "id": "xJ7j5d0qyMEk"
   },
   "source": [
    "Вычисляем градиент от `softmax`: \n",
    "\n",
    "$$\\begin{equation}\\frac{\\partial \\operatorname{smax}\\left(x_{i}\\right)}{\\partial x_{i}}=\\frac{f^{\\prime}(x) g(x)-f(x) g^{\\prime}(x)}{g(x)^{2}}\\end{equation} $$\n",
    "\n",
    "$$ \\begin{equation}=\\frac{e^{x_{i}} \\sum_{j=1}^{|X|} e^{x_{j}}-e^{x_{i}} \\frac{\\partial}{x_{i}} \\sum_{j=1}^{|X|} e^{x_{j}}}{\\left(\\sum_{j=1}^{|X|} e^{x_{j}}\\right)^{2}}\\end{equation} $$\n",
    "\n",
    "$$\\begin{equation}=\\frac{e^{x_{i}} \\sum_{j=1}^{|X|} e^{x_{j}}-\\left(e^{x_{i}}\\right)^{2}}{\\left(\\sum_{j=1}^{|X|} e^{x_{j}}\\right)^{2}}\\end{equation} $$\n",
    "\n",
    "$$ \\begin{equation}=\\left(\\frac{e^{x_{i}}}{\\sum_{j=1}^{|X|} e^{x_{j}}} \\frac{\\sum_{j=1}^{|X|} e^{x_{j}}}{\\sum_{j=1}^{|X|} e^{x_{j}}}\\right)-\\left(\\frac{e^{x_{i}}}{\\sum_{j=1}^{|X|} e^{x_{j}}} \\frac{e^{x_{i}}}{\\sum_{j=1}^{|X|} e^{x_{j}}}\\right)\\end{equation}$$\n",
    "\n",
    "$$ \\begin{equation}=\\frac{e^{x_{i}}}{\\sum_{j=1}^{|X|} e^{x_{j}}}\\left(1-\\frac{e^{x_{i}}}{\\sum_{j=1}^{|X|} e^{x_{j}}}\\right)\\end{equation}$$\n",
    "\n",
    "$$\\begin{equation}=\\operatorname{smax}\\left(x_{i}\\right)\\left(1-\\operatorname{smax}\\left(x_{i}\\right)\\right)\\end{equation} $$\n"
   ]
  },
  {
   "cell_type": "markdown",
   "metadata": {
    "id": "vHAd3PEAyMEl"
   },
   "source": [
    "В numpy: $smax(\\vec{x}) \\times (1 - smax(\\vec{x}))$ "
   ]
  },
  {
   "cell_type": "code",
   "execution_count": 122,
   "metadata": {
    "id": "Z48HFbOwyMEl"
   },
   "outputs": [],
   "source": [
    "class Softmax(Differentiable):\n",
    "    def __init__(self):\n",
    "        super(Softmax, self).__init__()\n",
    "        self.theta = None\n",
    "    \n",
    "    def __call__(self, X):\n",
    "        # этот метод предназначен для вычисления значения целевой переменной\n",
    "        return self.forward(X)\n",
    "    \n",
    "    def backward(self, y_in):\n",
    "        # Этот метод реализует вычисление компоненты градиента функции потерь\n",
    "        \n",
    "        partial_grad = 0.0\n",
    "        \n",
    "        ### YOUR CODE HERE\n",
    "        self.sm = Softmax()\n",
    "        partial_grad = self.sm.forward(y_in) * (1 - self.sm.forward(y_in))\n",
    "        return partial_grad\n",
    "    \n",
    "    def forward(self, y_in):  \n",
    "        y_pred = np.zeros_like(y_in)\n",
    "        i = 0\n",
    "        for string in y_in:\n",
    "            z = string - np.max(string) #для того чтобы сделать softmax численно стабильным\n",
    "            denominator = 0.0\n",
    "            for el in z:\n",
    "                denominator += np.exp(el)\n",
    "\n",
    "            y_pred[i] = [np.exp(a) / denominator for a in z]\n",
    "            i += 1\n",
    "        self.state = y_pred # сохраняем результат вычисления функции на данном этапе\n",
    "        return y_pred"
   ]
  },
  {
   "cell_type": "markdown",
   "metadata": {},
   "source": [
    "Напишем нашу модель"
   ]
  },
  {
   "cell_type": "code",
   "execution_count": 165,
   "metadata": {
    "id": "4I4YZn1yyMEn"
   },
   "outputs": [],
   "source": [
    "class Perceptron(Differentiable):\n",
    "    def __init__(self):\n",
    "        super(Perceptron, self).__init__()\n",
    "        self.lin_1 = Linear()\n",
    "        self.lin_2 = Linear_2()\n",
    "        self.psi   = Softmax()\n",
    "        self.fi    = Activation()\n",
    "        self.modules = [self.lin_1, self.fi, self.lin_2, self.psi] # список в каком порядке вычисляется функция\n",
    "        self.parameters = [self.lin_1.theta, self.lin_2.theta] # список параметров\n",
    "    \n",
    "    def __call__(self, X):\n",
    "        # этот метод предназначен для вычисления значения целевой переменной\n",
    "        return self.forward(X)\n",
    "    \n",
    "    def backward(self, X, loss_backward):\n",
    "        # Этот метод реализует вычисление компоненты градиента функции потерь\n",
    "        \n",
    "        #grad = [0.0, 0.0]\n",
    "        \n",
    "        \n",
    "        grad_theta2 = self.lin_2.backward(self.fi.state,1).T.dot(self.psi.backward(self.lin_2.state) * loss_backward)\n",
    "        #print(grad[0].shape)\n",
    "        grad_fitrst_part = (loss_backward * self.psi.backward(self.lin_2.state)).dot(self.lin_2.backward(self.fi.state,0).T) * self.fi.backward(self.lin_1.state)\n",
    "        grad_second_part = self.lin_1.backward(X).T.dot(grad_fitrst_part) \n",
    "        grad_theta1 = grad_second_part\n",
    "        #print(grad[1].shape)\n",
    "        \n",
    "        #partial_grad = grad\n",
    "        self.parameters = [self.lin_1.theta, self.lin_2.theta]\n",
    "        \n",
    "        return grad_theta1, grad_theta2\n",
    "    \n",
    "    def forward(self, X):\n",
    "        # Здесь следует собственно применить модель к входным данным\n",
    "        # Подсказка: удобно расширить матрицу X дополнительным признаком,\n",
    "        #            чтобы применять матричные операции, очень эффективно реализованные в numpy\n",
    "        \n",
    "        y_pred = X\n",
    "\n",
    "        if (self.lin_2.theta is not None):\n",
    "            self.lin_1.theta = self.parameters[0]\n",
    "            self.lin_2.theta = self.parameters[1]\n",
    "    \n",
    "        for el in self.modules:\n",
    "            #print(y_pred.shape)\n",
    "            y_pred = el.forward(y_pred)\n",
    "\n",
    "        self.parameters[0] = self.lin_1.theta\n",
    "        self.parameters[1] = self.lin_2.theta\n",
    "        #print(self.lin_2.theta)\n",
    "        \n",
    "        \n",
    "        return y_pred"
   ]
  },
  {
   "cell_type": "markdown",
   "metadata": {
    "id": "t2A3KU73yMEr"
   },
   "source": [
    "Задаём шаг градиентного спуска"
   ]
  },
  {
   "cell_type": "code",
   "execution_count": 166,
   "metadata": {
    "id": "u_QgjvjdyMEr"
   },
   "outputs": [],
   "source": [
    "lr = 10e-6"
   ]
  },
  {
   "cell_type": "code",
   "execution_count": 167,
   "metadata": {
    "id": "bes8CBNXyMEt"
   },
   "outputs": [],
   "source": [
    "batch_size = 5000 # выбираем размер батча"
   ]
  },
  {
   "cell_type": "markdown",
   "metadata": {},
   "source": [
    "Данные все не влезают в память и выходит ошибка memory error, поэтому бьём на батчи, после каждого прохода по данным, то есть после каждой эпохи. Подробные комментарии есть в самом коде."
   ]
  },
  {
   "cell_type": "code",
   "execution_count": 174,
   "metadata": {
    "id": "hbPXqy87yMEu"
   },
   "outputs": [],
   "source": [
    "def train_loop(X, y, model, loss_fn, x_test, y_test, epochs=10):\n",
    "    loss_history = []\n",
    "    loss_history_test = []\n",
    "    pbar = tqdm(total=epochs)\n",
    "    for epoch in range(epochs):\n",
    "        \n",
    "        order = np.random.permutation(len(X)) # каждую эпоху перемешиваем\n",
    "                # порядок примеров\n",
    "        batch_loss = []\n",
    "        for start_index in range(0, len(X), batch_size): # градиентый шаг делаем для train данных размера batch\n",
    "            batch_indexes = order[start_index:start_index+batch_size]\n",
    "            \n",
    "            X_batch = X[batch_indexes]\n",
    "            y_batch = y[batch_indexes]\n",
    "\n",
    "            y_pred = model(X_batch) # получили y_pred, что предсказала наша модель\n",
    "            loss_value = loss_fn(y_batch, y_pred)\n",
    "            print(loss_value)\n",
    "            loss_backward = loss_fn.backward(y_batch,y_pred) # подсчитали градиент в лоссе\n",
    "            #print(loss_backward.shape)\n",
    "            grad_theta1, grad_theta2 = model.backward(X_batch, loss_backward)\n",
    "\n",
    "            model.parameters[0] = model.parameters[0] - lr * grad_theta1 # сделали градиентный шаг\n",
    "            model.parameters[1] = model.parameters[1] - lr * grad_theta2\n",
    "            \n",
    "            batch_loss.append(loss_value)\n",
    "        y_pred_test = model(x_test)\n",
    "        test_loss = loss_fn(y_test, y_pred_test) # считаем лосс на тесте после каждой эпохи\n",
    "        loss_history_test.append(test_loss)\n",
    "        loss_history.append(np.mean(batch_loss)) # усредняем лосс по батчам, чтобы получить лосс за 1 эпоху\n",
    "        pbar.update(1)\n",
    "        pbar.set_postfix({'loss': np.mean(batch_loss)})\n",
    "    pbar.close()\n",
    "    return loss_history, loss_history_test"
   ]
  },
  {
   "cell_type": "markdown",
   "metadata": {
    "id": "iUHdmF9ehF33"
   },
   "source": [
    "Добавляем баес для тестовой матрицы"
   ]
  },
  {
   "cell_type": "code",
   "execution_count": 175,
   "metadata": {
    "id": "GGlaUwh0yMEw"
   },
   "outputs": [],
   "source": [
    "bias = np.ones((X_train.shape[0], 1))\n",
    "Xtr = np.hstack((X_train, bias))"
   ]
  },
  {
   "cell_type": "markdown",
   "metadata": {
    "id": "N5BHSPtPyMEy"
   },
   "source": [
    "Для того, чтобы использовать софтмакс на выходе делаем onehot encoding"
   ]
  },
  {
   "cell_type": "code",
   "execution_count": 176,
   "metadata": {
    "id": "tCkGp_DKVfiT"
   },
   "outputs": [],
   "source": [
    "def To_one_hot_encoding(y):\n",
    "    y_one_hot = np.zeros((y.shape[0], 10))\n",
    "    for i in range(len(y_one_hot)):\n",
    "        y_one_hot[i][y[i]] = 1\n",
    "    return y_one_hot"
   ]
  },
  {
   "cell_type": "code",
   "execution_count": 177,
   "metadata": {
    "colab": {
     "base_uri": "https://localhost:8080/"
    },
    "id": "uZQqO8qIWDCQ",
    "outputId": "6be47268-0943-436c-c613-9ca2c3575402"
   },
   "outputs": [
    {
     "name": "stdout",
     "output_type": "stream",
     "text": [
      "[0. 0. 0. 0. 0. 1. 0. 0. 0. 0.]\n",
      "5\n"
     ]
    }
   ],
   "source": [
    "y_train = np.array(y_train)\n",
    "y_train_one_hot = To_one_hot_encoding(y_train)\n",
    "y_test = np.array(y_test)\n",
    "y_test_one_hot = To_one_hot_encoding(y_test)\n",
    "print(y_train_one_hot[0])\n",
    "print(y_train[0])"
   ]
  },
  {
   "cell_type": "code",
   "execution_count": 178,
   "metadata": {
    "colab": {
     "base_uri": "https://localhost:8080/"
    },
    "id": "Yzrs_95bg0qQ",
    "outputId": "66a9b2ea-4994-4270-9b59-1283f9440cd3"
   },
   "outputs": [
    {
     "data": {
      "text/plain": [
       "(10000, 785)"
      ]
     },
     "execution_count": 178,
     "metadata": {
      "tags": []
     },
     "output_type": "execute_result"
    }
   ],
   "source": [
    "bias = np.ones((X_test.shape[0], 1))\n",
    "Xtest = np.hstack((X_test, bias))\n",
    "Xtest.shape"
   ]
  },
  {
   "cell_type": "markdown",
   "metadata": {},
   "source": [
    "Начинаем обучение"
   ]
  },
  {
   "cell_type": "code",
   "execution_count": 179,
   "metadata": {
    "colab": {
     "base_uri": "https://localhost:8080/"
    },
    "id": "vBvkmz7QyME2",
    "outputId": "b687d16b-172c-4a71-cd71-30dd36d2b57d"
   },
   "outputs": [
    {
     "name": "stderr",
     "output_type": "stream",
     "text": [
      "\n",
      "\n",
      "\n",
      "\n",
      "\n",
      "\n",
      "\n",
      "\n",
      "\n",
      "\n",
      "\n",
      "\n",
      "\n",
      "\n",
      "\n",
      "\n",
      "\n",
      "\n",
      "\n",
      "  0%|          | 0/20 [00:00<?, ?it/s]\u001b[A\u001b[A\u001b[A\u001b[A\u001b[A\u001b[A\u001b[A\u001b[A\u001b[A\u001b[A\u001b[A\u001b[A\u001b[A\u001b[A\u001b[A\u001b[A\u001b[A\u001b[A\u001b[A"
     ]
    },
    {
     "name": "stdout",
     "output_type": "stream",
     "text": [
      "11619.00957534076\n",
      "11663.048563531844\n",
      "11048.635988119564\n",
      "11758.938213053958\n",
      "11892.506959251508\n",
      "10947.199947364163\n",
      "11165.56704081825\n",
      "11583.211064889872\n",
      "10352.84407750587\n",
      "11201.083398267067\n",
      "9847.594913876357\n",
      "11705.945933119943\n"
     ]
    },
    {
     "name": "stderr",
     "output_type": "stream",
     "text": [
      "\n",
      "\n",
      "\n",
      "\n",
      "\n",
      "\n",
      "\n",
      "\n",
      "\n",
      "\n",
      "\n",
      "\n",
      "\n",
      "\n",
      "\n",
      "\n",
      "\n",
      "\n",
      "\n",
      "  5%|▌         | 1/20 [00:24<07:45, 24.47s/it]\u001b[A\u001b[A\u001b[A\u001b[A\u001b[A\u001b[A\u001b[A\u001b[A\u001b[A\u001b[A\u001b[A\u001b[A\u001b[A\u001b[A\u001b[A\u001b[A\u001b[A\u001b[A\u001b[A\n",
      "\n",
      "\n",
      "\n",
      "\n",
      "\n",
      "\n",
      "\n",
      "\n",
      "\n",
      "\n",
      "\n",
      "\n",
      "\n",
      "\n",
      "\n",
      "\n",
      "\n",
      "\n",
      "  5%|▌         | 1/20 [00:24<07:45, 24.47s/it, loss=1.12e+4]\u001b[A\u001b[A\u001b[A\u001b[A\u001b[A\u001b[A\u001b[A\u001b[A\u001b[A\u001b[A\u001b[A\u001b[A\u001b[A\u001b[A\u001b[A\u001b[A\u001b[A\u001b[A\u001b[A"
     ]
    },
    {
     "name": "stdout",
     "output_type": "stream",
     "text": [
      "11977.968011177476\n",
      "11855.4149149035\n",
      "12129.938786467286\n",
      "11138.938483849652\n",
      "11020.804018910801\n",
      "12473.083740361762\n",
      "12361.847128824656\n",
      "11646.317446527102\n",
      "10987.122769714908\n",
      "11705.953105276589\n",
      "11876.18682490475\n",
      "8330.034656280643\n"
     ]
    },
    {
     "name": "stderr",
     "output_type": "stream",
     "text": [
      "\n",
      "\n",
      "\n",
      "\n",
      "\n",
      "\n",
      "\n",
      "\n",
      "\n",
      "\n",
      "\n",
      "\n",
      "\n",
      "\n",
      "\n",
      "\n",
      "\n",
      "\n",
      "\n",
      " 10%|█         | 2/20 [00:47<07:10, 23.90s/it, loss=1.12e+4]\u001b[A\u001b[A\u001b[A\u001b[A\u001b[A\u001b[A\u001b[A\u001b[A\u001b[A\u001b[A\u001b[A\u001b[A\u001b[A\u001b[A\u001b[A\u001b[A\u001b[A\u001b[A\u001b[A\n",
      "\n",
      "\n",
      "\n",
      "\n",
      "\n",
      "\n",
      "\n",
      "\n",
      "\n",
      "\n",
      "\n",
      "\n",
      "\n",
      "\n",
      "\n",
      "\n",
      "\n",
      "\n",
      " 10%|█         | 2/20 [00:47<07:10, 23.90s/it, loss=1.15e+4]\u001b[A\u001b[A\u001b[A\u001b[A\u001b[A\u001b[A\u001b[A\u001b[A\u001b[A\u001b[A\u001b[A\u001b[A\u001b[A\u001b[A\u001b[A\u001b[A\u001b[A\u001b[A\u001b[A"
     ]
    },
    {
     "name": "stdout",
     "output_type": "stream",
     "text": [
      "11876.175234646977\n",
      "11745.569980515907\n",
      "12005.496523846292\n",
      "10674.851331052345\n",
      "12373.41471661789\n",
      "12297.43156746017\n",
      "12543.98612499598\n",
      "12199.085376674397\n",
      "10990.154967368506\n",
      "10481.424867336782\n",
      "15867.086186058736\n",
      "12343.233034080884\n"
     ]
    },
    {
     "name": "stderr",
     "output_type": "stream",
     "text": [
      "\n",
      "\n",
      "\n",
      "\n",
      "\n",
      "\n",
      "\n",
      "\n",
      "\n",
      "\n",
      "\n",
      "\n",
      "\n",
      "\n",
      "\n",
      "\n",
      "\n",
      "\n",
      "\n",
      " 15%|█▌        | 3/20 [01:09<06:36, 23.34s/it, loss=1.15e+4]\u001b[A\u001b[A\u001b[A\u001b[A\u001b[A\u001b[A\u001b[A\u001b[A\u001b[A\u001b[A\u001b[A\u001b[A\u001b[A\u001b[A\u001b[A\u001b[A\u001b[A\u001b[A\u001b[A\n",
      "\n",
      "\n",
      "\n",
      "\n",
      "\n",
      "\n",
      "\n",
      "\n",
      "\n",
      "\n",
      "\n",
      "\n",
      "\n",
      "\n",
      "\n",
      "\n",
      "\n",
      "\n",
      " 15%|█▌        | 3/20 [01:09<06:36, 23.34s/it, loss=1.21e+4]\u001b[A\u001b[A\u001b[A\u001b[A\u001b[A\u001b[A\u001b[A\u001b[A\u001b[A\u001b[A\u001b[A\u001b[A\u001b[A\u001b[A\u001b[A\u001b[A\u001b[A\u001b[A\u001b[A"
     ]
    },
    {
     "name": "stdout",
     "output_type": "stream",
     "text": [
      "12402.640847174178\n",
      "12593.655228583673\n",
      "10818.456507670575\n",
      "12070.620060797857\n",
      "12164.710794824123\n",
      "12557.164909630555\n",
      "12613.36288893578\n",
      "12444.937402365766\n",
      "10817.233389325966\n",
      "8003.34253288545\n",
      "17035.388362716436\n",
      "12049.99837342205\n"
     ]
    },
    {
     "name": "stderr",
     "output_type": "stream",
     "text": [
      "\n",
      "\n",
      "\n",
      "\n",
      "\n",
      "\n",
      "\n",
      "\n",
      "\n",
      "\n",
      "\n",
      "\n",
      "\n",
      "\n",
      "\n",
      "\n",
      "\n",
      "\n",
      "\n",
      " 20%|██        | 4/20 [01:30<06:04, 22.77s/it, loss=1.21e+4]\u001b[A\u001b[A\u001b[A\u001b[A\u001b[A\u001b[A\u001b[A\u001b[A\u001b[A\u001b[A\u001b[A\u001b[A\u001b[A\u001b[A\u001b[A\u001b[A\u001b[A\u001b[A\u001b[A\n",
      "\n",
      "\n",
      "\n",
      "\n",
      "\n",
      "\n",
      "\n",
      "\n",
      "\n",
      "\n",
      "\n",
      "\n",
      "\n",
      "\n",
      "\n",
      "\n",
      "\n",
      "\n",
      " 20%|██        | 4/20 [01:30<06:04, 22.77s/it, loss=1.21e+4]\u001b[A\u001b[A\u001b[A\u001b[A\u001b[A\u001b[A\u001b[A\u001b[A\u001b[A\u001b[A\u001b[A\u001b[A\u001b[A\u001b[A\u001b[A\u001b[A\u001b[A\u001b[A\u001b[A"
     ]
    },
    {
     "name": "stdout",
     "output_type": "stream",
     "text": [
      "7983.909853051819\n",
      "12276.183125134661\n",
      "12741.464616404106\n",
      "12385.14623246953\n",
      "8020.401232240738\n",
      "10691.497942057807\n",
      "10074.272212914935\n",
      "12863.253615702191\n",
      "11662.806199550327\n",
      "12912.612429526638\n",
      "12572.46140721228\n",
      "11936.718426721442\n"
     ]
    },
    {
     "name": "stderr",
     "output_type": "stream",
     "text": [
      "\n",
      "\n",
      "\n",
      "\n",
      "\n",
      "\n",
      "\n",
      "\n",
      "\n",
      "\n",
      "\n",
      "\n",
      "\n",
      "\n",
      "\n",
      "\n",
      "\n",
      "\n",
      "\n",
      " 25%|██▌       | 5/20 [01:52<05:39, 22.62s/it, loss=1.21e+4]\u001b[A\u001b[A\u001b[A\u001b[A\u001b[A\u001b[A\u001b[A\u001b[A\u001b[A\u001b[A\u001b[A\u001b[A\u001b[A\u001b[A\u001b[A\u001b[A\u001b[A\u001b[A\u001b[A\n",
      "\n",
      "\n",
      "\n",
      "\n",
      "\n",
      "\n",
      "\n",
      "\n",
      "\n",
      "\n",
      "\n",
      "\n",
      "\n",
      "\n",
      "\n",
      "\n",
      "\n",
      "\n",
      " 25%|██▌       | 5/20 [01:52<05:39, 22.62s/it, loss=1.13e+4]\u001b[A\u001b[A\u001b[A\u001b[A\u001b[A\u001b[A\u001b[A\u001b[A\u001b[A\u001b[A\u001b[A\u001b[A\u001b[A\u001b[A\u001b[A\u001b[A\u001b[A\u001b[A\u001b[A"
     ]
    },
    {
     "name": "stdout",
     "output_type": "stream",
     "text": [
      "11896.051391724966\n",
      "10082.881556975191\n",
      "8010.707764635213\n",
      "10670.766336355378\n",
      "17958.490908916854\n",
      "8031.333530224453\n",
      "11854.504616154543\n",
      "12063.411792738898\n",
      "12841.799202851633\n",
      "11889.181995727275\n",
      "10051.880817318406\n",
      "12613.052191146931\n"
     ]
    },
    {
     "name": "stderr",
     "output_type": "stream",
     "text": [
      "\n",
      "\n",
      "\n",
      "\n",
      "\n",
      "\n",
      "\n",
      "\n",
      "\n",
      "\n",
      "\n",
      "\n",
      "\n",
      "\n",
      "\n",
      "\n",
      "\n",
      "\n",
      "\n",
      " 30%|███       | 6/20 [02:14<05:14, 22.43s/it, loss=1.13e+4]\u001b[A\u001b[A\u001b[A\u001b[A\u001b[A\u001b[A\u001b[A\u001b[A\u001b[A\u001b[A\u001b[A\u001b[A\u001b[A\u001b[A\u001b[A\u001b[A\u001b[A\u001b[A\u001b[A\n",
      "\n",
      "\n",
      "\n",
      "\n",
      "\n",
      "\n",
      "\n",
      "\n",
      "\n",
      "\n",
      "\n",
      "\n",
      "\n",
      "\n",
      "\n",
      "\n",
      "\n",
      "\n",
      " 30%|███       | 6/20 [02:14<05:14, 22.43s/it, loss=1.15e+4]\u001b[A\u001b[A\u001b[A\u001b[A\u001b[A\u001b[A\u001b[A\u001b[A\u001b[A\u001b[A\u001b[A\u001b[A\u001b[A\u001b[A\u001b[A\u001b[A\u001b[A\u001b[A\u001b[A"
     ]
    },
    {
     "name": "stdout",
     "output_type": "stream",
     "text": [
      "12114.433758407968\n",
      "10755.891418537822\n",
      "18289.232635524168\n",
      "10006.991767863925\n",
      "12443.107353286945\n",
      "12300.935131819564\n",
      "11886.665113889538\n",
      "12145.599161392262\n",
      "11981.244232924373\n",
      "9790.40688078712\n",
      "9832.323687460712\n",
      "11868.798589493588\n"
     ]
    },
    {
     "name": "stderr",
     "output_type": "stream",
     "text": [
      "\n",
      "\n",
      "\n",
      "\n",
      "\n",
      "\n",
      "\n",
      "\n",
      "\n",
      "\n",
      "\n",
      "\n",
      "\n",
      "\n",
      "\n",
      "\n",
      "\n",
      "\n",
      "\n",
      " 35%|███▌      | 7/20 [02:36<04:50, 22.37s/it, loss=1.15e+4]\u001b[A\u001b[A\u001b[A\u001b[A\u001b[A\u001b[A\u001b[A\u001b[A\u001b[A\u001b[A\u001b[A\u001b[A\u001b[A\u001b[A\u001b[A\u001b[A\u001b[A\u001b[A\u001b[A\n",
      "\n",
      "\n",
      "\n",
      "\n",
      "\n",
      "\n",
      "\n",
      "\n",
      "\n",
      "\n",
      "\n",
      "\n",
      "\n",
      "\n",
      "\n",
      "\n",
      "\n",
      "\n",
      " 35%|███▌      | 7/20 [02:37<04:50, 22.37s/it, loss=1.2e+4] \u001b[A\u001b[A\u001b[A\u001b[A\u001b[A\u001b[A\u001b[A\u001b[A\u001b[A\u001b[A\u001b[A\u001b[A\u001b[A\u001b[A\u001b[A\u001b[A\u001b[A\u001b[A\u001b[A"
     ]
    },
    {
     "name": "stdout",
     "output_type": "stream",
     "text": [
      "11767.456685223115\n",
      "12885.941228088846\n",
      "10659.568006203517\n",
      "10617.552058935453\n",
      "12637.513066070127\n",
      "11850.672601869604\n",
      "12502.048342959308\n",
      "9994.238481583936\n",
      "12353.450214066339\n",
      "19335.05819266127\n",
      "12534.544177186566\n",
      "10547.856752526497\n"
     ]
    },
    {
     "name": "stderr",
     "output_type": "stream",
     "text": [
      "\n",
      "\n",
      "\n",
      "\n",
      "\n",
      "\n",
      "\n",
      "\n",
      "\n",
      "\n",
      "\n",
      "\n",
      "\n",
      "\n",
      "\n",
      "\n",
      "\n",
      "\n",
      "\n",
      " 40%|████      | 8/20 [02:59<04:30, 22.54s/it, loss=1.2e+4]\u001b[A\u001b[A\u001b[A\u001b[A\u001b[A\u001b[A\u001b[A\u001b[A\u001b[A\u001b[A\u001b[A\u001b[A\u001b[A\u001b[A\u001b[A\u001b[A\u001b[A\u001b[A\u001b[A\n",
      "\n",
      "\n",
      "\n",
      "\n",
      "\n",
      "\n",
      "\n",
      "\n",
      "\n",
      "\n",
      "\n",
      "\n",
      "\n",
      "\n",
      "\n",
      "\n",
      "\n",
      "\n",
      " 40%|████      | 8/20 [02:59<04:30, 22.54s/it, loss=1.23e+4]\u001b[A\u001b[A\u001b[A\u001b[A\u001b[A\u001b[A\u001b[A\u001b[A\u001b[A\u001b[A\u001b[A\u001b[A\u001b[A\u001b[A\u001b[A\u001b[A\u001b[A\u001b[A\u001b[A"
     ]
    },
    {
     "name": "stdout",
     "output_type": "stream",
     "text": [
      "8037.6462101537245\n",
      "19261.465191788455\n",
      "12902.122528501957\n",
      "11494.166126322734\n",
      "12057.215529765535\n",
      "9866.62874224195\n",
      "8053.251498529784\n",
      "9983.096484595248\n",
      "11448.772001319676\n",
      "9841.758190879364\n",
      "8247.517587446886\n",
      "12940.450717457681\n"
     ]
    },
    {
     "name": "stderr",
     "output_type": "stream",
     "text": [
      "\n",
      "\n",
      "\n",
      "\n",
      "\n",
      "\n",
      "\n",
      "\n",
      "\n",
      "\n",
      "\n",
      "\n",
      "\n",
      "\n",
      "\n",
      "\n",
      "\n",
      "\n",
      "\n",
      " 45%|████▌     | 9/20 [03:22<04:07, 22.50s/it, loss=1.23e+4]\u001b[A\u001b[A\u001b[A\u001b[A\u001b[A\u001b[A\u001b[A\u001b[A\u001b[A\u001b[A\u001b[A\u001b[A\u001b[A\u001b[A\u001b[A\u001b[A\u001b[A\u001b[A\u001b[A\n",
      "\n",
      "\n",
      "\n",
      "\n",
      "\n",
      "\n",
      "\n",
      "\n",
      "\n",
      "\n",
      "\n",
      "\n",
      "\n",
      "\n",
      "\n",
      "\n",
      "\n",
      "\n",
      " 45%|████▌     | 9/20 [03:22<04:07, 22.50s/it, loss=1.12e+4]\u001b[A\u001b[A\u001b[A\u001b[A\u001b[A\u001b[A\u001b[A\u001b[A\u001b[A\u001b[A\u001b[A\u001b[A\u001b[A\u001b[A\u001b[A\u001b[A\u001b[A\u001b[A\u001b[A"
     ]
    },
    {
     "name": "stdout",
     "output_type": "stream",
     "text": [
      "10558.917814986944\n",
      "11869.28262400577\n",
      "12921.40356159963\n",
      "12879.129399564239\n",
      "11906.86938494529\n",
      "9942.906046497921\n",
      "19816.913433246995\n",
      "7939.451759012535\n",
      "12679.497700463273\n",
      "12106.403753557419\n",
      "12055.264548997602\n",
      "9757.748997249\n"
     ]
    },
    {
     "name": "stderr",
     "output_type": "stream",
     "text": [
      "\n",
      "\n",
      "\n",
      "\n",
      "\n",
      "\n",
      "\n",
      "\n",
      "\n",
      "\n",
      "\n",
      "\n",
      "\n",
      "\n",
      "\n",
      "\n",
      "\n",
      "\n",
      "\n",
      " 50%|█████     | 10/20 [03:44<03:44, 22.47s/it, loss=1.12e+4]\u001b[A\u001b[A\u001b[A\u001b[A\u001b[A\u001b[A\u001b[A\u001b[A\u001b[A\u001b[A\u001b[A\u001b[A\u001b[A\u001b[A\u001b[A\u001b[A\u001b[A\u001b[A\u001b[A\n",
      "\n",
      "\n",
      "\n",
      "\n",
      "\n",
      "\n",
      "\n",
      "\n",
      "\n",
      "\n",
      "\n",
      "\n",
      "\n",
      "\n",
      "\n",
      "\n",
      "\n",
      "\n",
      " 50%|█████     | 10/20 [03:44<03:44, 22.47s/it, loss=1.2e+4] \u001b[A\u001b[A\u001b[A\u001b[A\u001b[A\u001b[A\u001b[A\u001b[A\u001b[A\u001b[A\u001b[A\u001b[A\u001b[A\u001b[A\u001b[A\u001b[A\u001b[A\u001b[A\u001b[A"
     ]
    },
    {
     "name": "stdout",
     "output_type": "stream",
     "text": [
      "8091.963904169582\n",
      "12150.7721757686\n",
      "9874.306911110201\n",
      "11802.776664751651\n",
      "11624.117556368323\n",
      "12999.722559250993\n",
      "12144.640201359063\n",
      "11745.434655385152\n",
      "7968.8435719262\n",
      "11652.053616507277\n",
      "9934.985603631556\n",
      "11698.212410021042\n"
     ]
    },
    {
     "name": "stderr",
     "output_type": "stream",
     "text": [
      "\n",
      "\n",
      "\n",
      "\n",
      "\n",
      "\n",
      "\n",
      "\n",
      "\n",
      "\n",
      "\n",
      "\n",
      "\n",
      "\n",
      "\n",
      "\n",
      "\n",
      "\n",
      "\n",
      " 55%|█████▌    | 11/20 [04:07<03:22, 22.52s/it, loss=1.2e+4]\u001b[A\u001b[A\u001b[A\u001b[A\u001b[A\u001b[A\u001b[A\u001b[A\u001b[A\u001b[A\u001b[A\u001b[A\u001b[A\u001b[A\u001b[A\u001b[A\u001b[A\u001b[A\u001b[A\n",
      "\n",
      "\n",
      "\n",
      "\n",
      "\n",
      "\n",
      "\n",
      "\n",
      "\n",
      "\n",
      "\n",
      "\n",
      "\n",
      "\n",
      "\n",
      "\n",
      "\n",
      "\n",
      " 55%|█████▌    | 11/20 [04:07<03:22, 22.52s/it, loss=1.1e+4]\u001b[A\u001b[A\u001b[A\u001b[A\u001b[A\u001b[A\u001b[A\u001b[A\u001b[A\u001b[A\u001b[A\u001b[A\u001b[A\u001b[A\u001b[A\u001b[A\u001b[A\u001b[A\u001b[A"
     ]
    },
    {
     "name": "stdout",
     "output_type": "stream",
     "text": [
      "10460.616525258869\n",
      "9813.143496065075\n",
      "12849.61299298546\n",
      "8315.59543722032\n",
      "8234.302190675486\n",
      "8057.265288488182\n",
      "20656.2901385295\n",
      "7971.029226175861\n",
      "12906.623656031039\n",
      "11679.823536127993\n",
      "20631.28492527088\n",
      "8038.842937403803\n"
     ]
    },
    {
     "name": "stderr",
     "output_type": "stream",
     "text": [
      "\n",
      "\n",
      "\n",
      "\n",
      "\n",
      "\n",
      "\n",
      "\n",
      "\n",
      "\n",
      "\n",
      "\n",
      "\n",
      "\n",
      "\n",
      "\n",
      "\n",
      "\n",
      "\n",
      " 60%|██████    | 12/20 [04:29<02:58, 22.26s/it, loss=1.1e+4]\u001b[A\u001b[A\u001b[A\u001b[A\u001b[A\u001b[A\u001b[A\u001b[A\u001b[A\u001b[A\u001b[A\u001b[A\u001b[A\u001b[A\u001b[A\u001b[A\u001b[A\u001b[A\u001b[A\n",
      "\n",
      "\n",
      "\n",
      "\n",
      "\n",
      "\n",
      "\n",
      "\n",
      "\n",
      "\n",
      "\n",
      "\n",
      "\n",
      "\n",
      "\n",
      "\n",
      "\n",
      "\n",
      " 60%|██████    | 12/20 [04:29<02:58, 22.26s/it, loss=1.16e+4]\u001b[A\u001b[A\u001b[A\u001b[A\u001b[A\u001b[A\u001b[A\u001b[A\u001b[A\u001b[A\u001b[A\u001b[A\u001b[A\u001b[A\u001b[A\u001b[A\u001b[A\u001b[A\u001b[A"
     ]
    },
    {
     "name": "stdout",
     "output_type": "stream",
     "text": [
      "12708.33451292299\n",
      "8163.402642680457\n",
      "20786.419990714287\n",
      "11683.983036756848\n",
      "12016.646969446007\n",
      "11728.64482925199\n",
      "12155.174172437168\n",
      "12075.396827219154\n",
      "10710.363656168392\n",
      "10656.188748900335\n",
      "12902.737063759858\n",
      "10407.740518092378\n"
     ]
    },
    {
     "name": "stderr",
     "output_type": "stream",
     "text": [
      "\n",
      "\n",
      "\n",
      "\n",
      "\n",
      "\n",
      "\n",
      "\n",
      "\n",
      "\n",
      "\n",
      "\n",
      "\n",
      "\n",
      "\n",
      "\n",
      "\n",
      "\n",
      "\n",
      " 65%|██████▌   | 13/20 [04:50<02:34, 22.08s/it, loss=1.16e+4]\u001b[A\u001b[A\u001b[A\u001b[A\u001b[A\u001b[A\u001b[A\u001b[A\u001b[A\u001b[A\u001b[A\u001b[A\u001b[A\u001b[A\u001b[A\u001b[A\u001b[A\u001b[A\u001b[A\n",
      "\n",
      "\n",
      "\n",
      "\n",
      "\n",
      "\n",
      "\n",
      "\n",
      "\n",
      "\n",
      "\n",
      "\n",
      "\n",
      "\n",
      "\n",
      "\n",
      "\n",
      "\n",
      " 65%|██████▌   | 13/20 [04:50<02:34, 22.08s/it, loss=1.22e+4]\u001b[A\u001b[A\u001b[A\u001b[A\u001b[A\u001b[A\u001b[A\u001b[A\u001b[A\u001b[A\u001b[A\u001b[A\u001b[A\u001b[A\u001b[A\u001b[A\u001b[A\u001b[A\u001b[A"
     ]
    },
    {
     "name": "stdout",
     "output_type": "stream",
     "text": [
      "11810.995145515939\n",
      "11792.005907684133\n",
      "12030.724506189013\n",
      "21028.915071030646\n",
      "12342.17332297262\n",
      "12345.16610594599\n",
      "10540.585824100306\n",
      "12222.761254455192\n",
      "10415.625006559818\n",
      "12704.797314360323\n",
      "12003.40707138582\n",
      "12075.001066436267\n"
     ]
    },
    {
     "name": "stderr",
     "output_type": "stream",
     "text": [
      "\n",
      "\n",
      "\n",
      "\n",
      "\n",
      "\n",
      "\n",
      "\n",
      "\n",
      "\n",
      "\n",
      "\n",
      "\n",
      "\n",
      "\n",
      "\n",
      "\n",
      "\n",
      "\n",
      " 70%|███████   | 14/20 [05:13<02:14, 22.34s/it, loss=1.22e+4]\u001b[A\u001b[A\u001b[A\u001b[A\u001b[A\u001b[A\u001b[A\u001b[A\u001b[A\u001b[A\u001b[A\u001b[A\u001b[A\u001b[A\u001b[A\u001b[A\u001b[A\u001b[A\u001b[A\n",
      "\n",
      "\n",
      "\n",
      "\n",
      "\n",
      "\n",
      "\n",
      "\n",
      "\n",
      "\n",
      "\n",
      "\n",
      "\n",
      "\n",
      "\n",
      "\n",
      "\n",
      "\n",
      " 70%|███████   | 14/20 [05:13<02:14, 22.34s/it, loss=1.26e+4]\u001b[A\u001b[A\u001b[A\u001b[A\u001b[A\u001b[A\u001b[A\u001b[A\u001b[A\u001b[A\u001b[A\u001b[A\u001b[A\u001b[A\u001b[A\u001b[A\u001b[A\u001b[A\u001b[A"
     ]
    },
    {
     "name": "stdout",
     "output_type": "stream",
     "text": [
      "21165.407789698864\n",
      "12018.90925062311\n",
      "11643.833846647272\n",
      "11653.937881577913\n",
      "12690.974030736788\n",
      "8172.460800404738\n",
      "12253.045561426443\n",
      "12164.409004288464\n",
      "11906.360222941807\n",
      "21078.77279866326\n",
      "11694.585921763222\n",
      "9892.374466516538\n"
     ]
    },
    {
     "name": "stderr",
     "output_type": "stream",
     "text": [
      "\n",
      "\n",
      "\n",
      "\n",
      "\n",
      "\n",
      "\n",
      "\n",
      "\n",
      "\n",
      "\n",
      "\n",
      "\n",
      "\n",
      "\n",
      "\n",
      "\n",
      "\n",
      "\n",
      " 75%|███████▌  | 15/20 [05:36<01:52, 22.48s/it, loss=1.26e+4]\u001b[A\u001b[A\u001b[A\u001b[A\u001b[A\u001b[A\u001b[A\u001b[A\u001b[A\u001b[A\u001b[A\u001b[A\u001b[A\u001b[A\u001b[A\u001b[A\u001b[A\u001b[A\u001b[A\n",
      "\n",
      "\n",
      "\n",
      "\n",
      "\n",
      "\n",
      "\n",
      "\n",
      "\n",
      "\n",
      "\n",
      "\n",
      "\n",
      "\n",
      "\n",
      "\n",
      "\n",
      "\n",
      " 75%|███████▌  | 15/20 [05:36<01:52, 22.48s/it, loss=1.3e+4] \u001b[A\u001b[A\u001b[A\u001b[A\u001b[A\u001b[A\u001b[A\u001b[A\u001b[A\u001b[A\u001b[A\u001b[A\u001b[A\u001b[A\u001b[A\u001b[A\u001b[A\u001b[A\u001b[A"
     ]
    },
    {
     "name": "stdout",
     "output_type": "stream",
     "text": [
      "10456.384789031905\n",
      "21499.468275464777\n",
      "21509.2650976431\n",
      "12725.616502829344\n",
      "11790.319322294903\n",
      "11950.180844445966\n",
      "12910.354711691405\n",
      "12964.136246622245\n",
      "12771.767892571212\n",
      "11990.640038774936\n",
      "12848.462775721484\n",
      "11737.221323809903\n"
     ]
    },
    {
     "name": "stderr",
     "output_type": "stream",
     "text": [
      "\n",
      "\n",
      "\n",
      "\n",
      "\n",
      "\n",
      "\n",
      "\n",
      "\n",
      "\n",
      "\n",
      "\n",
      "\n",
      "\n",
      "\n",
      "\n",
      "\n",
      "\n",
      "\n",
      " 80%|████████  | 16/20 [05:58<01:28, 22.24s/it, loss=1.3e+4]\u001b[A\u001b[A\u001b[A\u001b[A\u001b[A\u001b[A\u001b[A\u001b[A\u001b[A\u001b[A\u001b[A\u001b[A\u001b[A\u001b[A\u001b[A\u001b[A\u001b[A\u001b[A\u001b[A\n",
      "\n",
      "\n",
      "\n",
      "\n",
      "\n",
      "\n",
      "\n",
      "\n",
      "\n",
      "\n",
      "\n",
      "\n",
      "\n",
      "\n",
      "\n",
      "\n",
      "\n",
      "\n",
      " 80%|████████  | 16/20 [05:58<01:28, 22.24s/it, loss=1.38e+4]\u001b[A\u001b[A\u001b[A\u001b[A\u001b[A\u001b[A\u001b[A\u001b[A\u001b[A\u001b[A\u001b[A\u001b[A\u001b[A\u001b[A\u001b[A\u001b[A\u001b[A\u001b[A\u001b[A"
     ]
    },
    {
     "name": "stdout",
     "output_type": "stream",
     "text": [
      "12079.859748766861\n",
      "11831.862137970893\n",
      "8003.667826478885\n",
      "22165.66299875396\n",
      "12847.485671363751\n",
      "11613.41359388527\n",
      "11706.166693315316\n",
      "10702.025898554799\n",
      "12056.98032606061\n",
      "12012.638605910468\n",
      "12820.268037007061\n",
      "11679.015480308937\n"
     ]
    },
    {
     "name": "stderr",
     "output_type": "stream",
     "text": [
      "\n",
      "\n",
      "\n",
      "\n",
      "\n",
      "\n",
      "\n",
      "\n",
      "\n",
      "\n",
      "\n",
      "\n",
      "\n",
      "\n",
      "\n",
      "\n",
      "\n",
      "\n",
      "\n",
      " 85%|████████▌ | 17/20 [06:20<01:06, 22.20s/it, loss=1.38e+4]\u001b[A\u001b[A\u001b[A\u001b[A\u001b[A\u001b[A\u001b[A\u001b[A\u001b[A\u001b[A\u001b[A\u001b[A\u001b[A\u001b[A\u001b[A\u001b[A\u001b[A\u001b[A\u001b[A\n",
      "\n",
      "\n",
      "\n",
      "\n",
      "\n",
      "\n",
      "\n",
      "\n",
      "\n",
      "\n",
      "\n",
      "\n",
      "\n",
      "\n",
      "\n",
      "\n",
      "\n",
      "\n",
      " 85%|████████▌ | 17/20 [06:20<01:06, 22.20s/it, loss=1.25e+4]\u001b[A\u001b[A\u001b[A\u001b[A\u001b[A\u001b[A\u001b[A\u001b[A\u001b[A\u001b[A\u001b[A\u001b[A\u001b[A\u001b[A\u001b[A\u001b[A\u001b[A\u001b[A\u001b[A"
     ]
    },
    {
     "name": "stdout",
     "output_type": "stream",
     "text": [
      "10504.283497016826\n",
      "12137.447350380593\n",
      "11664.367384507244\n",
      "10489.583698406126\n",
      "12282.43745578518\n",
      "11827.325871247436\n",
      "9609.755039229936\n",
      "12113.94055292609\n",
      "12042.47911732891\n",
      "8105.419607685263\n",
      "8026.17785594322\n",
      "12002.711353476956\n"
     ]
    },
    {
     "name": "stderr",
     "output_type": "stream",
     "text": [
      "\n",
      "\n",
      "\n",
      "\n",
      "\n",
      "\n",
      "\n",
      "\n",
      "\n",
      "\n",
      "\n",
      "\n",
      "\n",
      "\n",
      "\n",
      "\n",
      "\n",
      "\n",
      "\n",
      " 90%|█████████ | 18/20 [06:42<00:44, 22.13s/it, loss=1.25e+4]\u001b[A\u001b[A\u001b[A\u001b[A\u001b[A\u001b[A\u001b[A\u001b[A\u001b[A\u001b[A\u001b[A\u001b[A\u001b[A\u001b[A\u001b[A\u001b[A\u001b[A\u001b[A\u001b[A\n",
      "\n",
      "\n",
      "\n",
      "\n",
      "\n",
      "\n",
      "\n",
      "\n",
      "\n",
      "\n",
      "\n",
      "\n",
      "\n",
      "\n",
      "\n",
      "\n",
      "\n",
      "\n",
      " 90%|█████████ | 18/20 [06:42<00:44, 22.13s/it, loss=1.09e+4]\u001b[A\u001b[A\u001b[A\u001b[A\u001b[A\u001b[A\u001b[A\u001b[A\u001b[A\u001b[A\u001b[A\u001b[A\u001b[A\u001b[A\u001b[A\u001b[A\u001b[A\u001b[A\u001b[A"
     ]
    },
    {
     "name": "stdout",
     "output_type": "stream",
     "text": [
      "12078.966037902634\n",
      "12768.938077138015\n",
      "8195.191030712076\n",
      "22049.200203181976\n",
      "21912.512818570944\n",
      "10438.7229680398\n",
      "9624.322874435811\n",
      "11716.74423433806\n",
      "12104.411444901629\n",
      "13008.523621586215\n",
      "21964.1721223795\n",
      "11630.989169375749\n"
     ]
    },
    {
     "name": "stderr",
     "output_type": "stream",
     "text": [
      "\n",
      "\n",
      "\n",
      "\n",
      "\n",
      "\n",
      "\n",
      "\n",
      "\n",
      "\n",
      "\n",
      "\n",
      "\n",
      "\n",
      "\n",
      "\n",
      "\n",
      "\n",
      "\n",
      " 95%|█████████▌| 19/20 [07:04<00:22, 22.25s/it, loss=1.09e+4]\u001b[A\u001b[A\u001b[A\u001b[A\u001b[A\u001b[A\u001b[A\u001b[A\u001b[A\u001b[A\u001b[A\u001b[A\u001b[A\u001b[A\u001b[A\u001b[A\u001b[A\u001b[A\u001b[A\n",
      "\n",
      "\n",
      "\n",
      "\n",
      "\n",
      "\n",
      "\n",
      "\n",
      "\n",
      "\n",
      "\n",
      "\n",
      "\n",
      "\n",
      "\n",
      "\n",
      "\n",
      "\n",
      " 95%|█████████▌| 19/20 [07:04<00:22, 22.25s/it, loss=1.4e+4] \u001b[A\u001b[A\u001b[A\u001b[A\u001b[A\u001b[A\u001b[A\u001b[A\u001b[A\u001b[A\u001b[A\u001b[A\u001b[A\u001b[A\u001b[A\u001b[A\u001b[A\u001b[A\u001b[A"
     ]
    },
    {
     "name": "stdout",
     "output_type": "stream",
     "text": [
      "10584.91623993599\n",
      "12687.876208640384\n",
      "22209.02095148648\n",
      "12575.293438534809\n",
      "12186.474218104691\n",
      "7816.710390342948\n",
      "12100.950394394444\n",
      "11805.781975909023\n",
      "12785.82275875719\n",
      "7940.2523542206045\n",
      "11833.360470060712\n",
      "12725.978221326597\n"
     ]
    },
    {
     "name": "stderr",
     "output_type": "stream",
     "text": [
      "\n",
      "\n",
      "\n",
      "\n",
      "\n",
      "\n",
      "\n",
      "\n",
      "\n",
      "\n",
      "\n",
      "\n",
      "\n",
      "\n",
      "\n",
      "\n",
      "\n",
      "\n",
      "\n",
      "100%|██████████| 20/20 [07:26<00:00, 22.17s/it, loss=1.4e+4]\u001b[A\u001b[A\u001b[A\u001b[A\u001b[A\u001b[A\u001b[A\u001b[A\u001b[A\u001b[A\u001b[A\u001b[A\u001b[A\u001b[A\u001b[A\u001b[A\u001b[A\u001b[A\u001b[A\n",
      "\n",
      "\n",
      "\n",
      "\n",
      "\n",
      "\n",
      "\n",
      "\n",
      "\n",
      "\n",
      "\n",
      "\n",
      "\n",
      "\n",
      "\n",
      "\n",
      "\n",
      "\n",
      "100%|██████████| 20/20 [07:26<00:00, 22.34s/it, loss=1.23e+4]\n"
     ]
    }
   ],
   "source": [
    "obj_fn = loss()\n",
    "model = Perceptron()\n",
    "train_loss_history, test_loss_history = train_loop(Xtr, y_train_one_hot, model, obj_fn, Xtest, y_test_one_hot, epochs=20)"
   ]
  },
  {
   "cell_type": "markdown",
   "metadata": {},
   "source": [
    "построим график, как меняется лосс на трейне и на валидации от эпохи"
   ]
  },
  {
   "cell_type": "code",
   "execution_count": 182,
   "metadata": {
    "colab": {
     "base_uri": "https://localhost:8080/",
     "height": 299
    },
    "id": "L_NHJnslyME4",
    "outputId": "25871254-c2e0-40dc-cf00-f4b5f845c8a8"
   },
   "outputs": [
    {
     "data": {
      "text/plain": [
       "Text(0, 0.5, '$loss$')"
      ]
     },
     "execution_count": 182,
     "metadata": {
      "tags": []
     },
     "output_type": "execute_result"
    },
    {
     "data": {
      "image/png": "[encoded data removed]",
      "text/plain": [
       "<Figure size 432x288 with 1 Axes>"
      ]
     },
     "metadata": {
      "needs_background": "light",
      "tags": []
     },
     "output_type": "display_data"
    }
   ],
   "source": [
    "plt.plot(train_loss_history, label='loss function train') # график убывания loss функции от номера эпохи\n",
    "plt.plot(test_loss_history, label='loss function test', c='r')\n",
    "plt.legend(loc='upper left')\n",
    "plt.xlabel('$n\\_epoxa$')\n",
    "plt.ylabel('$loss$')"
   ]
  },
  {
   "cell_type": "markdown",
   "metadata": {},
   "source": [
    "Не сходится(("
   ]
  },
  {
   "cell_type": "markdown",
   "metadata": {
    "id": "Rbch8X1xyME6"
   },
   "source": [
    "# Мои выводы\n",
    "1) Всё, что написали, как видим из графика выше не заработало и loss функция на трейне не падает((( (где ошибка я не знаю, мб неправильно считаю градиент, но вроде бы всё перепроверяла) \n",
    "\n",
    "2) столкнулась с проблемой, что данные не влезали в память для потчёта и пришлось разбивать на batch\n",
    "\n",
    "3) наверное, нужно использовать регуляризацию и проблема в том, что не сходится состоит именно в этом, но не успела попробовать, да и нет идей, как тут это делать\n"
   ]
  },
  {
   "cell_type": "code",
   "execution_count": null,
   "metadata": {},
   "outputs": [],
   "source": []
  }
 ],
 "metadata": {
  "colab": {
   "collapsed_sections": [],
   "name": "HW02.ipynb",
   "provenance": [],
   "toc_visible": true
  },
  "kernelspec": {
   "display_name": "Python 3",
   "language": "python",
   "name": "python3"
  },
  "language_info": {
   "codemirror_mode": {
    "name": "ipython",
    "version": 3
   },
   "file_extension": ".py",
   "mimetype": "text/x-python",
   "name": "python",
   "nbconvert_exporter": "python",
   "pygments_lexer": "ipython3",
   "version": "3.7.3"
  }
 },
 "nbformat": 4,
 "nbformat_minor": 1
}
