{
  "nbformat": 4,
  "nbformat_minor": 0,
  "metadata": {
    "colab": {
      "name": "HW03.ipynb",
      "provenance": [],
      "toc_visible": true
    },
    "kernelspec": {
      "display_name": "Python 3",
      "language": "python",
      "name": "python3"
    },
    "language_info": {
      "codemirror_mode": {
        "name": "ipython",
        "version": 3
      },
      "file_extension": ".py",
      "mimetype": "text/x-python",
      "name": "python",
      "nbconvert_exporter": "python",
      "pygments_lexer": "ipython3",
      "version": "3.7.3"
    },
    "widgets": {
      "application/vnd.jupyter.widget-state+json": {
        "5b606fba94a84d6da6a2e8ab8ab2fe97": {
          "model_module": "@jupyter-widgets/controls",
          "model_name": "HBoxModel",
          "state": {
            "_view_name": "HBoxView",
            "_dom_classes": [],
            "_model_name": "HBoxModel",
            "_view_module": "@jupyter-widgets/controls",
            "_model_module_version": "1.5.0",
            "_view_count": null,
            "_view_module_version": "1.5.0",
            "box_style": "",
            "layout": "IPY_MODEL_ac9961fef3074bfb8188510c82adcd62",
            "_model_module": "@jupyter-widgets/controls",
            "children": [
              "IPY_MODEL_9864e500821d40aa981e992602eefe05",
              "IPY_MODEL_6f6df4cbe924451c8123b0a2792fb03b"
            ]
          }
        },
        "ac9961fef3074bfb8188510c82adcd62": {
          "model_module": "@jupyter-widgets/base",
          "model_name": "LayoutModel",
          "state": {
            "_view_name": "LayoutView",
            "grid_template_rows": null,
            "right": null,
            "justify_content": null,
            "_view_module": "@jupyter-widgets/base",
            "overflow": null,
            "_model_module_version": "1.2.0",
            "_view_count": null,
            "flex_flow": null,
            "width": null,
            "min_width": null,
            "border": null,
            "align_items": null,
            "bottom": null,
            "_model_module": "@jupyter-widgets/base",
            "top": null,
            "grid_column": null,
            "overflow_y": null,
            "overflow_x": null,
            "grid_auto_flow": null,
            "grid_area": null,
            "grid_template_columns": null,
            "flex": null,
            "_model_name": "LayoutModel",
            "justify_items": null,
            "grid_row": null,
            "max_height": null,
            "align_content": null,
            "visibility": null,
            "align_self": null,
            "height": null,
            "min_height": null,
            "padding": null,
            "grid_auto_rows": null,
            "grid_gap": null,
            "max_width": null,
            "order": null,
            "_view_module_version": "1.2.0",
            "grid_template_areas": null,
            "object_position": null,
            "object_fit": null,
            "grid_auto_columns": null,
            "margin": null,
            "display": null,
            "left": null
          }
        },
        "9864e500821d40aa981e992602eefe05": {
          "model_module": "@jupyter-widgets/controls",
          "model_name": "FloatProgressModel",
          "state": {
            "_view_name": "ProgressView",
            "style": "IPY_MODEL_75589b2f14ca4f78b87012e4f642ac4d",
            "_dom_classes": [],
            "description": "",
            "_model_name": "FloatProgressModel",
            "bar_style": "info",
            "max": 1,
            "_view_module": "@jupyter-widgets/controls",
            "_model_module_version": "1.5.0",
            "value": 1,
            "_view_count": null,
            "_view_module_version": "1.5.0",
            "orientation": "horizontal",
            "min": 0,
            "description_tooltip": null,
            "_model_module": "@jupyter-widgets/controls",
            "layout": "IPY_MODEL_9f03182ae8c243eb88a8568abe8e8fae"
          }
        },
        "6f6df4cbe924451c8123b0a2792fb03b": {
          "model_module": "@jupyter-widgets/controls",
          "model_name": "HTMLModel",
          "state": {
            "_view_name": "HTMLView",
            "style": "IPY_MODEL_9f1be2bdc38d49f8811d41119a41b4d7",
            "_dom_classes": [],
            "description": "",
            "_model_name": "HTMLModel",
            "placeholder": "​",
            "_view_module": "@jupyter-widgets/controls",
            "_model_module_version": "1.5.0",
            "value": " 9920512/? [00:19&lt;00:00, 2173439.83it/s]",
            "_view_count": null,
            "_view_module_version": "1.5.0",
            "description_tooltip": null,
            "_model_module": "@jupyter-widgets/controls",
            "layout": "IPY_MODEL_91c9a8ed96f64649a33ffee1d169f5d3"
          }
        },
        "75589b2f14ca4f78b87012e4f642ac4d": {
          "model_module": "@jupyter-widgets/controls",
          "model_name": "ProgressStyleModel",
          "state": {
            "_view_name": "StyleView",
            "_model_name": "ProgressStyleModel",
            "description_width": "initial",
            "_view_module": "@jupyter-widgets/base",
            "_model_module_version": "1.5.0",
            "_view_count": null,
            "_view_module_version": "1.2.0",
            "bar_color": null,
            "_model_module": "@jupyter-widgets/controls"
          }
        },
        "9f03182ae8c243eb88a8568abe8e8fae": {
          "model_module": "@jupyter-widgets/base",
          "model_name": "LayoutModel",
          "state": {
            "_view_name": "LayoutView",
            "grid_template_rows": null,
            "right": null,
            "justify_content": null,
            "_view_module": "@jupyter-widgets/base",
            "overflow": null,
            "_model_module_version": "1.2.0",
            "_view_count": null,
            "flex_flow": null,
            "width": null,
            "min_width": null,
            "border": null,
            "align_items": null,
            "bottom": null,
            "_model_module": "@jupyter-widgets/base",
            "top": null,
            "grid_column": null,
            "overflow_y": null,
            "overflow_x": null,
            "grid_auto_flow": null,
            "grid_area": null,
            "grid_template_columns": null,
            "flex": null,
            "_model_name": "LayoutModel",
            "justify_items": null,
            "grid_row": null,
            "max_height": null,
            "align_content": null,
            "visibility": null,
            "align_self": null,
            "height": null,
            "min_height": null,
            "padding": null,
            "grid_auto_rows": null,
            "grid_gap": null,
            "max_width": null,
            "order": null,
            "_view_module_version": "1.2.0",
            "grid_template_areas": null,
            "object_position": null,
            "object_fit": null,
            "grid_auto_columns": null,
            "margin": null,
            "display": null,
            "left": null
          }
        },
        "9f1be2bdc38d49f8811d41119a41b4d7": {
          "model_module": "@jupyter-widgets/controls",
          "model_name": "DescriptionStyleModel",
          "state": {
            "_view_name": "StyleView",
            "_model_name": "DescriptionStyleModel",
            "description_width": "",
            "_view_module": "@jupyter-widgets/base",
            "_model_module_version": "1.5.0",
            "_view_count": null,
            "_view_module_version": "1.2.0",
            "_model_module": "@jupyter-widgets/controls"
          }
        },
        "91c9a8ed96f64649a33ffee1d169f5d3": {
          "model_module": "@jupyter-widgets/base",
          "model_name": "LayoutModel",
          "state": {
            "_view_name": "LayoutView",
            "grid_template_rows": null,
            "right": null,
            "justify_content": null,
            "_view_module": "@jupyter-widgets/base",
            "overflow": null,
            "_model_module_version": "1.2.0",
            "_view_count": null,
            "flex_flow": null,
            "width": null,
            "min_width": null,
            "border": null,
            "align_items": null,
            "bottom": null,
            "_model_module": "@jupyter-widgets/base",
            "top": null,
            "grid_column": null,
            "overflow_y": null,
            "overflow_x": null,
            "grid_auto_flow": null,
            "grid_area": null,
            "grid_template_columns": null,
            "flex": null,
            "_model_name": "LayoutModel",
            "justify_items": null,
            "grid_row": null,
            "max_height": null,
            "align_content": null,
            "visibility": null,
            "align_self": null,
            "height": null,
            "min_height": null,
            "padding": null,
            "grid_auto_rows": null,
            "grid_gap": null,
            "max_width": null,
            "order": null,
            "_view_module_version": "1.2.0",
            "grid_template_areas": null,
            "object_position": null,
            "object_fit": null,
            "grid_auto_columns": null,
            "margin": null,
            "display": null,
            "left": null
          }
        },
        "f1d036e6a18f40938b34cf934c55f075": {
          "model_module": "@jupyter-widgets/controls",
          "model_name": "HBoxModel",
          "state": {
            "_view_name": "HBoxView",
            "_dom_classes": [],
            "_model_name": "HBoxModel",
            "_view_module": "@jupyter-widgets/controls",
            "_model_module_version": "1.5.0",
            "_view_count": null,
            "_view_module_version": "1.5.0",
            "box_style": "",
            "layout": "IPY_MODEL_9b364914b462428dbebf9df89b0a2bfb",
            "_model_module": "@jupyter-widgets/controls",
            "children": [
              "IPY_MODEL_b723b6d3cd094bf1a1cd876dc2eb7b67",
              "IPY_MODEL_7b1573974ccc49ed8dd4188f4f63344e"
            ]
          }
        },
        "9b364914b462428dbebf9df89b0a2bfb": {
          "model_module": "@jupyter-widgets/base",
          "model_name": "LayoutModel",
          "state": {
            "_view_name": "LayoutView",
            "grid_template_rows": null,
            "right": null,
            "justify_content": null,
            "_view_module": "@jupyter-widgets/base",
            "overflow": null,
            "_model_module_version": "1.2.0",
            "_view_count": null,
            "flex_flow": null,
            "width": null,
            "min_width": null,
            "border": null,
            "align_items": null,
            "bottom": null,
            "_model_module": "@jupyter-widgets/base",
            "top": null,
            "grid_column": null,
            "overflow_y": null,
            "overflow_x": null,
            "grid_auto_flow": null,
            "grid_area": null,
            "grid_template_columns": null,
            "flex": null,
            "_model_name": "LayoutModel",
            "justify_items": null,
            "grid_row": null,
            "max_height": null,
            "align_content": null,
            "visibility": null,
            "align_self": null,
            "height": null,
            "min_height": null,
            "padding": null,
            "grid_auto_rows": null,
            "grid_gap": null,
            "max_width": null,
            "order": null,
            "_view_module_version": "1.2.0",
            "grid_template_areas": null,
            "object_position": null,
            "object_fit": null,
            "grid_auto_columns": null,
            "margin": null,
            "display": null,
            "left": null
          }
        },
        "b723b6d3cd094bf1a1cd876dc2eb7b67": {
          "model_module": "@jupyter-widgets/controls",
          "model_name": "FloatProgressModel",
          "state": {
            "_view_name": "ProgressView",
            "style": "IPY_MODEL_d1e46cdb51ac4fae95454e3b945f06fb",
            "_dom_classes": [],
            "description": "",
            "_model_name": "FloatProgressModel",
            "bar_style": "success",
            "max": 1,
            "_view_module": "@jupyter-widgets/controls",
            "_model_module_version": "1.5.0",
            "value": 1,
            "_view_count": null,
            "_view_module_version": "1.5.0",
            "orientation": "horizontal",
            "min": 0,
            "description_tooltip": null,
            "_model_module": "@jupyter-widgets/controls",
            "layout": "IPY_MODEL_a8b4e5dee857426389ba25bd2ac3e143"
          }
        },
        "7b1573974ccc49ed8dd4188f4f63344e": {
          "model_module": "@jupyter-widgets/controls",
          "model_name": "HTMLModel",
          "state": {
            "_view_name": "HTMLView",
            "style": "IPY_MODEL_b062e11158374669930d8f3a52ac19b6",
            "_dom_classes": [],
            "description": "",
            "_model_name": "HTMLModel",
            "placeholder": "​",
            "_view_module": "@jupyter-widgets/controls",
            "_model_module_version": "1.5.0",
            "value": " 32768/? [00:00&lt;00:00, 58270.62it/s]",
            "_view_count": null,
            "_view_module_version": "1.5.0",
            "description_tooltip": null,
            "_model_module": "@jupyter-widgets/controls",
            "layout": "IPY_MODEL_cb8838e75a684016b4c03e113587b483"
          }
        },
        "d1e46cdb51ac4fae95454e3b945f06fb": {
          "model_module": "@jupyter-widgets/controls",
          "model_name": "ProgressStyleModel",
          "state": {
            "_view_name": "StyleView",
            "_model_name": "ProgressStyleModel",
            "description_width": "initial",
            "_view_module": "@jupyter-widgets/base",
            "_model_module_version": "1.5.0",
            "_view_count": null,
            "_view_module_version": "1.2.0",
            "bar_color": null,
            "_model_module": "@jupyter-widgets/controls"
          }
        },
        "a8b4e5dee857426389ba25bd2ac3e143": {
          "model_module": "@jupyter-widgets/base",
          "model_name": "LayoutModel",
          "state": {
            "_view_name": "LayoutView",
            "grid_template_rows": null,
            "right": null,
            "justify_content": null,
            "_view_module": "@jupyter-widgets/base",
            "overflow": null,
            "_model_module_version": "1.2.0",
            "_view_count": null,
            "flex_flow": null,
            "width": null,
            "min_width": null,
            "border": null,
            "align_items": null,
            "bottom": null,
            "_model_module": "@jupyter-widgets/base",
            "top": null,
            "grid_column": null,
            "overflow_y": null,
            "overflow_x": null,
            "grid_auto_flow": null,
            "grid_area": null,
            "grid_template_columns": null,
            "flex": null,
            "_model_name": "LayoutModel",
            "justify_items": null,
            "grid_row": null,
            "max_height": null,
            "align_content": null,
            "visibility": null,
            "align_self": null,
            "height": null,
            "min_height": null,
            "padding": null,
            "grid_auto_rows": null,
            "grid_gap": null,
            "max_width": null,
            "order": null,
            "_view_module_version": "1.2.0",
            "grid_template_areas": null,
            "object_position": null,
            "object_fit": null,
            "grid_auto_columns": null,
            "margin": null,
            "display": null,
            "left": null
          }
        },
        "b062e11158374669930d8f3a52ac19b6": {
          "model_module": "@jupyter-widgets/controls",
          "model_name": "DescriptionStyleModel",
          "state": {
            "_view_name": "StyleView",
            "_model_name": "DescriptionStyleModel",
            "description_width": "",
            "_view_module": "@jupyter-widgets/base",
            "_model_module_version": "1.5.0",
            "_view_count": null,
            "_view_module_version": "1.2.0",
            "_model_module": "@jupyter-widgets/controls"
          }
        },
        "cb8838e75a684016b4c03e113587b483": {
          "model_module": "@jupyter-widgets/base",
          "model_name": "LayoutModel",
          "state": {
            "_view_name": "LayoutView",
            "grid_template_rows": null,
            "right": null,
            "justify_content": null,
            "_view_module": "@jupyter-widgets/base",
            "overflow": null,
            "_model_module_version": "1.2.0",
            "_view_count": null,
            "flex_flow": null,
            "width": null,
            "min_width": null,
            "border": null,
            "align_items": null,
            "bottom": null,
            "_model_module": "@jupyter-widgets/base",
            "top": null,
            "grid_column": null,
            "overflow_y": null,
            "overflow_x": null,
            "grid_auto_flow": null,
            "grid_area": null,
            "grid_template_columns": null,
            "flex": null,
            "_model_name": "LayoutModel",
            "justify_items": null,
            "grid_row": null,
            "max_height": null,
            "align_content": null,
            "visibility": null,
            "align_self": null,
            "height": null,
            "min_height": null,
            "padding": null,
            "grid_auto_rows": null,
            "grid_gap": null,
            "max_width": null,
            "order": null,
            "_view_module_version": "1.2.0",
            "grid_template_areas": null,
            "object_position": null,
            "object_fit": null,
            "grid_auto_columns": null,
            "margin": null,
            "display": null,
            "left": null
          }
        },
        "5a185502a5074a628dada88aae60b09e": {
          "model_module": "@jupyter-widgets/controls",
          "model_name": "HBoxModel",
          "state": {
            "_view_name": "HBoxView",
            "_dom_classes": [],
            "_model_name": "HBoxModel",
            "_view_module": "@jupyter-widgets/controls",
            "_model_module_version": "1.5.0",
            "_view_count": null,
            "_view_module_version": "1.5.0",
            "box_style": "",
            "layout": "IPY_MODEL_7bbebe91341f4c2c9707b63585f6a5b7",
            "_model_module": "@jupyter-widgets/controls",
            "children": [
              "IPY_MODEL_486684e5896f4b43ad967ec351c3aa8c",
              "IPY_MODEL_8846ef1e10684852a6c170af69a3f19e"
            ]
          }
        },
        "7bbebe91341f4c2c9707b63585f6a5b7": {
          "model_module": "@jupyter-widgets/base",
          "model_name": "LayoutModel",
          "state": {
            "_view_name": "LayoutView",
            "grid_template_rows": null,
            "right": null,
            "justify_content": null,
            "_view_module": "@jupyter-widgets/base",
            "overflow": null,
            "_model_module_version": "1.2.0",
            "_view_count": null,
            "flex_flow": null,
            "width": null,
            "min_width": null,
            "border": null,
            "align_items": null,
            "bottom": null,
            "_model_module": "@jupyter-widgets/base",
            "top": null,
            "grid_column": null,
            "overflow_y": null,
            "overflow_x": null,
            "grid_auto_flow": null,
            "grid_area": null,
            "grid_template_columns": null,
            "flex": null,
            "_model_name": "LayoutModel",
            "justify_items": null,
            "grid_row": null,
            "max_height": null,
            "align_content": null,
            "visibility": null,
            "align_self": null,
            "height": null,
            "min_height": null,
            "padding": null,
            "grid_auto_rows": null,
            "grid_gap": null,
            "max_width": null,
            "order": null,
            "_view_module_version": "1.2.0",
            "grid_template_areas": null,
            "object_position": null,
            "object_fit": null,
            "grid_auto_columns": null,
            "margin": null,
            "display": null,
            "left": null
          }
        },
        "486684e5896f4b43ad967ec351c3aa8c": {
          "model_module": "@jupyter-widgets/controls",
          "model_name": "FloatProgressModel",
          "state": {
            "_view_name": "ProgressView",
            "style": "IPY_MODEL_61f8c72f50604c12b30ae2d423ec7b7c",
            "_dom_classes": [],
            "description": "",
            "_model_name": "FloatProgressModel",
            "bar_style": "success",
            "max": 1,
            "_view_module": "@jupyter-widgets/controls",
            "_model_module_version": "1.5.0",
            "value": 1,
            "_view_count": null,
            "_view_module_version": "1.5.0",
            "orientation": "horizontal",
            "min": 0,
            "description_tooltip": null,
            "_model_module": "@jupyter-widgets/controls",
            "layout": "IPY_MODEL_909eaaad7d3a400d812828ad62525ea8"
          }
        },
        "8846ef1e10684852a6c170af69a3f19e": {
          "model_module": "@jupyter-widgets/controls",
          "model_name": "HTMLModel",
          "state": {
            "_view_name": "HTMLView",
            "style": "IPY_MODEL_c1af9483b69740e7974bbd643a317fe8",
            "_dom_classes": [],
            "description": "",
            "_model_name": "HTMLModel",
            "placeholder": "​",
            "_view_module": "@jupyter-widgets/controls",
            "_model_module_version": "1.5.0",
            "value": " 1654784/? [00:00&lt;00:00, 4297653.33it/s]",
            "_view_count": null,
            "_view_module_version": "1.5.0",
            "description_tooltip": null,
            "_model_module": "@jupyter-widgets/controls",
            "layout": "IPY_MODEL_7b8e86af732d42fcb666a17266c40cbe"
          }
        },
        "61f8c72f50604c12b30ae2d423ec7b7c": {
          "model_module": "@jupyter-widgets/controls",
          "model_name": "ProgressStyleModel",
          "state": {
            "_view_name": "StyleView",
            "_model_name": "ProgressStyleModel",
            "description_width": "initial",
            "_view_module": "@jupyter-widgets/base",
            "_model_module_version": "1.5.0",
            "_view_count": null,
            "_view_module_version": "1.2.0",
            "bar_color": null,
            "_model_module": "@jupyter-widgets/controls"
          }
        },
        "909eaaad7d3a400d812828ad62525ea8": {
          "model_module": "@jupyter-widgets/base",
          "model_name": "LayoutModel",
          "state": {
            "_view_name": "LayoutView",
            "grid_template_rows": null,
            "right": null,
            "justify_content": null,
            "_view_module": "@jupyter-widgets/base",
            "overflow": null,
            "_model_module_version": "1.2.0",
            "_view_count": null,
            "flex_flow": null,
            "width": null,
            "min_width": null,
            "border": null,
            "align_items": null,
            "bottom": null,
            "_model_module": "@jupyter-widgets/base",
            "top": null,
            "grid_column": null,
            "overflow_y": null,
            "overflow_x": null,
            "grid_auto_flow": null,
            "grid_area": null,
            "grid_template_columns": null,
            "flex": null,
            "_model_name": "LayoutModel",
            "justify_items": null,
            "grid_row": null,
            "max_height": null,
            "align_content": null,
            "visibility": null,
            "align_self": null,
            "height": null,
            "min_height": null,
            "padding": null,
            "grid_auto_rows": null,
            "grid_gap": null,
            "max_width": null,
            "order": null,
            "_view_module_version": "1.2.0",
            "grid_template_areas": null,
            "object_position": null,
            "object_fit": null,
            "grid_auto_columns": null,
            "margin": null,
            "display": null,
            "left": null
          }
        },
        "c1af9483b69740e7974bbd643a317fe8": {
          "model_module": "@jupyter-widgets/controls",
          "model_name": "DescriptionStyleModel",
          "state": {
            "_view_name": "StyleView",
            "_model_name": "DescriptionStyleModel",
            "description_width": "",
            "_view_module": "@jupyter-widgets/base",
            "_model_module_version": "1.5.0",
            "_view_count": null,
            "_view_module_version": "1.2.0",
            "_model_module": "@jupyter-widgets/controls"
          }
        },
        "7b8e86af732d42fcb666a17266c40cbe": {
          "model_module": "@jupyter-widgets/base",
          "model_name": "LayoutModel",
          "state": {
            "_view_name": "LayoutView",
            "grid_template_rows": null,
            "right": null,
            "justify_content": null,
            "_view_module": "@jupyter-widgets/base",
            "overflow": null,
            "_model_module_version": "1.2.0",
            "_view_count": null,
            "flex_flow": null,
            "width": null,
            "min_width": null,
            "border": null,
            "align_items": null,
            "bottom": null,
            "_model_module": "@jupyter-widgets/base",
            "top": null,
            "grid_column": null,
            "overflow_y": null,
            "overflow_x": null,
            "grid_auto_flow": null,
            "grid_area": null,
            "grid_template_columns": null,
            "flex": null,
            "_model_name": "LayoutModel",
            "justify_items": null,
            "grid_row": null,
            "max_height": null,
            "align_content": null,
            "visibility": null,
            "align_self": null,
            "height": null,
            "min_height": null,
            "padding": null,
            "grid_auto_rows": null,
            "grid_gap": null,
            "max_width": null,
            "order": null,
            "_view_module_version": "1.2.0",
            "grid_template_areas": null,
            "object_position": null,
            "object_fit": null,
            "grid_auto_columns": null,
            "margin": null,
            "display": null,
            "left": null
          }
        },
        "6e36c1ce5bb348d7bddc873238f6969b": {
          "model_module": "@jupyter-widgets/controls",
          "model_name": "HBoxModel",
          "state": {
            "_view_name": "HBoxView",
            "_dom_classes": [],
            "_model_name": "HBoxModel",
            "_view_module": "@jupyter-widgets/controls",
            "_model_module_version": "1.5.0",
            "_view_count": null,
            "_view_module_version": "1.5.0",
            "box_style": "",
            "layout": "IPY_MODEL_66dab0ca33e1421fb151f6e65e014558",
            "_model_module": "@jupyter-widgets/controls",
            "children": [
              "IPY_MODEL_416846be11454b4da63e192d521517d6",
              "IPY_MODEL_57bdb494b519425784f8490a6d37e1c8"
            ]
          }
        },
        "66dab0ca33e1421fb151f6e65e014558": {
          "model_module": "@jupyter-widgets/base",
          "model_name": "LayoutModel",
          "state": {
            "_view_name": "LayoutView",
            "grid_template_rows": null,
            "right": null,
            "justify_content": null,
            "_view_module": "@jupyter-widgets/base",
            "overflow": null,
            "_model_module_version": "1.2.0",
            "_view_count": null,
            "flex_flow": null,
            "width": null,
            "min_width": null,
            "border": null,
            "align_items": null,
            "bottom": null,
            "_model_module": "@jupyter-widgets/base",
            "top": null,
            "grid_column": null,
            "overflow_y": null,
            "overflow_x": null,
            "grid_auto_flow": null,
            "grid_area": null,
            "grid_template_columns": null,
            "flex": null,
            "_model_name": "LayoutModel",
            "justify_items": null,
            "grid_row": null,
            "max_height": null,
            "align_content": null,
            "visibility": null,
            "align_self": null,
            "height": null,
            "min_height": null,
            "padding": null,
            "grid_auto_rows": null,
            "grid_gap": null,
            "max_width": null,
            "order": null,
            "_view_module_version": "1.2.0",
            "grid_template_areas": null,
            "object_position": null,
            "object_fit": null,
            "grid_auto_columns": null,
            "margin": null,
            "display": null,
            "left": null
          }
        },
        "416846be11454b4da63e192d521517d6": {
          "model_module": "@jupyter-widgets/controls",
          "model_name": "FloatProgressModel",
          "state": {
            "_view_name": "ProgressView",
            "style": "IPY_MODEL_4f624969ff2a4a8fbd915b60e60d9c34",
            "_dom_classes": [],
            "description": "  0%",
            "_model_name": "FloatProgressModel",
            "bar_style": "info",
            "max": 1,
            "_view_module": "@jupyter-widgets/controls",
            "_model_module_version": "1.5.0",
            "value": 0,
            "_view_count": null,
            "_view_module_version": "1.5.0",
            "orientation": "horizontal",
            "min": 0,
            "description_tooltip": null,
            "_model_module": "@jupyter-widgets/controls",
            "layout": "IPY_MODEL_903a48e3aaf04ce8b79fed0a416843dd"
          }
        },
        "57bdb494b519425784f8490a6d37e1c8": {
          "model_module": "@jupyter-widgets/controls",
          "model_name": "HTMLModel",
          "state": {
            "_view_name": "HTMLView",
            "style": "IPY_MODEL_85830837a55d42fabea2b43ff2a5b47b",
            "_dom_classes": [],
            "description": "",
            "_model_name": "HTMLModel",
            "placeholder": "​",
            "_view_module": "@jupyter-widgets/controls",
            "_model_module_version": "1.5.0",
            "value": " 0/4542 [00:00&lt;?, ?it/s]",
            "_view_count": null,
            "_view_module_version": "1.5.0",
            "description_tooltip": null,
            "_model_module": "@jupyter-widgets/controls",
            "layout": "IPY_MODEL_94a9e38e05a241dd84f51e6281500030"
          }
        },
        "4f624969ff2a4a8fbd915b60e60d9c34": {
          "model_module": "@jupyter-widgets/controls",
          "model_name": "ProgressStyleModel",
          "state": {
            "_view_name": "StyleView",
            "_model_name": "ProgressStyleModel",
            "description_width": "initial",
            "_view_module": "@jupyter-widgets/base",
            "_model_module_version": "1.5.0",
            "_view_count": null,
            "_view_module_version": "1.2.0",
            "bar_color": null,
            "_model_module": "@jupyter-widgets/controls"
          }
        },
        "903a48e3aaf04ce8b79fed0a416843dd": {
          "model_module": "@jupyter-widgets/base",
          "model_name": "LayoutModel",
          "state": {
            "_view_name": "LayoutView",
            "grid_template_rows": null,
            "right": null,
            "justify_content": null,
            "_view_module": "@jupyter-widgets/base",
            "overflow": null,
            "_model_module_version": "1.2.0",
            "_view_count": null,
            "flex_flow": null,
            "width": null,
            "min_width": null,
            "border": null,
            "align_items": null,
            "bottom": null,
            "_model_module": "@jupyter-widgets/base",
            "top": null,
            "grid_column": null,
            "overflow_y": null,
            "overflow_x": null,
            "grid_auto_flow": null,
            "grid_area": null,
            "grid_template_columns": null,
            "flex": null,
            "_model_name": "LayoutModel",
            "justify_items": null,
            "grid_row": null,
            "max_height": null,
            "align_content": null,
            "visibility": null,
            "align_self": null,
            "height": null,
            "min_height": null,
            "padding": null,
            "grid_auto_rows": null,
            "grid_gap": null,
            "max_width": null,
            "order": null,
            "_view_module_version": "1.2.0",
            "grid_template_areas": null,
            "object_position": null,
            "object_fit": null,
            "grid_auto_columns": null,
            "margin": null,
            "display": null,
            "left": null
          }
        },
        "85830837a55d42fabea2b43ff2a5b47b": {
          "model_module": "@jupyter-widgets/controls",
          "model_name": "DescriptionStyleModel",
          "state": {
            "_view_name": "StyleView",
            "_model_name": "DescriptionStyleModel",
            "description_width": "",
            "_view_module": "@jupyter-widgets/base",
            "_model_module_version": "1.5.0",
            "_view_count": null,
            "_view_module_version": "1.2.0",
            "_model_module": "@jupyter-widgets/controls"
          }
        },
        "94a9e38e05a241dd84f51e6281500030": {
          "model_module": "@jupyter-widgets/base",
          "model_name": "LayoutModel",
          "state": {
            "_view_name": "LayoutView",
            "grid_template_rows": null,
            "right": null,
            "justify_content": null,
            "_view_module": "@jupyter-widgets/base",
            "overflow": null,
            "_model_module_version": "1.2.0",
            "_view_count": null,
            "flex_flow": null,
            "width": null,
            "min_width": null,
            "border": null,
            "align_items": null,
            "bottom": null,
            "_model_module": "@jupyter-widgets/base",
            "top": null,
            "grid_column": null,
            "overflow_y": null,
            "overflow_x": null,
            "grid_auto_flow": null,
            "grid_area": null,
            "grid_template_columns": null,
            "flex": null,
            "_model_name": "LayoutModel",
            "justify_items": null,
            "grid_row": null,
            "max_height": null,
            "align_content": null,
            "visibility": null,
            "align_self": null,
            "height": null,
            "min_height": null,
            "padding": null,
            "grid_auto_rows": null,
            "grid_gap": null,
            "max_width": null,
            "order": null,
            "_view_module_version": "1.2.0",
            "grid_template_areas": null,
            "object_position": null,
            "object_fit": null,
            "grid_auto_columns": null,
            "margin": null,
            "display": null,
            "left": null
          }
        }
      }
    }
  },
  "cells": [
    {
      "cell_type": "markdown",
      "metadata": {
        "id": "1t6MzdEyYgBx"
      },
      "source": [
        "# ДЗ №3 \n",
        "## Обучение моделей глубокого обучения на PyTorch"
      ]
    },
    {
      "cell_type": "code",
      "metadata": {
        "id": "DnsPdf0WYgBy",
        "outputId": "45f25760-b939-4fff-a2eb-f2fc87c1f7ba",
        "colab": {
          "base_uri": "https://localhost:8080/",
          "height": 222
        }
      },
      "source": [
        "!pip3 install torch torchvision numpy matplotlib"
      ],
      "execution_count": 1,
      "outputs": [
        {
          "output_type": "stream",
          "text": [
            "Requirement already satisfied: torch in /usr/local/lib/python3.6/dist-packages (1.6.0+cu101)\n",
            "Requirement already satisfied: torchvision in /usr/local/lib/python3.6/dist-packages (0.7.0+cu101)\n",
            "Requirement already satisfied: numpy in /usr/local/lib/python3.6/dist-packages (1.18.5)\n",
            "Requirement already satisfied: matplotlib in /usr/local/lib/python3.6/dist-packages (3.2.2)\n",
            "Requirement already satisfied: future in /usr/local/lib/python3.6/dist-packages (from torch) (0.16.0)\n",
            "Requirement already satisfied: pillow>=4.1.1 in /usr/local/lib/python3.6/dist-packages (from torchvision) (7.0.0)\n",
            "Requirement already satisfied: kiwisolver>=1.0.1 in /usr/local/lib/python3.6/dist-packages (from matplotlib) (1.2.0)\n",
            "Requirement already satisfied: python-dateutil>=2.1 in /usr/local/lib/python3.6/dist-packages (from matplotlib) (2.8.1)\n",
            "Requirement already satisfied: pyparsing!=2.0.4,!=2.1.2,!=2.1.6,>=2.0.1 in /usr/local/lib/python3.6/dist-packages (from matplotlib) (2.4.7)\n",
            "Requirement already satisfied: cycler>=0.10 in /usr/local/lib/python3.6/dist-packages (from matplotlib) (0.10.0)\n",
            "Requirement already satisfied: six>=1.5 in /usr/local/lib/python3.6/dist-packages (from python-dateutil>=2.1->matplotlib) (1.15.0)\n"
          ],
          "name": "stdout"
        }
      ]
    },
    {
      "cell_type": "markdown",
      "metadata": {
        "id": "xvLQ_YBQYgB2"
      },
      "source": [
        "Ваша задача на этой неделе - повторить модель трёхслойного перцептрона из прошолго задания на **PyTorch**, разобрать лучшие практики обучения моделей глубокого обучения и провести серию экспериментов"
      ]
    },
    {
      "cell_type": "code",
      "metadata": {
        "id": "__30mGL7YgB2"
      },
      "source": [
        "import torch\n",
        "import torchvision\n",
        "import numpy as np\n",
        "import matplotlib.pyplot as plt\n",
        "import torchvision.transforms as transforms\n",
        "\n",
        "from typing import Tuple, List, Type, Dict, Any"
      ],
      "execution_count": 2,
      "outputs": []
    },
    {
      "cell_type": "markdown",
      "metadata": {
        "id": "TrhEDztvYgB5"
      },
      "source": [
        "Для того, чтобы эксперимент можно было повторить, хорошей практикой будет зафиксировать генератор случайных чисел. Также, рекоммендуется зафиксировать RNG в numpy и, если в качестве бэкенда используется cudnn - включить детерминированный режим.\n",
        "\n",
        "Подробнее: https://pytorch.org/docs/stable/notes/randomness.html"
      ]
    },
    {
      "cell_type": "code",
      "metadata": {
        "id": "6uWe9MlmYgB6"
      },
      "source": [
        "torch.manual_seed(0)\n",
        "np.random.seed(0)\n",
        "torch.backends.cudnn.deterministic = True\n",
        "torch.backends.cudnn.benchmark = False"
      ],
      "execution_count": 3,
      "outputs": []
    },
    {
      "cell_type": "markdown",
      "metadata": {
        "id": "xAWY8jLUYgB9"
      },
      "source": [
        "### Модель\n",
        "\n",
        "Основным способом организации кода на **Pytorch** является модуль. Простые модели могут быть реализованны из готовых модулей ( к примеру, `torch.nn.Sequential`, `torch.nn.Linear` и т.д. ), для более сложных архитектур часто приходтся реализовывать собственные блоки. Это достаточно легко сделать - достаточно написать класс, наследуемый от `torch.nn.Module` и реализующий метод `.forward`, который принимает и возвращает тензоры ( `torch.Tensor` )\n",
        "\n",
        "Пример реализации кастомного модуля из официальной документации: https://pytorch.org/tutorials/beginner/pytorch_with_examples.html3"
      ]
    },
    {
      "cell_type": "markdown",
      "metadata": {
        "id": "xk6a-pOnYgB-"
      },
      "source": [
        "#### Задание 1\n",
        "\n",
        "Повторите реализацию трёхслойного перцептрона из предыдущего задания на **Pytorch**. Желательно также, чтобы реализация модели имела параметризуемую глубину ( количество слоёв ), количество параметров на каждом слое и функцию активации. Отсутствие такой возможности не снижает балл, но сильно поможет в освоении принципов построения нейросетей с применением библиотеки pytorch."
      ]
    },
    {
      "cell_type": "code",
      "metadata": {
        "id": "u2j_inpIYgB_"
      },
      "source": [
        "class Perceptron(torch.nn.Module):\n",
        "    \n",
        "    def __init__(self, \n",
        "                 input_resolution: Tuple[int, int] = (28, 28),\n",
        "                 input_channels: int = 1, \n",
        "                 hidden_layer_features: List[int] = [256, 256, 256],\n",
        "                 activation: Type[torch.nn.Module] = torch.nn.ReLU,\n",
        "                 num_classes: int = 10,\n",
        "                 n_hidden_neurons = 100):\n",
        "\n",
        "        super(Perceptron, self).__init__()\n",
        "        self.layer_1 = torch.nn.Linear(input_resolution[0] * input_resolution[1], n_hidden_neurons)\n",
        "        self.act_1 = activation()\n",
        "        self.layer_2 = torch.nn.Linear(n_hidden_neurons, num_classes)\n",
        "        \n",
        "    \n",
        "    def forward(self, x):\n",
        "        x = self.layer_1(x) # последовательно вызываем метод forward у наших модулей (как и в предыдущем дз)\n",
        "        x = self.act_1(x)\n",
        "        x = self.layer_2(x)\n",
        "        return x "
      ],
      "execution_count": 4,
      "outputs": []
    },
    {
      "cell_type": "markdown",
      "metadata": {
        "id": "E0QtMSeDfSVm"
      },
      "source": [
        "Заметим, что тут мы не считаем softmax на выходе, чтобы получить вероятности принадлежности к классам. Это делаем осознано, так как в pytorch есть функция CrossEntropyLoss, которая включает в себя взятие softmax и затем кросс-энтропии, но она более вычислительно стабильна и работает быстрее (так написано в документации)"
      ]
    },
    {
      "cell_type": "markdown",
      "metadata": {
        "id": "Zi_YTtUlYgCC"
      },
      "source": [
        "Следующий код позволяет посмотреть архитектуру получившейся модели и общее количество обучаемых параметров. Мы хотим, чтобы количество параметров в модели было порядка сотен тысяч. Если у вас получается больше или меньше, попробуйте изменить архитектуру модели."
      ]
    },
    {
      "cell_type": "code",
      "metadata": {
        "id": "48AMXibrYgCD",
        "outputId": "0691b1cf-85fe-4439-c413-1cd8afabd2cf",
        "colab": {
          "base_uri": "https://localhost:8080/",
          "height": 118
        }
      },
      "source": [
        "model = Perceptron()\n",
        "print(model)\n",
        "print('Total number of trainable parameters', \n",
        "      sum(p.numel() for p in model.parameters() if p.requires_grad))"
      ],
      "execution_count": 77,
      "outputs": [
        {
          "output_type": "stream",
          "text": [
            "Perceptron(\n",
            "  (layer_1): Linear(in_features=784, out_features=100, bias=True)\n",
            "  (act_1): ReLU()\n",
            "  (layer_2): Linear(in_features=100, out_features=10, bias=True)\n",
            ")\n",
            "Total number of trainable parameters 79510\n"
          ],
          "name": "stdout"
        }
      ]
    },
    {
      "cell_type": "markdown",
      "metadata": {
        "id": "4xBTX3EYgKRI"
      },
      "source": [
        "получили модель, у которой примерно 80000 параметров (условие, что порядка 100 000 выполнено)"
      ]
    },
    {
      "cell_type": "markdown",
      "metadata": {
        "id": "H7bMd6OQYgCF"
      },
      "source": [
        "### Обучающая выборка\n",
        "\n",
        "На практике, наиболее важным для успеха обучения любой модели машинного обучения является этап подготовки данных. Модели глубокого обучения не являются исключением. Большая, чистая, репрезентативная и релевантная поставленной задаче обучающая выборка часто важнее, чем архитектура самой модели. В предлагаемой задаче используется качественный и проверенный временем MNIST. Однако в практических задачах часто будет получаться так, что лучшим способом добиться улучшения качества модели будет сбор дополнительных данных и очистка исходных данных."
      ]
    },
    {
      "cell_type": "markdown",
      "metadata": {
        "id": "143ridIdYgCG"
      },
      "source": [
        "### Предобработка данных\n",
        "\n",
        "Для улучшения сходимости алгоритма обучения и качества полученной модели данные могут быть предварительно обработаны:\n",
        "\n",
        "1. Среднее каждой входной переменной близко к нулю\n",
        "2. Переменные отмасштабированы таким образом, что их дисперсии примерно одинаковы ( из соображений вычислительной устойчивости, мы хотим, чтобы все величины по порядку величины были близки к еденице )\n",
        "3. По возможности, входные переменные не должны быть скоррелированны. Важнось этого пункта в последние годы ставится под сомнение, но всё-же в некоторых случаях это может влиять на результат\n",
        "\n",
        "Подробнее можно почитать здесь: http://yann.lecun.com/exdb/publis/pdf/lecun-98b.pdf"
      ]
    },
    {
      "cell_type": "markdown",
      "metadata": {
        "id": "jPHpdmehYgCG"
      },
      "source": [
        "### Аугментация (искусственное дополнение) обучающей выборки\n",
        "\n",
        "В зависимости от задачи можно применять к признаковому описанию объектов обучающей выборки различные преобразования, которые позволят увеличить эффективный размер выборки без дополнительной разметки. К примеру, для задачи классификации кошек и собак можно зеркально отразить изображение вокруг вертикальной оси - при этом класс изображения не изменится, а само изображение останется по прежнему будет принадлежать исходному распределению. Есть много разных техник аугментации, и их применимость и эффективность сильно зависит от данных и задачи.\n",
        "\n",
        "Подробнее можно почитать здесь: https://link.springer.com/content/pdf/10.1186/s40537-019-0197-0.pdf"
      ]
    },
    {
      "cell_type": "markdown",
      "metadata": {
        "id": "rZyzyU2eYgCH"
      },
      "source": [
        "### Задание 2\n",
        "\n",
        "Обоснуйте, почему аугментация обучающей выборки позволяет добиться прироста качества модели, несмотря на то, что она не добавляет в неё дополнительную информацию."
      ]
    },
    {
      "cell_type": "markdown",
      "metadata": {
        "id": "yvywyKMRYgCI"
      },
      "source": [
        "# Ответ на 2ой вопрос\n",
        "Рассмотрим картинку, на которой изображена кошка. Теперь сделаем некоторое преобразование с картинкой, например, вырежем некоторый кусок из этой картинки. Полученная картинка конечно останется кошкой (для нас визуально это вроде бы очевидно). Однако для нейронной сети это  будет совсем другой картинкой, потому что у нас будут задействованы совсем другие веса (например для свёрточной нейронной сети коэффициенты ядра будут меняться по другому и выделяются какие-то другие признаки). Также мы можем это изображение немножко растянуть или немножко сжать и у нас получится совсем другая картинка. То есть с нашей точки зрения картинка получится той же самой, практически, но для нейронной сети это будет совсем другая картинка, так как параметры будут меняться по-другому. "
      ]
    },
    {
      "cell_type": "markdown",
      "metadata": {
        "id": "EKGjRHrFYgCJ"
      },
      "source": [
        "### Задание 3\n",
        "\n",
        "Какие осмысленные аугментации вы можете придумать для следующих наборов данных:\n",
        "\n",
        "1. Набор изображений животных, размеченый на виды животных\n",
        "2. Набор аудиозаписей голоса, размечеными на языки говорящего\n",
        "3. Набор cо показаниями датчиков температуры, влажности и давления с одной из метеостанций, размеченый на признак наличия осадков"
      ]
    },
    {
      "cell_type": "markdown",
      "metadata": {
        "id": "1VLpLhKPYgCJ"
      },
      "source": [
        "# Ответ на 3ий вопрос\n",
        "1) Так как в этом случае датасет состоит из картинок, то можем применять стандартные методы аугментации к данным такого вида: то есть мы можем изменять цвет, насыщенность, мы можем изменять контраст. Мы можем добавлять различные шумы, такие как шум \"соль и перец\" который характерен для фото-матриц, мы можем добавлять гауссовский шум, мы можем применять различные графические эффекты и т.д.  \n",
        "\n",
        "2) Можем ускорять или замедлять эту запись (то есть менять частоту), менять амплитуду (громкость) . Также логично её разбивать на несколько частей, если аудиодорожка большая. Можно также накладывать шумы (гауссовский шум) и так далее (не разу не работала с аудио и с моделями, которые решают подобные задачи, но это должно заставить модель учиться по-другому).\n",
        "\n",
        "3) Аналогично можем сделать шумы на измерения показаний датчиков... В этом случае больше не знаю, что можно сделать с данными, чтобы изменить данные так, чтобы результат остался прежним, но для нейронной сети это были другие данные"
      ]
    },
    {
      "cell_type": "markdown",
      "metadata": {
        "id": "au2RKhNuYgCK"
      },
      "source": [
        "### Задание 4\n",
        "\n",
        "Напишите пайплайн для предобработки и аугументации данных. В `torchvision.transforms` есть готовые реализации большинства распространённых техник. Если вы хотите добавить что-то своё, вы можете воспользоваться `torchvision.transforms.Lambda`. При этом следует понимать, что если нужно оценить качество модели на оригинальных данных, пайплайн предварительной обработки данных валидационной выборки не должен включать аугментаций. Следует помнить, однако, что существует подход аугментации данных в момент применения модели (test-time augmentation), который позволяет повысить качество модели в режиме исполнения.\n",
        "\n",
        "Одним из обязательных шагов в вашем пайплайне должна быть конвертация данных в тензоры Pytorch (`torch.Tensor`): `torchvision.transforms.ToTensor()`."
      ]
    },
    {
      "cell_type": "code",
      "metadata": {
        "id": "Swagm8D5YgCK"
      },
      "source": [
        "train_transforms = torchvision.transforms.Compose([\n",
        "                                                 \n",
        "    transforms.ToTensor(), \n",
        "    transforms.Normalize((0.5,), (1.0,)),\n",
        "])\n",
        "\n",
        "val_transforms = torchvision.transforms.Compose([\n",
        "    transforms.ToTensor(), \n",
        "    transforms.Normalize((0.5,), (1.0,))\n",
        "])"
      ],
      "execution_count": 7,
      "outputs": []
    },
    {
      "cell_type": "markdown",
      "metadata": {
        "id": "eS3BIW_YyFAw"
      },
      "source": [
        "В трансформации данных переводим картинку в тензор, с помощью transforms.ToTensor() и нормализуем её\n"
      ]
    },
    {
      "cell_type": "code",
      "metadata": {
        "id": "-iYE63CXYgCN",
        "outputId": "f592dce7-c5c0-4da0-9a0e-f61333e12bd1",
        "colab": {
          "base_uri": "https://localhost:8080/",
          "height": 400,
          "referenced_widgets": [
            "5b606fba94a84d6da6a2e8ab8ab2fe97",
            "ac9961fef3074bfb8188510c82adcd62",
            "9864e500821d40aa981e992602eefe05",
            "6f6df4cbe924451c8123b0a2792fb03b",
            "75589b2f14ca4f78b87012e4f642ac4d",
            "9f03182ae8c243eb88a8568abe8e8fae",
            "9f1be2bdc38d49f8811d41119a41b4d7",
            "91c9a8ed96f64649a33ffee1d169f5d3",
            "f1d036e6a18f40938b34cf934c55f075",
            "9b364914b462428dbebf9df89b0a2bfb",
            "b723b6d3cd094bf1a1cd876dc2eb7b67",
            "7b1573974ccc49ed8dd4188f4f63344e",
            "d1e46cdb51ac4fae95454e3b945f06fb",
            "a8b4e5dee857426389ba25bd2ac3e143",
            "b062e11158374669930d8f3a52ac19b6",
            "cb8838e75a684016b4c03e113587b483",
            "5a185502a5074a628dada88aae60b09e",
            "7bbebe91341f4c2c9707b63585f6a5b7",
            "486684e5896f4b43ad967ec351c3aa8c",
            "8846ef1e10684852a6c170af69a3f19e",
            "61f8c72f50604c12b30ae2d423ec7b7c",
            "909eaaad7d3a400d812828ad62525ea8",
            "c1af9483b69740e7974bbd643a317fe8",
            "7b8e86af732d42fcb666a17266c40cbe",
            "6e36c1ce5bb348d7bddc873238f6969b",
            "66dab0ca33e1421fb151f6e65e014558",
            "416846be11454b4da63e192d521517d6",
            "57bdb494b519425784f8490a6d37e1c8",
            "4f624969ff2a4a8fbd915b60e60d9c34",
            "903a48e3aaf04ce8b79fed0a416843dd",
            "85830837a55d42fabea2b43ff2a5b47b",
            "94a9e38e05a241dd84f51e6281500030"
          ]
        }
      },
      "source": [
        "train_dataset = torchvision.datasets.MNIST(root='./mnist', \n",
        "                                           train=True, \n",
        "                                           download=True,\n",
        "                                           transform=train_transforms)\n",
        "\n",
        "val_dataset = torchvision.datasets.MNIST(root='./mnist', \n",
        "                                         train=False, \n",
        "                                         download=True, \n",
        "                                         transform=val_transforms)"
      ],
      "execution_count": 8,
      "outputs": [
        {
          "output_type": "stream",
          "text": [
            "Downloading http://yann.lecun.com/exdb/mnist/train-images-idx3-ubyte.gz to ./mnist/MNIST/raw/train-images-idx3-ubyte.gz\n"
          ],
          "name": "stdout"
        },
        {
          "output_type": "display_data",
          "data": {
            "application/vnd.jupyter.widget-view+json": {
              "model_id": "5b606fba94a84d6da6a2e8ab8ab2fe97",
              "version_minor": 0,
              "version_major": 2
            },
            "text/plain": [
              "HBox(children=(FloatProgress(value=1.0, bar_style='info', max=1.0), HTML(value='')))"
            ]
          },
          "metadata": {
            "tags": []
          }
        },
        {
          "output_type": "stream",
          "text": [
            "Extracting ./mnist/MNIST/raw/train-images-idx3-ubyte.gz to ./mnist/MNIST/raw\n",
            "Downloading http://yann.lecun.com/exdb/mnist/train-labels-idx1-ubyte.gz to ./mnist/MNIST/raw/train-labels-idx1-ubyte.gz\n"
          ],
          "name": "stdout"
        },
        {
          "output_type": "display_data",
          "data": {
            "application/vnd.jupyter.widget-view+json": {
              "model_id": "f1d036e6a18f40938b34cf934c55f075",
              "version_minor": 0,
              "version_major": 2
            },
            "text/plain": [
              "HBox(children=(FloatProgress(value=1.0, bar_style='info', max=1.0), HTML(value='')))"
            ]
          },
          "metadata": {
            "tags": []
          }
        },
        {
          "output_type": "stream",
          "text": [
            "Extracting ./mnist/MNIST/raw/train-labels-idx1-ubyte.gz to ./mnist/MNIST/raw\n",
            "Downloading http://yann.lecun.com/exdb/mnist/t10k-images-idx3-ubyte.gz to ./mnist/MNIST/raw/t10k-images-idx3-ubyte.gz\n"
          ],
          "name": "stdout"
        },
        {
          "output_type": "display_data",
          "data": {
            "application/vnd.jupyter.widget-view+json": {
              "model_id": "5a185502a5074a628dada88aae60b09e",
              "version_minor": 0,
              "version_major": 2
            },
            "text/plain": [
              "HBox(children=(FloatProgress(value=1.0, bar_style='info', max=1.0), HTML(value='')))"
            ]
          },
          "metadata": {
            "tags": []
          }
        },
        {
          "output_type": "stream",
          "text": [
            "Extracting ./mnist/MNIST/raw/t10k-images-idx3-ubyte.gz to ./mnist/MNIST/raw\n",
            "Downloading http://yann.lecun.com/exdb/mnist/t10k-labels-idx1-ubyte.gz to ./mnist/MNIST/raw/t10k-labels-idx1-ubyte.gz\n",
            "\n",
            "\n"
          ],
          "name": "stdout"
        },
        {
          "output_type": "display_data",
          "data": {
            "application/vnd.jupyter.widget-view+json": {
              "model_id": "6e36c1ce5bb348d7bddc873238f6969b",
              "version_minor": 0,
              "version_major": 2
            },
            "text/plain": [
              "HBox(children=(FloatProgress(value=1.0, bar_style='info', max=1.0), HTML(value='')))"
            ]
          },
          "metadata": {
            "tags": []
          }
        },
        {
          "output_type": "stream",
          "text": [
            "Extracting ./mnist/MNIST/raw/t10k-labels-idx1-ubyte.gz to ./mnist/MNIST/raw\n",
            "Processing...\n",
            "Done!\n"
          ],
          "name": "stdout"
        },
        {
          "output_type": "stream",
          "text": [
            "/usr/local/lib/python3.6/dist-packages/torchvision/datasets/mnist.py:469: UserWarning: The given NumPy array is not writeable, and PyTorch does not support non-writeable tensors. This means you can write to the underlying (supposedly non-writeable) NumPy array using the tensor. You may want to copy the array to protect its data or make it writeable before converting it to a tensor. This type of warning will be suppressed for the rest of this program. (Triggered internally at  /pytorch/torch/csrc/utils/tensor_numpy.cpp:141.)\n",
            "  return torch.from_numpy(parsed.astype(m[2], copy=False)).view(*s)\n"
          ],
          "name": "stderr"
        }
      ]
    },
    {
      "cell_type": "code",
      "metadata": {
        "id": "uibRZF7FysyR",
        "outputId": "7b313214-af53-4949-a171-b69c5d6a1948",
        "colab": {
          "base_uri": "https://localhost:8080/",
          "height": 168
        }
      },
      "source": [
        "print(train_dataset)"
      ],
      "execution_count": 9,
      "outputs": [
        {
          "output_type": "stream",
          "text": [
            "Dataset MNIST\n",
            "    Number of datapoints: 60000\n",
            "    Root location: ./mnist\n",
            "    Split: Train\n",
            "    StandardTransform\n",
            "Transform: Compose(\n",
            "               ToTensor()\n",
            "               Normalize(mean=(0.5,), std=(1.0,))\n",
            "           )\n"
          ],
          "name": "stdout"
        }
      ]
    },
    {
      "cell_type": "code",
      "metadata": {
        "id": "UD9NQlI1xdTs",
        "outputId": "999f401f-b00a-42ba-c28b-13ad94acf62b",
        "colab": {
          "base_uri": "https://localhost:8080/",
          "height": 151
        }
      },
      "source": [
        "X_train = train_dataset.train_data # делаем данные для test и train для нашей нейронной сети\n",
        "y_train = train_dataset.train_labels\n",
        "X_test = val_dataset.test_data\n",
        "y_test = val_dataset.test_labels"
      ],
      "execution_count": 10,
      "outputs": [
        {
          "output_type": "stream",
          "text": [
            "/usr/local/lib/python3.6/dist-packages/torchvision/datasets/mnist.py:55: UserWarning: train_data has been renamed data\n",
            "  warnings.warn(\"train_data has been renamed data\")\n",
            "/usr/local/lib/python3.6/dist-packages/torchvision/datasets/mnist.py:45: UserWarning: train_labels has been renamed targets\n",
            "  warnings.warn(\"train_labels has been renamed targets\")\n",
            "/usr/local/lib/python3.6/dist-packages/torchvision/datasets/mnist.py:60: UserWarning: test_data has been renamed data\n",
            "  warnings.warn(\"test_data has been renamed data\")\n",
            "/usr/local/lib/python3.6/dist-packages/torchvision/datasets/mnist.py:50: UserWarning: test_labels has been renamed targets\n",
            "  warnings.warn(\"test_labels has been renamed targets\")\n"
          ],
          "name": "stderr"
        }
      ]
    },
    {
      "cell_type": "code",
      "metadata": {
        "id": "LEp2iTCRx_yb",
        "outputId": "82b35e97-19e9-4960-a93d-f2c164c7e6ea",
        "colab": {
          "base_uri": "https://localhost:8080/",
          "height": 34
        }
      },
      "source": [
        "X_train.shape"
      ],
      "execution_count": 11,
      "outputs": [
        {
          "output_type": "execute_result",
          "data": {
            "text/plain": [
              "torch.Size([60000, 28, 28])"
            ]
          },
          "metadata": {
            "tags": []
          },
          "execution_count": 11
        }
      ]
    },
    {
      "cell_type": "code",
      "metadata": {
        "id": "9ZFy4p87hA3O"
      },
      "source": [
        "X_train = X_train.reshape([-1, 28 * 28]) # переводим трёхмерный тензор в двумерный\n",
        "X_test = X_test.reshape([-1, 28 * 28])"
      ],
      "execution_count": 12,
      "outputs": []
    },
    {
      "cell_type": "code",
      "metadata": {
        "id": "I8djodWSGmS5",
        "outputId": "35da8db5-97f2-4f8d-893f-d67a21c68a18",
        "colab": {
          "base_uri": "https://localhost:8080/",
          "height": 67
        }
      },
      "source": [
        "train_dataset.train_data.shape\n"
      ],
      "execution_count": 13,
      "outputs": [
        {
          "output_type": "stream",
          "text": [
            "/usr/local/lib/python3.6/dist-packages/torchvision/datasets/mnist.py:55: UserWarning: train_data has been renamed data\n",
            "  warnings.warn(\"train_data has been renamed data\")\n"
          ],
          "name": "stderr"
        },
        {
          "output_type": "execute_result",
          "data": {
            "text/plain": [
              "torch.Size([60000, 28, 28])"
            ]
          },
          "metadata": {
            "tags": []
          },
          "execution_count": 13
        }
      ]
    },
    {
      "cell_type": "code",
      "metadata": {
        "id": "SE_Hvllaz8hU",
        "outputId": "70f96f36-9a71-4343-f779-7b1024a877ca",
        "colab": {
          "base_uri": "https://localhost:8080/",
          "height": 34
        }
      },
      "source": [
        "X_train.shape"
      ],
      "execution_count": 14,
      "outputs": [
        {
          "output_type": "execute_result",
          "data": {
            "text/plain": [
              "torch.Size([60000, 784])"
            ]
          },
          "metadata": {
            "tags": []
          },
          "execution_count": 14
        }
      ]
    },
    {
      "cell_type": "markdown",
      "metadata": {
        "id": "8gKs62EshI--"
      },
      "source": [
        "Для начала просто преобразуем трёхмерный тензор, который поступает нам на вход, в двумерный (растянем картинку 28*28 в одну линию). Да, тем самымым мы потеряем информацию о том, какие пиксели находятся рядом, какие нет, но зато мы сможем применить наш многослойный Perceptron"
      ]
    },
    {
      "cell_type": "markdown",
      "metadata": {
        "id": "OpSo-K1C07ah"
      },
      "source": [
        "Возможно это можно было сделать внутри класса torchvision.transforms.Compose, но я не разобралась как. Поэтому сделала это вне класса используя просто reshape, который подбирает первую зависимость автоматически, а вторую делает 28*28"
      ]
    },
    {
      "cell_type": "markdown",
      "metadata": {
        "id": "gZHTftrFKnUr"
      },
      "source": [
        "Потом все равно использую dataloader, поэтому делаю reshape внутри каждой эпохи"
      ]
    },
    {
      "cell_type": "markdown",
      "metadata": {
        "id": "uVj2cekRYgCQ"
      },
      "source": [
        "Перед тем как запускать обучение всегда стоит посмотреть на данные после предобработки, и удостовериться, что они соответствуют ожидаемым"
      ]
    },
    {
      "cell_type": "markdown",
      "metadata": {
        "id": "a54G3Kv51e8T"
      },
      "source": [
        "Не понимаю, как работает этот кусок кода..."
      ]
    },
    {
      "cell_type": "code",
      "metadata": {
        "id": "UKB5FXYMYgCQ"
      },
      "source": [
        "indices = np.random.randint(0, len(train_dataset), size=256)\n",
        "\n",
        "fig, axes = plt.subplots(nrows=16, ncols=16, figsize=(32, 32))\n",
        "for i, row in enumerate(axes):\n",
        "    for j, ax in enumerate(row):\n",
        "        sample_index = indices[i*16+j]\n",
        "        sample, label = train_dataset[sample_index]\n",
        "        #print(sample.cpu().numpy().transpose(1, 2, 0))\n",
        "        ax.imshow(sample.cpu().numpy().transpose(1, 2, 0))\n",
        "        ax.set_title(label)"
      ],
      "execution_count": null,
      "outputs": []
    },
    {
      "cell_type": "markdown",
      "metadata": {
        "id": "rYr8Gsx0YgCT"
      },
      "source": [
        "### Обучение модели\n",
        "\n",
        "Теперь, когда мы реализовали модель и подготовили данные мы можем приступить к непосредственному обучению модели. Костяк функции обучения написан ниже, далее вы должны будете реализовать ключевые части этого алгоритма"
      ]
    },
    {
      "cell_type": "code",
      "metadata": {
        "id": "vsTzUgvYYgCT"
      },
      "source": [
        "def train_model(model: torch.nn.Module, \n",
        "                train_dataset: torch.utils.data.Dataset,\n",
        "                val_dataset: torch.utils.data.Dataset,\n",
        "                loss_function: torch.nn.Module = torch.nn.CrossEntropyLoss(),\n",
        "                optimizer_class: Type[torch.optim.Optimizer] = torch.optim,\n",
        "                optimizer_params: Dict = {},\n",
        "                initial_lr = 0.01,\n",
        "                lr_scheduler_class: Any = torch.optim.lr_scheduler.ReduceLROnPlateau,\n",
        "                lr_scheduler_params: Dict = {},\n",
        "                batch_size = 64,\n",
        "                max_epochs = 100,\n",
        "                early_stopping_patience = 20):\n",
        "    optimizer = torch.optim.Adam(model.parameters(), lr=initial_lr, **optimizer_params)\n",
        "    # optimizer = optimizer = optim.DiffGrad(\n",
        "    #   model.parameters(),\n",
        "    #   lr= 1e-3,\n",
        "    #   betas=(0.9, 0.999),\n",
        "    #   eps=1e-8,\n",
        "    #   weight_decay=0,\n",
        "    #   )\n",
        "\n",
        "    lr_scheduler =torch.optim.lr_scheduler.StepLR(optimizer, lr_scheduler_params['step_size'], lr_scheduler_params['gamma'])\n",
        "    #lr_scheduler = lr_scheduler_class(optimizer, **lr_scheduler_params)\n",
        "    \n",
        "    train_loader = torch.utils.data.DataLoader(train_dataset, shuffle=True, batch_size=batch_size)\n",
        "    val_loader = torch.utils.data.DataLoader(val_dataset, batch_size=batch_size)\n",
        "\n",
        "    best_val_loss = None\n",
        "    best_epoch = None\n",
        "    loss_hist_train = []\n",
        "    accuracy_hist_train = []\n",
        "\n",
        "    loss_hist_val = []\n",
        "    accuracy_hist_val = []\n",
        "    for epoch in range(max_epochs):\n",
        "        \n",
        "        print(f'Epoch {epoch}')\n",
        "        metric_train = train_single_epoch(model, optimizer, loss_function, train_loader) # тренировка отдельной эпохи\n",
        "        #lr_scheduler.step()\n",
        "\n",
        "        loss_hist_val.append(metric_train['loss']) # добавление в историю результатов тренировки\n",
        "        accuracy_hist_val.append(metric_train['accuracy'])\n",
        "\n",
        "        val_metrics = validate_single_epoch(model, loss_function, val_loader) # валидация\n",
        "\n",
        "        loss_hist_train.append(val_metrics['loss'])\n",
        "        accuracy_hist_train.append(val_metrics['accuracy'])\n",
        "        print(f'Validation metrics: \\n{val_metrics}')\n",
        "\n",
        "        lr_scheduler.step(val_metrics['loss'])\n",
        "        \n",
        "        if best_val_loss is None or best_val_loss > val_metrics['loss']:\n",
        "            print(f'Best model yet, saving')\n",
        "            best_val_loss = val_metrics['loss']\n",
        "            best_epoch = epoch\n",
        "            torch.save(model, './best_model.pth')\n",
        "            \n",
        "        if epoch - best_epoch > early_stopping_patience:\n",
        "            print('Early stopping triggered')\n",
        "            break\n",
        "            #return loss_hist_train, accuracy_hist_train, loss_hist_val, accuracy_hist_val\n",
        "    return loss_hist_train, accuracy_hist_train, loss_hist_val, accuracy_hist_val"
      ],
      "execution_count": 78,
      "outputs": []
    },
    {
      "cell_type": "markdown",
      "metadata": {
        "id": "Ua0KyJv7YgCY"
      },
      "source": [
        "### Задание 5\n",
        "\n",
        "Реализуйте функцию, производящую обучение сети на протяжении одной эпохи ( полного прохода по всей обучающей выборке ). На вход будет приходить модель, оптимизатор, функция потерь и объект типа `DataLoader`. При итерировании по `data_loader` вы будете получать пары вида ( данные, целевая_переменная )"
      ]
    },
    {
      "cell_type": "code",
      "metadata": {
        "id": "XereEiJaYgCY"
      },
      "source": [
        "def train_single_epoch(model: torch.nn.Module,\n",
        "                       optimizer: torch.optim.Optimizer, \n",
        "                       loss_function: torch.nn.Module, \n",
        "                       data_loader: torch.utils.data.DataLoader):\n",
        "    loss_history = []\n",
        "    accuracy_history = []\n",
        "    for X, y in data_loader:\n",
        "      X_batch = X.reshape([-1, 28 * 28])\n",
        "\n",
        "      X_batch = X_batch.to(device) # переносим на видеопамять для вычисления (для скорости обучения делаю на colab)\n",
        "      y = y.to(device)\n",
        "\n",
        "\n",
        "      optimizer.zero_grad() # обнуляем градиент, так как он не обнуляется с предыдущей итерации\n",
        "\n",
        "      pred = model.forward(X_batch) # получаю предсказание модели\n",
        "\n",
        "      loss_value = loss_function(pred, y) # значение лосс функции на батче\n",
        "      loss_history.append(loss_value)\n",
        "      accuracy = (pred.argmax(dim=1) == y).float().mean() # точность это сколько из возможных угадала наша модель\n",
        "      accuracy_history.append(accuracy)\n",
        "      loss_value.backward() # производная по каждой из компонент нашей нейронной сети\n",
        "\n",
        "      optimizer.step() # делаем шаг нашего оптимизатора\n",
        "    return {'loss': float(sum(loss_history)/len(loss_history)), 'accuracy': float(sum(accuracy_history)/len(accuracy_history))}"
      ],
      "execution_count": 17,
      "outputs": []
    },
    {
      "cell_type": "markdown",
      "metadata": {
        "id": "ghhuujMZYgCb"
      },
      "source": [
        "### Задание 6\n",
        "\n",
        "Реализуйте функцию производящую вычисление функции потерь на валидационной выборке.  На вход будет приходить модель, функция потерь и `DataLoader`. На выходе ожидается словарь с вида:\n",
        "```\n",
        "{\n",
        "    'loss': <среднее значение функции потерь>,\n",
        "    'accuracy': <среднее значение точности модели>\n",
        "}\n",
        "```"
      ]
    },
    {
      "cell_type": "code",
      "metadata": {
        "id": "AOtfpMC0YgCb"
      },
      "source": [
        "def validate_single_epoch(model: torch.nn.Module,\n",
        "                          loss_function: torch.nn.Module, \n",
        "                          data_loader: torch.utils.data.DataLoader):\n",
        "    loss_history = []\n",
        "    accuracy_history = []\n",
        "    accuracy = 0\n",
        "    for X, y in data_loader:\n",
        "      X_test = X.reshape([-1, 28 * 28])\n",
        "      pred_test = model.forward(X_test)  # получаем результат на валидации\n",
        "\n",
        "      loss_val = loss_function(pred_test, y) # лосс функция на валидации на одном батче\n",
        "      loss_history.append(loss_val) #  добавляем в массив значение лосс функции на батче\n",
        "      accuracy = (pred_test.argmax(dim=1) == y).float().mean() # точность это сколько из возможных угадала наша модель\n",
        "      accuracy_history.append(accuracy)\n",
        "      \n",
        "    res_dict = {'loss': float(sum(loss_history)/len(loss_history)), 'accuracy': float(sum(accuracy_history)/len(accuracy_history))}\n",
        "    return res_dict\n",
        "\n",
        "\n",
        "\n",
        "\n",
        "\n"
      ],
      "execution_count": 18,
      "outputs": []
    },
    {
      "cell_type": "markdown",
      "metadata": {
        "id": "qHY77Q4tYgCe"
      },
      "source": [
        "Если вы корректно реализовали все предыдущие шаги и ваша модель имеет достаточное количество обучаемых параметров, то в следующей ячейке должен пойти процесс обучения, и мы должны достичь итоговой точности (в смысле меры accuracy, доли верных ответов) выше 90%"
      ]
    },
    {
      "cell_type": "code",
      "metadata": {
        "id": "s1oEJfOCXSw7"
      },
      "source": [
        "device = torch.device('cuda:0' if torch.cuda.is_available() else 'cpu') # если видеокарта доступно, будем переносить туда вычисления\n",
        "model = model.to(device) # все параметры нейронной сети переносим на видеопамять, так как с ними вычисления происходят очень часто\n",
        "# list(mnist_net.parameters()) # проверяем, что все веса и байесы переместились"
      ],
      "execution_count": 19,
      "outputs": []
    },
    {
      "cell_type": "code",
      "metadata": {
        "id": "ngBwK-BQYgCe",
        "outputId": "7e049044-962b-4b14-c252-8e6e66edeac7",
        "colab": {
          "base_uri": "https://localhost:8080/",
          "height": 1000
        }
      },
      "source": [
        "train_model(model, \n",
        "            train_dataset=train_dataset, \n",
        "            val_dataset=val_dataset, \n",
        "            loss_function=torch.nn.CrossEntropyLoss(), \n",
        "            initial_lr=0.01)"
      ],
      "execution_count": null,
      "outputs": [
        {
          "output_type": "stream",
          "text": [
            "Epoch 0\n",
            "Validation metrics: \n",
            "{'loss': 0.16420666873455048, 'accuracy': 0.9523288011550903}\n",
            "Best model yet, saving\n",
            "Epoch 1\n",
            "Validation metrics: \n",
            "{'loss': 0.17256665229797363, 'accuracy': 0.9499402642250061}\n",
            "Epoch 2\n",
            "Validation metrics: \n",
            "{'loss': 0.17492757737636566, 'accuracy': 0.9492436051368713}\n",
            "Epoch 3\n",
            "Validation metrics: \n",
            "{'loss': 0.15717710554599762, 'accuracy': 0.956409215927124}\n",
            "Best model yet, saving\n",
            "Epoch 4\n",
            "Validation metrics: \n",
            "{'loss': 0.1613512635231018, 'accuracy': 0.9550158977508545}\n",
            "Epoch 5\n",
            "Validation metrics: \n",
            "{'loss': 0.1752701997756958, 'accuracy': 0.9487460255622864}\n",
            "Epoch 6\n",
            "Validation metrics: \n",
            "{'loss': 0.1733340322971344, 'accuracy': 0.9505374431610107}\n",
            "Epoch 7\n",
            "Validation metrics: \n",
            "{'loss': 0.16027899086475372, 'accuracy': 0.9541202187538147}\n",
            "Epoch 8\n",
            "Validation metrics: \n",
            "{'loss': 0.15008753538131714, 'accuracy': 0.9565087556838989}\n",
            "Best model yet, saving\n",
            "Epoch 9\n",
            "Validation metrics: \n",
            "{'loss': 0.14529071748256683, 'accuracy': 0.9568073153495789}\n",
            "Best model yet, saving\n",
            "Epoch 10\n",
            "Validation metrics: \n",
            "{'loss': 0.17278291285037994, 'accuracy': 0.9512341022491455}\n",
            "Epoch 11\n",
            "Validation metrics: \n",
            "{'loss': 0.1894872635602951, 'accuracy': 0.9455612897872925}\n",
            "Epoch 12\n",
            "Validation metrics: \n",
            "{'loss': 0.17617911100387573, 'accuracy': 0.9489450454711914}\n",
            "Epoch 13\n",
            "Validation metrics: \n",
            "{'loss': 0.18025559186935425, 'accuracy': 0.9486464858055115}\n",
            "Epoch 14\n",
            "Validation metrics: \n",
            "{'loss': 0.15018408000469208, 'accuracy': 0.9543192386627197}\n",
            "Epoch 15\n",
            "Validation metrics: \n",
            "{'loss': 0.1658027619123459, 'accuracy': 0.9518312215805054}\n",
            "Epoch 16\n",
            "Validation metrics: \n",
            "{'loss': 0.15517652034759521, 'accuracy': 0.952925980091095}\n",
            "Epoch 17\n",
            "Validation metrics: \n",
            "{'loss': 0.16963917016983032, 'accuracy': 0.9515326619148254}\n",
            "Epoch 18\n",
            "Validation metrics: \n",
            "{'loss': 0.17322568595409393, 'accuracy': 0.9501393437385559}\n",
            "Epoch 19\n",
            "Validation metrics: \n",
            "{'loss': 0.16246885061264038, 'accuracy': 0.9526273608207703}\n",
            "Epoch 20\n",
            "Validation metrics: \n",
            "{'loss': 0.1760471761226654, 'accuracy': 0.9514331221580505}\n",
            "Epoch 21\n",
            "Validation metrics: \n",
            "{'loss': 0.13382984697818756, 'accuracy': 0.9600915312767029}\n",
            "Best model yet, saving\n",
            "Epoch 22\n",
            "Validation metrics: \n",
            "{'loss': 0.13560278713703156, 'accuracy': 0.9608877301216125}\n",
            "Epoch 23\n",
            "Validation metrics: \n",
            "{'loss': 0.13316842913627625, 'accuracy': 0.9599920511245728}\n",
            "Best model yet, saving\n",
            "Epoch 24\n",
            "Validation metrics: \n",
            "{'loss': 0.1318412870168686, 'accuracy': 0.9628781676292419}\n",
            "Best model yet, saving\n",
            "Epoch 25\n",
            "Validation metrics: \n",
            "{'loss': 0.13259360194206238, 'accuracy': 0.9616839289665222}\n",
            "Epoch 26\n",
            "Validation metrics: \n",
            "{'loss': 0.1320401281118393, 'accuracy': 0.962380588054657}\n",
            "Epoch 27\n",
            "Validation metrics: \n",
            "{'loss': 0.1324978470802307, 'accuracy': 0.9616839289665222}\n",
            "Epoch 28\n",
            "Validation metrics: \n",
            "{'loss': 0.13586510717868805, 'accuracy': 0.9630772471427917}\n",
            "Epoch 29\n",
            "Validation metrics: \n",
            "{'loss': 0.13154414296150208, 'accuracy': 0.962082028388977}\n",
            "Best model yet, saving\n",
            "Epoch 30\n",
            "Validation metrics: \n",
            "{'loss': 0.12994569540023804, 'accuracy': 0.9619824886322021}\n",
            "Best model yet, saving\n",
            "Epoch 31\n",
            "Validation metrics: \n",
            "{'loss': 0.13577067852020264, 'accuracy': 0.9614848494529724}\n",
            "Epoch 32\n",
            "Validation metrics: \n",
            "{'loss': 0.1330460011959076, 'accuracy': 0.962380588054657}\n",
            "Epoch 33\n",
            "Validation metrics: \n",
            "{'loss': 0.13357047736644745, 'accuracy': 0.9622810482978821}\n",
            "Epoch 34\n",
            "Validation metrics: \n",
            "{'loss': 0.13459524512290955, 'accuracy': 0.9621815085411072}\n",
            "Epoch 35\n",
            "Validation metrics: \n",
            "{'loss': 0.13460788130760193, 'accuracy': 0.9606887102127075}\n",
            "Epoch 36\n",
            "Validation metrics: \n",
            "{'loss': 0.1329522281885147, 'accuracy': 0.9619824886322021}\n",
            "Epoch 37\n",
            "Validation metrics: \n",
            "{'loss': 0.1349509358406067, 'accuracy': 0.9624800682067871}\n",
            "Epoch 38\n",
            "Validation metrics: \n",
            "{'loss': 0.13826999068260193, 'accuracy': 0.9618829488754272}\n",
            "Epoch 39\n",
            "Validation metrics: \n",
            "{'loss': 0.13603873550891876, 'accuracy': 0.9615843892097473}\n",
            "Epoch 40\n",
            "Validation metrics: \n",
            "{'loss': 0.13658516108989716, 'accuracy': 0.9616839289665222}\n",
            "Epoch 41\n",
            "Validation metrics: \n",
            "{'loss': 0.13887636363506317, 'accuracy': 0.962082028388977}\n",
            "Epoch 42\n",
            "Validation metrics: \n",
            "{'loss': 0.13660120964050293, 'accuracy': 0.9621815085411072}\n",
            "Epoch 43\n",
            "Validation metrics: \n",
            "{'loss': 0.13652239739894867, 'accuracy': 0.9621815085411072}\n",
            "Epoch 44\n",
            "Validation metrics: \n",
            "{'loss': 0.13672839105129242, 'accuracy': 0.962082028388977}\n",
            "Epoch 45\n",
            "Validation metrics: \n",
            "{'loss': 0.13678699731826782, 'accuracy': 0.9621815085411072}\n",
            "Epoch 46\n",
            "Validation metrics: \n",
            "{'loss': 0.13693077862262726, 'accuracy': 0.9621815085411072}\n",
            "Epoch 47\n",
            "Validation metrics: \n",
            "{'loss': 0.13695548474788666, 'accuracy': 0.962082028388977}\n",
            "Epoch 48\n",
            "Validation metrics: \n",
            "{'loss': 0.1365593522787094, 'accuracy': 0.9621815085411072}\n",
            "Epoch 49\n",
            "Validation metrics: \n",
            "{'loss': 0.13646629452705383, 'accuracy': 0.9621815085411072}\n",
            "Epoch 50\n",
            "Validation metrics: \n",
            "{'loss': 0.13711155951023102, 'accuracy': 0.9622810482978821}\n",
            "Epoch 51\n",
            "Validation metrics: \n",
            "{'loss': 0.1361342817544937, 'accuracy': 0.9622810482978821}\n",
            "Early stopping triggered\n"
          ],
          "name": "stdout"
        }
      ]
    },
    {
      "cell_type": "markdown",
      "metadata": {
        "id": "EiJR5hFEgAJP"
      },
      "source": [
        "Выше представлено обучение модели, которая достигла точности 96.22\n"
      ]
    },
    {
      "cell_type": "markdown",
      "metadata": {
        "id": "GN7wNyigYgCh"
      },
      "source": [
        "### Задание 7\n",
        "\n",
        "Модифицируйте процесс обучения таким образом, чтобы достигнуть наилучшего качества на валидационной выборке. Модель должна оставаться N-слойным перцептроном с количеством обучаемых параметров <= 500000. Для обучения разрешается использовать только набор данных MNIST. Процесс обучения вы можете изменять по собственному усмотрению. К примеру, вы можете менять:\n",
        "\n",
        "* Архитектуру модели в рамках наложенных ограничений на количество параметров и вид архитектуры (многослойный перцептрон)\n",
        "* Функции активации в модели\n",
        "* Используемый оптимизатор\n",
        "* Расписание шага оптимизации\n",
        "* Сэмплинг данных при обучении ( e.g. hard negative mining)\n",
        "\n",
        "В результате мы ожидаем увидеть код экспериментов и любые инсайты, которые вы сможете получить в процессе"
      ]
    },
    {
      "cell_type": "markdown",
      "metadata": {
        "id": "wpwq841T6O36"
      },
      "source": [
        "Потренируем модель ещё раз и посмотрим, как меняется значение loss функции и accuracy от эпохи"
      ]
    },
    {
      "cell_type": "markdown",
      "metadata": {
        "id": "D5XII8nGAPYe"
      },
      "source": [
        "### !!!подписи в легенде на всех графиках должны быть наоборот (вместо val стоит train и вместо train стоит val)"
      ]
    },
    {
      "cell_type": "markdown",
      "metadata": {
        "id": "jEs4FuI9AlVj"
      },
      "source": [
        "когда анализировала не смотрела на легенду, так как понятно и без неё, где что, когда хотела отправлять, обнвружила эту ошибку... "
      ]
    },
    {
      "cell_type": "markdown",
      "metadata": {
        "id": "2XtvaJ7JAip1"
      },
      "source": [
        ""
      ]
    },
    {
      "cell_type": "code",
      "metadata": {
        "id": "dY5IuA3MkCQe",
        "outputId": "30649256-f28f-452d-8e0a-282ec489c987",
        "colab": {
          "base_uri": "https://localhost:8080/",
          "height": 1000
        }
      },
      "source": [
        "loss_hist_train, accuracy_hist_train, loss_hist_val, accuracy_hist_val = train_model(model, \n",
        "            train_dataset=train_dataset, \n",
        "            val_dataset=val_dataset, \n",
        "            loss_function=torch.nn.CrossEntropyLoss(), \n",
        "            initial_lr=0.01)"
      ],
      "execution_count": null,
      "outputs": [
        {
          "output_type": "stream",
          "text": [
            "Epoch 0\n",
            "Validation metrics: \n",
            "{'loss': 0.24809084832668304, 'accuracy': 0.9286425113677979}\n",
            "Best model yet, saving\n",
            "Epoch 1\n",
            "Validation metrics: \n",
            "{'loss': 0.22148771584033966, 'accuracy': 0.9333200454711914}\n",
            "Best model yet, saving\n",
            "Epoch 2\n",
            "Validation metrics: \n",
            "{'loss': 0.2041497379541397, 'accuracy': 0.9352110028266907}\n",
            "Best model yet, saving\n",
            "Epoch 3\n",
            "Validation metrics: \n",
            "{'loss': 0.21240873634815216, 'accuracy': 0.933917224407196}\n",
            "Epoch 4\n",
            "Validation metrics: \n",
            "{'loss': 0.18734560906887054, 'accuracy': 0.9455612897872925}\n",
            "Best model yet, saving\n",
            "Epoch 5\n",
            "Validation metrics: \n",
            "{'loss': 0.20193032920360565, 'accuracy': 0.9414808750152588}\n",
            "Epoch 6\n",
            "Validation metrics: \n",
            "{'loss': 0.19810079038143158, 'accuracy': 0.9435708522796631}\n",
            "Epoch 7\n",
            "Validation metrics: \n",
            "{'loss': 0.2094324380159378, 'accuracy': 0.9391918778419495}\n",
            "Epoch 8\n",
            "Validation metrics: \n",
            "{'loss': 0.20744284987449646, 'accuracy': 0.9381966590881348}\n",
            "Epoch 9\n",
            "Validation metrics: \n",
            "{'loss': 0.2039307802915573, 'accuracy': 0.9406847357749939}\n",
            "Epoch 10\n",
            "Validation metrics: \n",
            "{'loss': 0.18901188671588898, 'accuracy': 0.9418789744377136}\n",
            "Epoch 11\n",
            "Validation metrics: \n",
            "{'loss': 0.18914754688739777, 'accuracy': 0.9459593892097473}\n",
            "Epoch 12\n",
            "Validation metrics: \n",
            "{'loss': 0.19016799330711365, 'accuracy': 0.9449641704559326}\n",
            "Epoch 13\n",
            "Validation metrics: \n",
            "{'loss': 0.17156600952148438, 'accuracy': 0.9507364630699158}\n",
            "Best model yet, saving\n",
            "Epoch 14\n",
            "Validation metrics: \n",
            "{'loss': 0.18412336707115173, 'accuracy': 0.9453622698783875}\n",
            "Epoch 15\n",
            "Validation metrics: \n",
            "{'loss': 0.17148679494857788, 'accuracy': 0.9489450454711914}\n",
            "Best model yet, saving\n",
            "Epoch 16\n",
            "Validation metrics: \n",
            "{'loss': 0.1871802806854248, 'accuracy': 0.9465565085411072}\n",
            "Epoch 17\n",
            "Validation metrics: \n",
            "{'loss': 0.18897277116775513, 'accuracy': 0.944167971611023}\n",
            "Epoch 18\n",
            "Validation metrics: \n",
            "{'loss': 0.191499263048172, 'accuracy': 0.9465565085411072}\n",
            "Epoch 19\n",
            "Validation metrics: \n",
            "{'loss': 0.22272750735282898, 'accuracy': 0.9340167045593262}\n",
            "Epoch 20\n",
            "Validation metrics: \n",
            "{'loss': 0.1902744472026825, 'accuracy': 0.9457603693008423}\n",
            "Epoch 21\n",
            "Validation metrics: \n",
            "{'loss': 0.20940625667572021, 'accuracy': 0.940784215927124}\n",
            "Epoch 22\n",
            "Validation metrics: \n",
            "{'loss': 0.17424336075782776, 'accuracy': 0.9490445852279663}\n",
            "Epoch 23\n",
            "Validation metrics: \n",
            "{'loss': 0.18974341452121735, 'accuracy': 0.9490445852279663}\n",
            "Epoch 24\n",
            "Validation metrics: \n",
            "{'loss': 0.16012431681156158, 'accuracy': 0.9549164175987244}\n",
            "Best model yet, saving\n",
            "Epoch 25\n",
            "Validation metrics: \n",
            "{'loss': 0.17298775911331177, 'accuracy': 0.9515326619148254}\n",
            "Epoch 26\n",
            "Validation metrics: \n",
            "{'loss': 0.1934644728899002, 'accuracy': 0.9449641704559326}\n",
            "Epoch 27\n",
            "Validation metrics: \n",
            "{'loss': 0.1696871966123581, 'accuracy': 0.9512341022491455}\n",
            "Epoch 28\n",
            "Validation metrics: \n",
            "{'loss': 0.1791248470544815, 'accuracy': 0.9486464858055115}\n",
            "Epoch 29\n",
            "Validation metrics: \n",
            "{'loss': 0.193247452378273, 'accuracy': 0.9461584687232971}\n",
            "Epoch 30\n",
            "Validation metrics: \n",
            "{'loss': 0.20616008341312408, 'accuracy': 0.940386176109314}\n",
            "Epoch 31\n",
            "Validation metrics: \n",
            "{'loss': 0.18878298997879028, 'accuracy': 0.9471536874771118}\n",
            "Epoch 32\n",
            "Validation metrics: \n",
            "{'loss': 0.21491830050945282, 'accuracy': 0.9426751732826233}\n",
            "Epoch 33\n",
            "Validation metrics: \n",
            "{'loss': 0.19159990549087524, 'accuracy': 0.9463574886322021}\n",
            "Epoch 34\n",
            "Validation metrics: \n",
            "{'loss': 0.18585602939128876, 'accuracy': 0.9503383636474609}\n",
            "Epoch 35\n",
            "Validation metrics: \n",
            "{'loss': 0.1886519342660904, 'accuracy': 0.9456608295440674}\n",
            "Epoch 36\n",
            "Validation metrics: \n",
            "{'loss': 0.14375406503677368, 'accuracy': 0.9593949317932129}\n",
            "Best model yet, saving\n",
            "Epoch 37\n",
            "Validation metrics: \n",
            "{'loss': 0.1432599425315857, 'accuracy': 0.9609872698783875}\n",
            "Best model yet, saving\n",
            "Epoch 38\n",
            "Validation metrics: \n",
            "{'loss': 0.13908536732196808, 'accuracy': 0.9616839289665222}\n",
            "Best model yet, saving\n",
            "Epoch 39\n",
            "Validation metrics: \n",
            "{'loss': 0.1413671225309372, 'accuracy': 0.962380588054657}\n",
            "Epoch 40\n",
            "Validation metrics: \n",
            "{'loss': 0.14090095460414886, 'accuracy': 0.9610868096351624}\n",
            "Epoch 41\n",
            "Validation metrics: \n",
            "{'loss': 0.13971582055091858, 'accuracy': 0.9612858295440674}\n",
            "Epoch 42\n",
            "Validation metrics: \n",
            "{'loss': 0.1425064206123352, 'accuracy': 0.9602906107902527}\n",
            "Epoch 43\n",
            "Validation metrics: \n",
            "{'loss': 0.14333118498325348, 'accuracy': 0.9613853693008423}\n",
            "Epoch 44\n",
            "Validation metrics: \n",
            "{'loss': 0.14158836007118225, 'accuracy': 0.9613853693008423}\n",
            "Epoch 45\n",
            "Validation metrics: \n",
            "{'loss': 0.14204590022563934, 'accuracy': 0.9605891704559326}\n",
            "Epoch 46\n",
            "Validation metrics: \n",
            "{'loss': 0.1407572329044342, 'accuracy': 0.9615843892097473}\n",
            "Epoch 47\n",
            "Validation metrics: \n",
            "{'loss': 0.13947157561779022, 'accuracy': 0.9614848494529724}\n",
            "Epoch 48\n",
            "Validation metrics: \n",
            "{'loss': 0.144130140542984, 'accuracy': 0.9609872698783875}\n",
            "Epoch 49\n",
            "Validation metrics: \n",
            "{'loss': 0.1417893022298813, 'accuracy': 0.9608877301216125}\n"
          ],
          "name": "stdout"
        }
      ]
    },
    {
      "cell_type": "code",
      "metadata": {
        "id": "uYUFlEfjarMy",
        "outputId": "1166b78c-c416-4368-ba95-111f364c8aa4",
        "colab": {
          "base_uri": "https://localhost:8080/",
          "height": 299
        }
      },
      "source": [
        "plt.plot(loss_hist_train, label='loss function train') # график убывания loss функции от номера эпохи\n",
        "plt.plot(loss_hist_val, label='loss function validation', c='r')\n",
        "plt.legend(loc='upper left')\n",
        "plt.xlabel('$n\\_epoxa$')\n",
        "plt.ylabel('$loss$')"
      ],
      "execution_count": null,
      "outputs": [
        {
          "output_type": "execute_result",
          "data": {
            "text/plain": [
              "Text(0, 0.5, '$loss$')"
            ]
          },
          "metadata": {
            "tags": []
          },
          "execution_count": 18
        },
        {
          "output_type": "display_data",
          "data": {
            "image/png": "[encoded data removed]",
            "text/plain": [
              "<Figure size 432x288 with 1 Axes>"
            ]
          },
          "metadata": {
            "tags": [],
            "needs_background": "light"
          }
        }
      ]
    },
    {
      "cell_type": "markdown",
      "metadata": {
        "id": "7VAY5REIb9c4"
      },
      "source": [
        "допущена опечатка в место test в легенде графика конечно же должно быть подписано train"
      ]
    },
    {
      "cell_type": "code",
      "metadata": {
        "id": "89u8fBoZYgCh",
        "outputId": "2a145921-11b7-42be-da73-24c85dc9e7d5",
        "colab": {
          "base_uri": "https://localhost:8080/",
          "height": 299
        }
      },
      "source": [
        "plt.plot(accuracy_hist_val, c='r', label='accuracy_val')\n",
        "plt.plot(accuracy_hist_train, c='g', label='accuracy_Train')\n",
        "plt.legend(loc='upper left')\n",
        "plt.xlabel('$n\\_epoxa$')\n",
        "plt.ylabel('$accuracy$')"
      ],
      "execution_count": null,
      "outputs": [
        {
          "output_type": "execute_result",
          "data": {
            "text/plain": [
              "Text(0, 0.5, '$accuracy$')"
            ]
          },
          "metadata": {
            "tags": []
          },
          "execution_count": 19
        },
        {
          "output_type": "display_data",
          "data": {
            "image/png": "[encoded data removed]",
            "text/plain": [
              "<Figure size 432x288 with 1 Axes>"
            ]
          },
          "metadata": {
            "tags": [],
            "needs_background": "light"
          }
        }
      ]
    },
    {
      "cell_type": "markdown",
      "metadata": {
        "id": "dc6KgFc6apxl"
      },
      "source": [
        "### с функцией активации ReLU"
      ]
    },
    {
      "cell_type": "markdown",
      "metadata": {
        "id": "GGNhHGtH6Zgd"
      },
      "source": [
        "Попробуем заменить функцию активации с Sigmod на ReLu и посмотреть, какой результат это даст (всё остальное: параметры обучения и модель, оставляем таким же)"
      ]
    },
    {
      "cell_type": "code",
      "metadata": {
        "id": "WYCPf1YdYMaZ",
        "outputId": "1786e3ec-667f-4c1e-d663-a54f94dbd90d",
        "colab": {
          "base_uri": "https://localhost:8080/",
          "height": 1000
        }
      },
      "source": [
        "loss_hist_train, accuracy_hist_train, loss_hist_val, accuracy_hist_val = train_model(model, \n",
        "            train_dataset=train_dataset, \n",
        "            val_dataset=val_dataset, \n",
        "            loss_function=torch.nn.CrossEntropyLoss(), \n",
        "            initial_lr=0.01)"
      ],
      "execution_count": 24,
      "outputs": [
        {
          "output_type": "stream",
          "text": [
            "Epoch 0\n",
            "Validation metrics: \n",
            "{'loss': 0.3259353041648865, 'accuracy': 0.9509354829788208}\n",
            "Best model yet, saving\n",
            "Epoch 1\n",
            "Validation metrics: \n",
            "{'loss': 0.27265816926956177, 'accuracy': 0.9589968323707581}\n",
            "Best model yet, saving\n",
            "Epoch 2\n",
            "Validation metrics: \n",
            "{'loss': 0.2526490390300751, 'accuracy': 0.9547173380851746}\n",
            "Best model yet, saving\n",
            "Epoch 3\n",
            "Validation metrics: \n",
            "{'loss': 0.3133580982685089, 'accuracy': 0.9524283409118652}\n",
            "Epoch 4\n",
            "Validation metrics: \n",
            "{'loss': 0.31807002425193787, 'accuracy': 0.9446656107902527}\n",
            "Epoch 5\n",
            "Validation metrics: \n",
            "{'loss': 0.3830749988555908, 'accuracy': 0.9524283409118652}\n",
            "Epoch 6\n",
            "Validation metrics: \n",
            "{'loss': 0.3607003390789032, 'accuracy': 0.9425756335258484}\n",
            "Epoch 7\n",
            "Validation metrics: \n",
            "{'loss': 0.3290767967700958, 'accuracy': 0.9461584687232971}\n",
            "Epoch 8\n",
            "Validation metrics: \n",
            "{'loss': 0.34476056694984436, 'accuracy': 0.9409832954406738}\n",
            "Epoch 9\n",
            "Validation metrics: \n",
            "{'loss': 0.27251896262168884, 'accuracy': 0.9554139971733093}\n",
            "Epoch 10\n",
            "Validation metrics: \n",
            "{'loss': 0.35205215215682983, 'accuracy': 0.9525278806686401}\n",
            "Epoch 11\n",
            "Validation metrics: \n",
            "{'loss': 0.2721197009086609, 'accuracy': 0.9578025341033936}\n",
            "Epoch 12\n",
            "Validation metrics: \n",
            "{'loss': 0.3157082498073578, 'accuracy': 0.9561106562614441}\n",
            "Epoch 13\n",
            "Validation metrics: \n",
            "{'loss': 0.3321002423763275, 'accuracy': 0.9541202187538147}\n",
            "Epoch 14\n",
            "Validation metrics: \n",
            "{'loss': 0.24565266072750092, 'accuracy': 0.9660629034042358}\n",
            "Best model yet, saving\n",
            "Epoch 15\n",
            "Validation metrics: \n",
            "{'loss': 0.23930767178535461, 'accuracy': 0.9669585824012756}\n",
            "Best model yet, saving\n",
            "Epoch 16\n",
            "Validation metrics: \n",
            "{'loss': 0.23659420013427734, 'accuracy': 0.9672571420669556}\n",
            "Best model yet, saving\n",
            "Epoch 17\n",
            "Validation metrics: \n",
            "{'loss': 0.22979454696178436, 'accuracy': 0.9675557613372803}\n",
            "Best model yet, saving\n",
            "Epoch 18\n",
            "Validation metrics: \n",
            "{'loss': 0.23887945711612701, 'accuracy': 0.9662619233131409}\n",
            "Epoch 19\n",
            "Validation metrics: \n",
            "{'loss': 0.23528097569942474, 'accuracy': 0.965664803981781}\n",
            "Epoch 20\n",
            "Validation metrics: \n",
            "{'loss': 0.2378690242767334, 'accuracy': 0.9663614630699158}\n",
            "Epoch 21\n",
            "Validation metrics: \n",
            "{'loss': 0.2421935796737671, 'accuracy': 0.9661624431610107}\n",
            "Epoch 22\n",
            "Validation metrics: \n",
            "{'loss': 0.2381334900856018, 'accuracy': 0.9655652642250061}\n",
            "Epoch 23\n",
            "Validation metrics: \n",
            "{'loss': 0.23726534843444824, 'accuracy': 0.9660629034042358}\n",
            "Epoch 24\n",
            "Validation metrics: \n",
            "{'loss': 0.24671778082847595, 'accuracy': 0.9670581221580505}\n",
            "Epoch 25\n",
            "Validation metrics: \n",
            "{'loss': 0.2497393637895584, 'accuracy': 0.965664803981781}\n",
            "Epoch 26\n",
            "Validation metrics: \n",
            "{'loss': 0.2588823139667511, 'accuracy': 0.965863823890686}\n",
            "Epoch 27\n",
            "Validation metrics: \n",
            "{'loss': 0.24905864894390106, 'accuracy': 0.9657643437385559}\n",
            "Epoch 28\n",
            "Validation metrics: \n",
            "{'loss': 0.25499847531318665, 'accuracy': 0.9659633636474609}\n",
            "Epoch 29\n",
            "Validation metrics: \n",
            "{'loss': 0.253235787153244, 'accuracy': 0.9659633636474609}\n",
            "Epoch 30\n",
            "Validation metrics: \n",
            "{'loss': 0.2534242272377014, 'accuracy': 0.9660629034042358}\n",
            "Epoch 31\n",
            "Validation metrics: \n",
            "{'loss': 0.25418543815612793, 'accuracy': 0.9663614630699158}\n",
            "Epoch 32\n",
            "Validation metrics: \n",
            "{'loss': 0.25440913438796997, 'accuracy': 0.9668591022491455}\n",
            "Epoch 33\n",
            "Validation metrics: \n",
            "{'loss': 0.25322219729423523, 'accuracy': 0.9661624431610107}\n",
            "Epoch 34\n",
            "Validation metrics: \n",
            "{'loss': 0.253862202167511, 'accuracy': 0.9665604829788208}\n",
            "Epoch 35\n",
            "Validation metrics: \n",
            "{'loss': 0.2556009888648987, 'accuracy': 0.9663614630699158}\n",
            "Epoch 36\n",
            "Validation metrics: \n",
            "{'loss': 0.25538527965545654, 'accuracy': 0.9662619233131409}\n",
            "Epoch 37\n",
            "Validation metrics: \n",
            "{'loss': 0.2550848722457886, 'accuracy': 0.9661624431610107}\n",
            "Epoch 38\n",
            "Validation metrics: \n",
            "{'loss': 0.2561095058917999, 'accuracy': 0.9665604829788208}\n",
            "Early stopping triggered\n"
          ],
          "name": "stdout"
        }
      ]
    },
    {
      "cell_type": "code",
      "metadata": {
        "id": "aethtyy560K1",
        "outputId": "4df30079-b7df-4d27-dd49-658dd9d8a1aa",
        "colab": {
          "base_uri": "https://localhost:8080/",
          "height": 302
        }
      },
      "source": [
        "plt.plot(loss_hist_train, label='loss function train') # график убывания loss функции от номера эпохи\n",
        "plt.plot(loss_hist_val, label='loss function validation', c='r')\n",
        "plt.legend(loc='upper left')\n",
        "plt.xlabel('$n\\_epoxa$')\n",
        "plt.ylabel('$loss$')"
      ],
      "execution_count": 27,
      "outputs": [
        {
          "output_type": "execute_result",
          "data": {
            "text/plain": [
              "Text(0, 0.5, '$loss$')"
            ]
          },
          "metadata": {
            "tags": []
          },
          "execution_count": 27
        },
        {
          "output_type": "display_data",
          "data": {
            "image/png": "[encoded data removed]",
            "text/plain": [
              "<Figure size 432x288 with 1 Axes>"
            ]
          },
          "metadata": {
            "tags": [],
            "needs_background": "light"
          }
        }
      ]
    },
    {
      "cell_type": "code",
      "metadata": {
        "id": "bK9KGhvJaba-",
        "outputId": "99e2eef5-60b3-4e2d-c556-7da03eff616e",
        "colab": {
          "base_uri": "https://localhost:8080/",
          "height": 299
        }
      },
      "source": [
        "plt.plot(accuracy_hist_val, c='r', label='accuracy_val')\n",
        "plt.plot(accuracy_hist_train, c='g', label='accuracy_Train')\n",
        "plt.legend(loc='upper left')\n",
        "plt.xlabel('$n\\_epoxa$')\n",
        "plt.ylabel('$accuracy$')"
      ],
      "execution_count": 28,
      "outputs": [
        {
          "output_type": "execute_result",
          "data": {
            "text/plain": [
              "Text(0, 0.5, '$accuracy$')"
            ]
          },
          "metadata": {
            "tags": []
          },
          "execution_count": 28
        },
        {
          "output_type": "display_data",
          "data": {
            "image/png": "[encoded data removed]",
            "text/plain": [
              "<Figure size 432x288 with 1 Axes>"
            ]
          },
          "metadata": {
            "tags": [],
            "needs_background": "light"
          }
        }
      ]
    },
    {
      "cell_type": "markdown",
      "metadata": {
        "id": "blkTrnyCbA2r"
      },
      "source": [
        "Полученная точность 96.65 совсем на немного лучше, чем с функцией активации sigmoid. Также по графикам видим, что тут мы сходимся за меньшее число эпох. То есть лосс перестаёт сильно скакать где-то на 15 эпохе, а с sigmoid на 40"
      ]
    },
    {
      "cell_type": "markdown",
      "metadata": {
        "id": "wd804-A7lD-p"
      },
      "source": [
        "### Изменение процесса обучения на модели с ReLU"
      ]
    },
    {
      "cell_type": "markdown",
      "metadata": {
        "id": "az-3SnW8lNXw"
      },
      "source": [
        "Попробуем с помощью scheduler изменять шаг метода оптимизации - Adam каждые 5 эпох домножая на 0.95"
      ]
    },
    {
      "cell_type": "code",
      "metadata": {
        "id": "mHDHUtCLae-Z",
        "outputId": "123c7358-9d6a-478f-9e2f-57e7e6c5e352",
        "colab": {
          "base_uri": "https://localhost:8080/",
          "height": 1000
        }
      },
      "source": [
        "loss_hist_train, accuracy_hist_train, loss_hist_val, accuracy_hist_val = train_model(model, \n",
        "            train_dataset=train_dataset, \n",
        "            val_dataset=val_dataset, \n",
        "            loss_function=torch.nn.CrossEntropyLoss(), \n",
        "            initial_lr=0.01,\n",
        "            lr_scheduler_params ={'step_size': 5, 'gamma': 0.95})"
      ],
      "execution_count": 79,
      "outputs": [
        {
          "output_type": "stream",
          "text": [
            "Epoch 0\n",
            "Validation metrics: \n",
            "{'loss': 0.26532840728759766, 'accuracy': 0.9209793210029602}\n",
            "Best model yet, saving\n",
            "Epoch 1\n"
          ],
          "name": "stdout"
        },
        {
          "output_type": "stream",
          "text": [
            "/usr/local/lib/python3.6/dist-packages/torch/optim/lr_scheduler.py:143: UserWarning: The epoch parameter in `scheduler.step()` was not necessary and is being deprecated where possible. Please use `scheduler.step()` to step the scheduler. During the deprecation, if epoch is different from None, the closed form is used instead of the new chainable form, where available. Please open an issue if you are unable to replicate your use case: https://github.com/pytorch/pytorch/issues/new/choose.\n",
            "  warnings.warn(EPOCH_DEPRECATION_WARNING, UserWarning)\n"
          ],
          "name": "stderr"
        },
        {
          "output_type": "stream",
          "text": [
            "Validation metrics: \n",
            "{'loss': 0.17866624891757965, 'accuracy': 0.9475517272949219}\n",
            "Best model yet, saving\n",
            "Epoch 2\n",
            "Validation metrics: \n",
            "{'loss': 0.20122089982032776, 'accuracy': 0.9429737329483032}\n",
            "Epoch 3\n",
            "Validation metrics: \n",
            "{'loss': 0.18655329942703247, 'accuracy': 0.9463574886322021}\n",
            "Epoch 4\n",
            "Validation metrics: \n",
            "{'loss': 0.18480248749256134, 'accuracy': 0.9494426846504211}\n",
            "Epoch 5\n",
            "Validation metrics: \n",
            "{'loss': 0.17479132115840912, 'accuracy': 0.949542224407196}\n",
            "Best model yet, saving\n",
            "Epoch 6\n",
            "Validation metrics: \n",
            "{'loss': 0.18617790937423706, 'accuracy': 0.9526273608207703}\n",
            "Epoch 7\n",
            "Validation metrics: \n",
            "{'loss': 0.19902317225933075, 'accuracy': 0.9451631903648376}\n",
            "Epoch 8\n",
            "Validation metrics: \n",
            "{'loss': 0.23185314238071442, 'accuracy': 0.9387937784194946}\n",
            "Epoch 9\n",
            "Validation metrics: \n",
            "{'loss': 0.17662809789180756, 'accuracy': 0.9515326619148254}\n",
            "Epoch 10\n",
            "Validation metrics: \n",
            "{'loss': 0.19887042045593262, 'accuracy': 0.9508360028266907}\n",
            "Epoch 11\n",
            "Validation metrics: \n",
            "{'loss': 0.1853773295879364, 'accuracy': 0.956409215927124}\n",
            "Epoch 12\n",
            "Validation metrics: \n",
            "{'loss': 0.16361451148986816, 'accuracy': 0.9578025341033936}\n",
            "Best model yet, saving\n",
            "Epoch 13\n",
            "Validation metrics: \n",
            "{'loss': 0.17877548933029175, 'accuracy': 0.9547173380851746}\n",
            "Epoch 14\n",
            "Validation metrics: \n",
            "{'loss': 0.17734377086162567, 'accuracy': 0.9608877301216125}\n",
            "Epoch 15\n",
            "Validation metrics: \n",
            "{'loss': 0.20677246153354645, 'accuracy': 0.9491441249847412}\n",
            "Epoch 16\n",
            "Validation metrics: \n",
            "{'loss': 0.2040771245956421, 'accuracy': 0.9496417045593262}\n",
            "Epoch 17\n",
            "Validation metrics: \n",
            "{'loss': 0.17225706577301025, 'accuracy': 0.9572054147720337}\n",
            "Epoch 18\n",
            "Validation metrics: \n",
            "{'loss': 0.17329172790050507, 'accuracy': 0.959792971611023}\n",
            "Epoch 19\n",
            "Validation metrics: \n",
            "{'loss': 0.2185155302286148, 'accuracy': 0.9465565085411072}\n",
            "Epoch 20\n",
            "Validation metrics: \n",
            "{'loss': 0.19535765051841736, 'accuracy': 0.9517316818237305}\n",
            "Epoch 21\n",
            "Validation metrics: \n",
            "{'loss': 0.23150265216827393, 'accuracy': 0.946954607963562}\n",
            "Epoch 22\n",
            "Validation metrics: \n",
            "{'loss': 0.19167105853557587, 'accuracy': 0.9534235596656799}\n",
            "Epoch 23\n",
            "Validation metrics: \n",
            "{'loss': 0.1674344837665558, 'accuracy': 0.9615843892097473}\n",
            "Epoch 24\n",
            "Validation metrics: \n",
            "{'loss': 0.2217259258031845, 'accuracy': 0.9496417045593262}\n",
            "Epoch 25\n",
            "Validation metrics: \n",
            "{'loss': 0.17049194872379303, 'accuracy': 0.9588972926139832}\n",
            "Epoch 26\n",
            "Validation metrics: \n",
            "{'loss': 0.21032290160655975, 'accuracy': 0.9505374431610107}\n",
            "Epoch 27\n",
            "Validation metrics: \n",
            "{'loss': 0.19376975297927856, 'accuracy': 0.9519307613372803}\n",
            "Epoch 28\n",
            "Validation metrics: \n",
            "{'loss': 0.19423139095306396, 'accuracy': 0.9559116363525391}\n",
            "Epoch 29\n",
            "Validation metrics: \n",
            "{'loss': 0.20209704339504242, 'accuracy': 0.9534235596656799}\n",
            "Epoch 30\n",
            "Validation metrics: \n",
            "{'loss': 0.20842327177524567, 'accuracy': 0.9550158977508545}\n",
            "Epoch 31\n",
            "Validation metrics: \n",
            "{'loss': 0.22257475554943085, 'accuracy': 0.9516321420669556}\n",
            "Epoch 32\n",
            "Validation metrics: \n",
            "{'loss': 0.2729806900024414, 'accuracy': 0.9492436051368713}\n",
            "Epoch 33\n",
            "Validation metrics: \n",
            "{'loss': 0.1975867599248886, 'accuracy': 0.9581010937690735}\n",
            "Early stopping triggered\n"
          ],
          "name": "stdout"
        }
      ]
    },
    {
      "cell_type": "code",
      "metadata": {
        "id": "6e0NEW4mni4O",
        "outputId": "dadaf62d-5ac1-4786-d4f3-61997421d803",
        "colab": {
          "base_uri": "https://localhost:8080/",
          "height": 303
        }
      },
      "source": [
        "plt.plot(loss_hist_train, label='loss function train') # график убывания loss функции от номера эпохи\n",
        "plt.plot(loss_hist_val, label='loss function validation', c='r')\n",
        "plt.legend(loc='upper left')\n",
        "plt.xlabel('$n\\_epoxa$')\n",
        "plt.ylabel('$loss$')"
      ],
      "execution_count": 80,
      "outputs": [
        {
          "output_type": "execute_result",
          "data": {
            "text/plain": [
              "Text(0, 0.5, '$loss$')"
            ]
          },
          "metadata": {
            "tags": []
          },
          "execution_count": 80
        },
        {
          "output_type": "display_data",
          "data": {
            "image/png": "[encoded data removed]",
            "text/plain": [
              "<Figure size 432x288 with 1 Axes>"
            ]
          },
          "metadata": {
            "tags": [],
            "needs_background": "light"
          }
        }
      ]
    },
    {
      "cell_type": "code",
      "metadata": {
        "id": "wzg_rLHlsIix",
        "outputId": "2af77da8-ebcd-4382-d759-933e9ff1b752",
        "colab": {
          "base_uri": "https://localhost:8080/",
          "height": 300
        }
      },
      "source": [
        "plt.plot(accuracy_hist_val, c='r', label='accuracy_val')\n",
        "plt.plot(accuracy_hist_train, c='g', label='accuracy_Train')\n",
        "plt.legend(loc='upper left')\n",
        "plt.xlabel('$n\\_epoxa$')\n",
        "plt.ylabel('$accuracy$')"
      ],
      "execution_count": 81,
      "outputs": [
        {
          "output_type": "execute_result",
          "data": {
            "text/plain": [
              "Text(0, 0.5, '$accuracy$')"
            ]
          },
          "metadata": {
            "tags": []
          },
          "execution_count": 81
        },
        {
          "output_type": "display_data",
          "data": {
            "image/png": "[encoded data removed]",
            "text/plain": [
              "<Figure size 432x288 with 1 Axes>"
            ]
          },
          "metadata": {
            "tags": [],
            "needs_background": "light"
          }
        }
      ]
    },
    {
      "cell_type": "markdown",
      "metadata": {
        "id": "UQJJYB1OskCZ"
      },
      "source": [
        "использование schedular не помогло достичь более лучшего результата... "
      ]
    },
    {
      "cell_type": "markdown",
      "metadata": {
        "id": "2XcD7geBtOa-"
      },
      "source": [
        "### Увелечение параметров до 100000"
      ]
    },
    {
      "cell_type": "markdown",
      "metadata": {
        "id": "_2FyT_5itYRn"
      },
      "source": [
        "Попробуем немного изменить кол-во параметров модели, оставив её архитектуру такой же и посмотрим улучшиться как-то точность или нет"
      ]
    },
    {
      "cell_type": "code",
      "metadata": {
        "id": "IOQ__-0VsN7O",
        "outputId": "0410080e-fbea-4fe8-ebf1-bbece68ecb5b",
        "colab": {
          "base_uri": "https://localhost:8080/",
          "height": 118
        }
      },
      "source": [
        "new_model = Perceptron(n_hidden_neurons=125) # вместо 100 выход после первого слоя будет 125\n",
        "print(model)\n",
        "print('Total number of trainable parameters', \n",
        "      sum(p.numel() for p in model.parameters() if p.requires_grad))"
      ],
      "execution_count": 73,
      "outputs": [
        {
          "output_type": "stream",
          "text": [
            "Perceptron(\n",
            "  (layer_1): Linear(in_features=784, out_features=125, bias=True)\n",
            "  (act_1): ReLU()\n",
            "  (layer_2): Linear(in_features=125, out_features=10, bias=True)\n",
            ")\n",
            "Total number of trainable parameters 99385\n"
          ],
          "name": "stdout"
        }
      ]
    },
    {
      "cell_type": "markdown",
      "metadata": {
        "id": "473u0Ib1uHO5"
      },
      "source": [
        "Параметров сейчас как раз 100000 "
      ]
    },
    {
      "cell_type": "code",
      "metadata": {
        "id": "RgiqfIiIt6Cs",
        "outputId": "a8c1bb47-f060-403d-93c0-9b45911ca6ae",
        "colab": {
          "base_uri": "https://localhost:8080/",
          "height": 1000
        }
      },
      "source": [
        "loss_hist_train, accuracy_hist_train, loss_hist_val, accuracy_hist_val = train_model(new_model, \n",
        "            train_dataset=train_dataset, \n",
        "            val_dataset=val_dataset, \n",
        "            loss_function=torch.nn.CrossEntropyLoss(), \n",
        "            initial_lr=0.01)"
      ],
      "execution_count": 62,
      "outputs": [
        {
          "output_type": "stream",
          "text": [
            "Epoch 0\n",
            "Validation metrics: \n",
            "{'loss': 0.23586735129356384, 'accuracy': 0.9239649772644043}\n",
            "Best model yet, saving\n",
            "Epoch 1\n",
            "Validation metrics: \n",
            "{'loss': 0.19628848135471344, 'accuracy': 0.9360071420669556}\n",
            "Best model yet, saving\n",
            "Epoch 2\n",
            "Validation metrics: \n",
            "{'loss': 0.18648332357406616, 'accuracy': 0.9447651505470276}\n",
            "Best model yet, saving\n",
            "Epoch 3\n",
            "Validation metrics: \n",
            "{'loss': 0.19025740027427673, 'accuracy': 0.9437699317932129}\n",
            "Epoch 4\n",
            "Validation metrics: \n",
            "{'loss': 0.1846940815448761, 'accuracy': 0.9454618096351624}\n",
            "Best model yet, saving\n",
            "Epoch 5\n",
            "Validation metrics: \n",
            "{'loss': 0.18566566705703735, 'accuracy': 0.9491441249847412}\n",
            "Epoch 6\n",
            "Validation metrics: \n",
            "{'loss': 0.20152916014194489, 'accuracy': 0.9450637102127075}\n",
            "Epoch 7\n",
            "Validation metrics: \n",
            "{'loss': 0.1862269788980484, 'accuracy': 0.9508360028266907}\n",
            "Epoch 8\n",
            "Validation metrics: \n",
            "{'loss': 0.21830792725086212, 'accuracy': 0.9433718323707581}\n",
            "Epoch 9\n",
            "Validation metrics: \n",
            "{'loss': 0.16711243987083435, 'accuracy': 0.953125}\n",
            "Best model yet, saving\n",
            "Epoch 10\n",
            "Validation metrics: \n",
            "{'loss': 0.20325757563114166, 'accuracy': 0.9503383636474609}\n",
            "Epoch 11\n",
            "Validation metrics: \n",
            "{'loss': 0.21823708713054657, 'accuracy': 0.9477508068084717}\n",
            "Epoch 12\n",
            "Validation metrics: \n",
            "{'loss': 0.19901661574840546, 'accuracy': 0.9556130766868591}\n",
            "Epoch 13\n",
            "Validation metrics: \n",
            "{'loss': 0.1902349442243576, 'accuracy': 0.9501393437385559}\n",
            "Epoch 14\n",
            "Validation metrics: \n",
            "{'loss': 0.19056718051433563, 'accuracy': 0.9542197585105896}\n",
            "Epoch 15\n",
            "Validation metrics: \n",
            "{'loss': 0.2011217176914215, 'accuracy': 0.9577030539512634}\n",
            "Epoch 16\n",
            "Validation metrics: \n",
            "{'loss': 0.23193560540676117, 'accuracy': 0.9477508068084717}\n",
            "Epoch 17\n",
            "Validation metrics: \n",
            "{'loss': 0.24076096713542938, 'accuracy': 0.9489450454711914}\n",
            "Epoch 18\n",
            "Validation metrics: \n",
            "{'loss': 0.21932320296764374, 'accuracy': 0.9489450454711914}\n",
            "Epoch 19\n",
            "Validation metrics: \n",
            "{'loss': 0.20182734727859497, 'accuracy': 0.953125}\n",
            "Epoch 20\n",
            "Validation metrics: \n",
            "{'loss': 0.21019373834133148, 'accuracy': 0.9547173380851746}\n",
            "Epoch 21\n",
            "Validation metrics: \n",
            "{'loss': 0.15217086672782898, 'accuracy': 0.9680533409118652}\n",
            "Best model yet, saving\n",
            "Epoch 22\n",
            "Validation metrics: \n",
            "{'loss': 0.1482245773077011, 'accuracy': 0.9676552414894104}\n",
            "Best model yet, saving\n",
            "Epoch 23\n",
            "Validation metrics: \n",
            "{'loss': 0.14873139560222626, 'accuracy': 0.9661624431610107}\n",
            "Epoch 24\n",
            "Validation metrics: \n",
            "{'loss': 0.14499494433403015, 'accuracy': 0.9677547812461853}\n",
            "Best model yet, saving\n",
            "Epoch 25\n",
            "Validation metrics: \n",
            "{'loss': 0.1493981033563614, 'accuracy': 0.9669585824012756}\n",
            "Epoch 26\n",
            "Validation metrics: \n",
            "{'loss': 0.14644892513751984, 'accuracy': 0.9671576619148254}\n",
            "Epoch 27\n",
            "Validation metrics: \n",
            "{'loss': 0.1411249041557312, 'accuracy': 0.9672571420669556}\n",
            "Best model yet, saving\n",
            "Epoch 28\n",
            "Validation metrics: \n",
            "{'loss': 0.14302323758602142, 'accuracy': 0.9660629034042358}\n",
            "Epoch 29\n",
            "Validation metrics: \n",
            "{'loss': 0.14348097145557404, 'accuracy': 0.9684514403343201}\n",
            "Epoch 30\n",
            "Validation metrics: \n",
            "{'loss': 0.1491495668888092, 'accuracy': 0.9667595624923706}\n",
            "Epoch 31\n",
            "Validation metrics: \n",
            "{'loss': 0.14725260436534882, 'accuracy': 0.9678543210029602}\n",
            "Epoch 32\n",
            "Validation metrics: \n",
            "{'loss': 0.1481843888759613, 'accuracy': 0.9671576619148254}\n",
            "Epoch 33\n",
            "Validation metrics: \n",
            "{'loss': 0.14732900261878967, 'accuracy': 0.9671576619148254}\n",
            "Epoch 34\n",
            "Validation metrics: \n",
            "{'loss': 0.14748498797416687, 'accuracy': 0.9690485596656799}\n",
            "Epoch 35\n",
            "Validation metrics: \n",
            "{'loss': 0.15116800367832184, 'accuracy': 0.9667595624923706}\n",
            "Epoch 36\n",
            "Validation metrics: \n",
            "{'loss': 0.1522771120071411, 'accuracy': 0.9677547812461853}\n",
            "Epoch 37\n",
            "Validation metrics: \n",
            "{'loss': 0.1539241224527359, 'accuracy': 0.9661624431610107}\n",
            "Epoch 38\n",
            "Validation metrics: \n",
            "{'loss': 0.1526283174753189, 'accuracy': 0.9665604829788208}\n",
            "Epoch 39\n",
            "Validation metrics: \n",
            "{'loss': 0.14980916678905487, 'accuracy': 0.9679538011550903}\n",
            "Epoch 40\n",
            "Validation metrics: \n",
            "{'loss': 0.15057994425296783, 'accuracy': 0.9682523608207703}\n",
            "Epoch 41\n",
            "Validation metrics: \n",
            "{'loss': 0.15084205567836761, 'accuracy': 0.9680533409118652}\n",
            "Epoch 42\n",
            "Validation metrics: \n",
            "{'loss': 0.1508135348558426, 'accuracy': 0.9683519005775452}\n",
            "Epoch 43\n",
            "Validation metrics: \n",
            "{'loss': 0.15071719884872437, 'accuracy': 0.9674562215805054}\n",
            "Epoch 44\n",
            "Validation metrics: \n",
            "{'loss': 0.15121763944625854, 'accuracy': 0.9679538011550903}\n",
            "Epoch 45\n",
            "Validation metrics: \n",
            "{'loss': 0.15167610347270966, 'accuracy': 0.9679538011550903}\n",
            "Epoch 46\n",
            "Validation metrics: \n",
            "{'loss': 0.1523588001728058, 'accuracy': 0.9679538011550903}\n",
            "Epoch 47\n",
            "Validation metrics: \n",
            "{'loss': 0.15280966460704803, 'accuracy': 0.9678543210029602}\n",
            "Epoch 48\n",
            "Validation metrics: \n",
            "{'loss': 0.15276826918125153, 'accuracy': 0.9680533409118652}\n",
            "Early stopping triggered\n"
          ],
          "name": "stdout"
        }
      ]
    },
    {
      "cell_type": "code",
      "metadata": {
        "id": "GSDlhZcKucD1",
        "outputId": "af5b28b7-fbd3-4cb0-ca84-6fc35665e15c",
        "colab": {
          "base_uri": "https://localhost:8080/",
          "height": 299
        }
      },
      "source": [
        "plt.plot(loss_hist_train, label='loss function train') # график убывания loss функции от номера эпохи\n",
        "plt.plot(loss_hist_val, label='loss function validation', c='r')\n",
        "plt.legend(loc='upper left')\n",
        "plt.xlabel('$n\\_epoxa$')\n",
        "plt.ylabel('$loss$')"
      ],
      "execution_count": 63,
      "outputs": [
        {
          "output_type": "execute_result",
          "data": {
            "text/plain": [
              "Text(0, 0.5, '$loss$')"
            ]
          },
          "metadata": {
            "tags": []
          },
          "execution_count": 63
        },
        {
          "output_type": "display_data",
          "data": {
            "image/png": "[encoded data removed]",
            "text/plain": [
              "<Figure size 432x288 with 1 Axes>"
            ]
          },
          "metadata": {
            "tags": [],
            "needs_background": "light"
          }
        }
      ]
    },
    {
      "cell_type": "code",
      "metadata": {
        "id": "hAklUQScyur3",
        "outputId": "37f22eaa-cd5c-49d8-ab6e-016f85b50da8",
        "colab": {
          "base_uri": "https://localhost:8080/",
          "height": 299
        }
      },
      "source": [
        "plt.plot(accuracy_hist_val, c='r', label='accuracy_val')\n",
        "plt.plot(accuracy_hist_train, c='g', label='accuracy_Train')\n",
        "plt.legend(loc='upper left')\n",
        "plt.xlabel('$n\\_epoxa$')\n",
        "plt.ylabel('$accuracy$')"
      ],
      "execution_count": 64,
      "outputs": [
        {
          "output_type": "execute_result",
          "data": {
            "text/plain": [
              "Text(0, 0.5, '$accuracy$')"
            ]
          },
          "metadata": {
            "tags": []
          },
          "execution_count": 64
        },
        {
          "output_type": "display_data",
          "data": {
            "image/png": "[encoded data removed]",
            "text/plain": [
              "<Figure size 432x288 with 1 Axes>"
            ]
          },
          "metadata": {
            "tags": [],
            "needs_background": "light"
          }
        }
      ]
    },
    {
      "cell_type": "markdown",
      "metadata": {
        "id": "iugRhvgvy19k"
      },
      "source": [
        "Точность модели 96.8 это на 0.15 выше, чем с меньшим кол-во параметров, хотя их мы добавили порядка 20000. Также можем заметить, что стало дольше учиться. Ну и последним экспериментом, попробуем поменять оптимизатор..."
      ]
    },
    {
      "cell_type": "markdown",
      "metadata": {
        "id": "mIHpzXpwzvLr"
      },
      "source": [
        "### Смена оптимизатора"
      ]
    },
    {
      "cell_type": "markdown",
      "metadata": {
        "id": "pTUHGk7gzye1"
      },
      "source": [
        "Обучим модель с большим кол-вом параметров оптимизатором DiffGrad "
      ]
    },
    {
      "cell_type": "code",
      "metadata": {
        "id": "MpUqWAfW1hvx",
        "outputId": "3cf17512-3c80-494e-87ff-bbba585df110",
        "colab": {
          "base_uri": "https://localhost:8080/",
          "height": 205
        }
      },
      "source": [
        "!pip install torch_optimizer"
      ],
      "execution_count": 66,
      "outputs": [
        {
          "output_type": "stream",
          "text": [
            "Collecting torch_optimizer\n",
            "\u001b[?25l  Downloading https://files.pythonhosted.org/packages/c9/48/f670cf4b47c315861d0547f0c2be579cd801304c86e55008492f1acebd01/torch_optimizer-0.0.1a15-py3-none-any.whl (41kB)\n",
            "\r\u001b[K     |███████▉                        | 10kB 15.8MB/s eta 0:00:01\r\u001b[K     |███████████████▊                | 20kB 2.1MB/s eta 0:00:01\r\u001b[K     |███████████████████████▌        | 30kB 2.7MB/s eta 0:00:01\r\u001b[K     |███████████████████████████████▍| 40kB 3.0MB/s eta 0:00:01\r\u001b[K     |████████████████████████████████| 51kB 1.9MB/s \n",
            "\u001b[?25hCollecting pytorch-ranger>=0.1.1\n",
            "  Downloading https://files.pythonhosted.org/packages/0d/70/12256257d861bbc3e176130d25be1de085ce7a9e60594064888a950f2154/pytorch_ranger-0.1.1-py3-none-any.whl\n",
            "Requirement already satisfied: torch>=1.1.0 in /usr/local/lib/python3.6/dist-packages (from torch_optimizer) (1.6.0+cu101)\n",
            "Requirement already satisfied: future in /usr/local/lib/python3.6/dist-packages (from torch>=1.1.0->torch_optimizer) (0.16.0)\n",
            "Requirement already satisfied: numpy in /usr/local/lib/python3.6/dist-packages (from torch>=1.1.0->torch_optimizer) (1.18.5)\n",
            "Installing collected packages: pytorch-ranger, torch-optimizer\n",
            "Successfully installed pytorch-ranger-0.1.1 torch-optimizer-0.0.1a15\n"
          ],
          "name": "stdout"
        }
      ]
    },
    {
      "cell_type": "code",
      "metadata": {
        "id": "mffSEl4y0_1M"
      },
      "source": [
        "import torch_optimizer as optim"
      ],
      "execution_count": 67,
      "outputs": []
    },
    {
      "cell_type": "code",
      "metadata": {
        "id": "PdestYI9yyV5",
        "outputId": "561e0696-dad5-4077-f107-3c3cc2507af0",
        "colab": {
          "base_uri": "https://localhost:8080/",
          "height": 1000
        }
      },
      "source": [
        "loss_hist_train, accuracy_hist_train, loss_hist_val, accuracy_hist_val = train_model(new_model, \n",
        "            train_dataset=train_dataset, \n",
        "            val_dataset=val_dataset, \n",
        "            loss_function=torch.nn.CrossEntropyLoss(), \n",
        "            initial_lr=0.01)"
      ],
      "execution_count": 74,
      "outputs": [
        {
          "output_type": "stream",
          "text": [
            "Epoch 0\n",
            "Validation metrics: \n",
            "{'loss': 0.31794309616088867, 'accuracy': 0.9112260937690735}\n",
            "Best model yet, saving\n",
            "Epoch 1\n",
            "Validation metrics: \n",
            "{'loss': 0.24723786115646362, 'accuracy': 0.9284434914588928}\n",
            "Best model yet, saving\n",
            "Epoch 2\n",
            "Validation metrics: \n",
            "{'loss': 0.20217052102088928, 'accuracy': 0.9395899772644043}\n",
            "Best model yet, saving\n",
            "Epoch 3\n",
            "Validation metrics: \n",
            "{'loss': 0.16215267777442932, 'accuracy': 0.9523288011550903}\n",
            "Best model yet, saving\n",
            "Epoch 4\n",
            "Validation metrics: \n",
            "{'loss': 0.14648257195949554, 'accuracy': 0.956707775592804}\n",
            "Best model yet, saving\n",
            "Epoch 5\n",
            "Validation metrics: \n",
            "{'loss': 0.12783682346343994, 'accuracy': 0.9619824886322021}\n",
            "Best model yet, saving\n",
            "Epoch 6\n",
            "Validation metrics: \n",
            "{'loss': 0.11437034606933594, 'accuracy': 0.9661624431610107}\n",
            "Best model yet, saving\n",
            "Epoch 7\n",
            "Validation metrics: \n",
            "{'loss': 0.10661973059177399, 'accuracy': 0.9675557613372803}\n",
            "Best model yet, saving\n",
            "Epoch 8\n",
            "Validation metrics: \n",
            "{'loss': 0.10176507383584976, 'accuracy': 0.9698447585105896}\n",
            "Best model yet, saving\n",
            "Epoch 9\n",
            "Validation metrics: \n",
            "{'loss': 0.09794232249259949, 'accuracy': 0.9701433181762695}\n",
            "Best model yet, saving\n",
            "Epoch 10\n",
            "Validation metrics: \n",
            "{'loss': 0.09414061903953552, 'accuracy': 0.9724323153495789}\n",
            "Best model yet, saving\n",
            "Epoch 11\n",
            "Validation metrics: \n",
            "{'loss': 0.0986923947930336, 'accuracy': 0.9712380766868591}\n",
            "Epoch 12\n",
            "Validation metrics: \n",
            "{'loss': 0.08717117458581924, 'accuracy': 0.9735270738601685}\n",
            "Best model yet, saving\n",
            "Epoch 13\n",
            "Validation metrics: \n",
            "{'loss': 0.08279656618833542, 'accuracy': 0.9743232727050781}\n",
            "Best model yet, saving\n",
            "Epoch 14\n",
            "Validation metrics: \n",
            "{'loss': 0.0825490802526474, 'accuracy': 0.9750199317932129}\n",
            "Best model yet, saving\n",
            "Epoch 15\n",
            "Validation metrics: \n",
            "{'loss': 0.0823395699262619, 'accuracy': 0.9746218323707581}\n",
            "Best model yet, saving\n",
            "Epoch 16\n",
            "Validation metrics: \n",
            "{'loss': 0.08516889065504074, 'accuracy': 0.9735270738601685}\n",
            "Epoch 17\n",
            "Validation metrics: \n",
            "{'loss': 0.08529574424028397, 'accuracy': 0.9746218323707581}\n",
            "Epoch 18\n",
            "Validation metrics: \n",
            "{'loss': 0.07698798924684525, 'accuracy': 0.978005588054657}\n",
            "Best model yet, saving\n",
            "Epoch 19\n",
            "Validation metrics: \n",
            "{'loss': 0.08738162368535995, 'accuracy': 0.9739251732826233}\n",
            "Epoch 20\n",
            "Validation metrics: \n",
            "{'loss': 0.0858742743730545, 'accuracy': 0.9745222926139832}\n",
            "Epoch 21\n",
            "Validation metrics: \n",
            "{'loss': 0.0841246023774147, 'accuracy': 0.9734275341033936}\n",
            "Epoch 22\n",
            "Validation metrics: \n",
            "{'loss': 0.08296328783035278, 'accuracy': 0.9741241931915283}\n",
            "Epoch 23\n",
            "Validation metrics: \n",
            "{'loss': 0.08135116100311279, 'accuracy': 0.9756170511245728}\n",
            "Epoch 24\n",
            "Validation metrics: \n",
            "{'loss': 0.07935666292905807, 'accuracy': 0.9756170511245728}\n",
            "Epoch 25\n",
            "Validation metrics: \n",
            "{'loss': 0.07853423804044724, 'accuracy': 0.9762141704559326}\n",
            "Epoch 26\n",
            "Validation metrics: \n",
            "{'loss': 0.08030726760625839, 'accuracy': 0.9748208522796631}\n",
            "Epoch 27\n",
            "Validation metrics: \n",
            "{'loss': 0.08418604731559753, 'accuracy': 0.9738256335258484}\n",
            "Epoch 28\n",
            "Validation metrics: \n",
            "{'loss': 0.08587026596069336, 'accuracy': 0.975119411945343}\n",
            "Epoch 29\n",
            "Validation metrics: \n",
            "{'loss': 0.08676443994045258, 'accuracy': 0.9762141704559326}\n",
            "Epoch 30\n",
            "Validation metrics: \n",
            "{'loss': 0.07404723763465881, 'accuracy': 0.9787022471427917}\n",
            "Best model yet, saving\n",
            "Epoch 31\n",
            "Validation metrics: \n",
            "{'loss': 0.07395197451114655, 'accuracy': 0.9791003465652466}\n",
            "Best model yet, saving\n",
            "Epoch 32\n",
            "Validation metrics: \n",
            "{'loss': 0.07473549246788025, 'accuracy': 0.9790008068084717}\n",
            "Epoch 33\n",
            "Validation metrics: \n",
            "{'loss': 0.07549963891506195, 'accuracy': 0.9786027073860168}\n",
            "Epoch 34\n",
            "Validation metrics: \n",
            "{'loss': 0.07701343297958374, 'accuracy': 0.9778065085411072}\n",
            "Epoch 35\n",
            "Validation metrics: \n",
            "{'loss': 0.07496362179517746, 'accuracy': 0.9795979261398315}\n",
            "Epoch 36\n",
            "Validation metrics: \n",
            "{'loss': 0.07561185210943222, 'accuracy': 0.978204607963562}\n",
            "Epoch 37\n",
            "Validation metrics: \n",
            "{'loss': 0.07519571483135223, 'accuracy': 0.978005588054657}\n",
            "Epoch 38\n",
            "Validation metrics: \n",
            "{'loss': 0.0755879133939743, 'accuracy': 0.9784036874771118}\n",
            "Epoch 39\n",
            "Validation metrics: \n",
            "{'loss': 0.07602593302726746, 'accuracy': 0.9786027073860168}\n",
            "Epoch 40\n",
            "Validation metrics: \n",
            "{'loss': 0.07634332776069641, 'accuracy': 0.9787022471427917}\n",
            "Epoch 41\n",
            "Validation metrics: \n",
            "{'loss': 0.07579069584608078, 'accuracy': 0.9783041477203369}\n",
            "Epoch 42\n",
            "Validation metrics: \n",
            "{'loss': 0.07648437470197678, 'accuracy': 0.978204607963562}\n",
            "Epoch 43\n",
            "Validation metrics: \n",
            "{'loss': 0.07599819451570511, 'accuracy': 0.9779060482978821}\n",
            "Epoch 44\n",
            "Validation metrics: \n",
            "{'loss': 0.07587962597608566, 'accuracy': 0.9781050682067871}\n",
            "Epoch 45\n",
            "Validation metrics: \n",
            "{'loss': 0.07584861665964127, 'accuracy': 0.978204607963562}\n",
            "Epoch 46\n",
            "Validation metrics: \n",
            "{'loss': 0.07589032500982285, 'accuracy': 0.9786027073860168}\n",
            "Epoch 47\n",
            "Validation metrics: \n",
            "{'loss': 0.07599825412034988, 'accuracy': 0.9787022471427917}\n",
            "Epoch 48\n",
            "Validation metrics: \n",
            "{'loss': 0.0759040042757988, 'accuracy': 0.9784036874771118}\n",
            "Epoch 49\n",
            "Validation metrics: \n",
            "{'loss': 0.07587713748216629, 'accuracy': 0.9784036874771118}\n",
            "Epoch 50\n",
            "Validation metrics: \n",
            "{'loss': 0.07600133121013641, 'accuracy': 0.9784036874771118}\n",
            "Epoch 51\n",
            "Validation metrics: \n",
            "{'loss': 0.07596373558044434, 'accuracy': 0.9785031676292419}\n",
            "Epoch 52\n",
            "Validation metrics: \n",
            "{'loss': 0.07607816159725189, 'accuracy': 0.9783041477203369}\n",
            "Early stopping triggered\n"
          ],
          "name": "stdout"
        }
      ]
    },
    {
      "cell_type": "code",
      "metadata": {
        "id": "LEJiWWyH2Eyo",
        "outputId": "f5782b11-1f58-46c4-c75b-5f5422761bd5",
        "colab": {
          "base_uri": "https://localhost:8080/",
          "height": 299
        }
      },
      "source": [
        "plt.plot(loss_hist_train, label='loss function train') # график убывания loss функции от номера эпохи\n",
        "plt.plot(loss_hist_val, label='loss function validation', c='r')\n",
        "plt.legend(loc='upper left')\n",
        "plt.xlabel('$n\\_epoxa$')\n",
        "plt.ylabel('$loss$')"
      ],
      "execution_count": 75,
      "outputs": [
        {
          "output_type": "execute_result",
          "data": {
            "text/plain": [
              "Text(0, 0.5, '$loss$')"
            ]
          },
          "metadata": {
            "tags": []
          },
          "execution_count": 75
        },
        {
          "output_type": "display_data",
          "data": {
            "image/png": "[encoded data removed]",
            "text/plain": [
              "<Figure size 432x288 with 1 Axes>"
            ]
          },
          "metadata": {
            "tags": [],
            "needs_background": "light"
          }
        }
      ]
    },
    {
      "cell_type": "code",
      "metadata": {
        "id": "TwGjUS6G3biu",
        "outputId": "348ee51c-438d-42d7-e744-3ec10a0bff5c",
        "colab": {
          "base_uri": "https://localhost:8080/",
          "height": 299
        }
      },
      "source": [
        "plt.plot(accuracy_hist_val, c='r', label='accuracy_val')\n",
        "plt.plot(accuracy_hist_train, c='g', label='accuracy_Train')\n",
        "plt.legend(loc='upper left')\n",
        "plt.xlabel('$n\\_epoxa$')\n",
        "plt.ylabel('$accuracy$')"
      ],
      "execution_count": 76,
      "outputs": [
        {
          "output_type": "execute_result",
          "data": {
            "text/plain": [
              "Text(0, 0.5, '$accuracy$')"
            ]
          },
          "metadata": {
            "tags": []
          },
          "execution_count": 76
        },
        {
          "output_type": "display_data",
          "data": {
            "image/png": "[encoded data removed]",
            "text/plain": [
              "<Figure size 432x288 with 1 Axes>"
            ]
          },
          "metadata": {
            "tags": [],
            "needs_background": "light"
          }
        }
      ]
    },
    {
      "cell_type": "markdown",
      "metadata": {
        "id": "v9k9FIK38gSR"
      },
      "source": [
        "Лучший результат 97.9, то есть этот оптимизатор показал себя лучше, чем Adam да и график сходимости более плавный"
      ]
    },
    {
      "cell_type": "code",
      "metadata": {
        "id": "89WX99263ff9"
      },
      "source": [
        ""
      ],
      "execution_count": null,
      "outputs": []
    }
  ]
}