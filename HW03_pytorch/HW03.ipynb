{
 "cells": [
  {
   "cell_type": "markdown",
   "metadata": {
    "id": "1t6MzdEyYgBx"
   },
   "source": [
    "# ДЗ №3 \n",
    "## Обучение моделей глубокого обучения на PyTorch"
   ]
  },
  {
   "cell_type": "code",
   "execution_count": null,
   "metadata": {
    "colab": {
     "base_uri": "https://localhost:8080/",
     "height": 222
    },
    "executionInfo": {
     "elapsed": 4546,
     "status": "ok",
     "timestamp": 1602431895646,
     "user": {
      "displayName": "Александр Иванович Бредихин",
      "photoUrl": "",
      "userId": "12165818949487795010"
     },
     "user_tz": -180
    },
    "id": "DnsPdf0WYgBy",
    "outputId": "9831301e-1fc0-43eb-8960-37613fb6c743"
   },
   "outputs": [
    {
     "name": "stdout",
     "output_type": "stream",
     "text": [
      "Requirement already satisfied: torch in /usr/local/lib/python3.6/dist-packages (1.6.0+cu101)\n",
      "Requirement already satisfied: torchvision in /usr/local/lib/python3.6/dist-packages (0.7.0+cu101)\n",
      "Requirement already satisfied: numpy in /usr/local/lib/python3.6/dist-packages (1.18.5)\n",
      "Requirement already satisfied: matplotlib in /usr/local/lib/python3.6/dist-packages (3.2.2)\n",
      "Requirement already satisfied: future in /usr/local/lib/python3.6/dist-packages (from torch) (0.16.0)\n",
      "Requirement already satisfied: pillow>=4.1.1 in /usr/local/lib/python3.6/dist-packages (from torchvision) (7.0.0)\n",
      "Requirement already satisfied: cycler>=0.10 in /usr/local/lib/python3.6/dist-packages (from matplotlib) (0.10.0)\n",
      "Requirement already satisfied: pyparsing!=2.0.4,!=2.1.2,!=2.1.6,>=2.0.1 in /usr/local/lib/python3.6/dist-packages (from matplotlib) (2.4.7)\n",
      "Requirement already satisfied: python-dateutil>=2.1 in /usr/local/lib/python3.6/dist-packages (from matplotlib) (2.8.1)\n",
      "Requirement already satisfied: kiwisolver>=1.0.1 in /usr/local/lib/python3.6/dist-packages (from matplotlib) (1.2.0)\n",
      "Requirement already satisfied: six in /usr/local/lib/python3.6/dist-packages (from cycler>=0.10->matplotlib) (1.15.0)\n"
     ]
    }
   ],
   "source": [
    "!pip3 install torch torchvision numpy matplotlib"
   ]
  },
  {
   "cell_type": "markdown",
   "metadata": {
    "id": "xvLQ_YBQYgB2"
   },
   "source": [
    "Ваша задача на этой неделе - повторить модель трёхслойного перцептрона из прошолго задания на **PyTorch**, разобрать лучшие практики обучения моделей глубокого обучения и провести серию экспериментов"
   ]
  },
  {
   "cell_type": "code",
   "execution_count": 1,
   "metadata": {
    "executionInfo": {
     "elapsed": 3990,
     "status": "ok",
     "timestamp": 1602498002804,
     "user": {
      "displayName": "Александр Иванович Бредихин",
      "photoUrl": "",
      "userId": "12165818949487795010"
     },
     "user_tz": -180
    },
    "id": "__30mGL7YgB2"
   },
   "outputs": [],
   "source": [
    "import torch\n",
    "import torchvision\n",
    "import numpy as np\n",
    "import matplotlib.pyplot as plt\n",
    "import torchvision.transforms as transforms\n",
    "\n",
    "from typing import Tuple, List, Type, Dict, Any"
   ]
  },
  {
   "cell_type": "markdown",
   "metadata": {
    "id": "TrhEDztvYgB5"
   },
   "source": [
    "Для того, чтобы эксперимент можно было повторить, хорошей практикой будет зафиксировать генератор случайных чисел. Также, рекоммендуется зафиксировать RNG в numpy и, если в качестве бэкенда используется cudnn - включить детерминированный режим.\n",
    "\n",
    "Подробнее: https://pytorch.org/docs/stable/notes/randomness.html"
   ]
  },
  {
   "cell_type": "code",
   "execution_count": 2,
   "metadata": {
    "executionInfo": {
     "elapsed": 3987,
     "status": "ok",
     "timestamp": 1602498002808,
     "user": {
      "displayName": "Александр Иванович Бредихин",
      "photoUrl": "",
      "userId": "12165818949487795010"
     },
     "user_tz": -180
    },
    "id": "6uWe9MlmYgB6"
   },
   "outputs": [],
   "source": [
    "torch.manual_seed(0)\n",
    "np.random.seed(0)\n",
    "torch.backends.cudnn.deterministic = True\n",
    "torch.backends.cudnn.benchmark = False"
   ]
  },
  {
   "cell_type": "markdown",
   "metadata": {
    "id": "xAWY8jLUYgB9"
   },
   "source": [
    "### Модель\n",
    "\n",
    "Основным способом организации кода на **Pytorch** является модуль. Простые модели могут быть реализованны из готовых модулей ( к примеру, `torch.nn.Sequential`, `torch.nn.Linear` и т.д. ), для более сложных архитектур часто приходтся реализовывать собственные блоки. Это достаточно легко сделать - достаточно написать класс, наследуемый от `torch.nn.Module` и реализующий метод `.forward`, который принимает и возвращает тензоры ( `torch.Tensor` )\n",
    "\n",
    "Пример реализации кастомного модуля из официальной документации: https://pytorch.org/tutorials/beginner/pytorch_with_examples.html3"
   ]
  },
  {
   "cell_type": "markdown",
   "metadata": {
    "id": "xk6a-pOnYgB-"
   },
   "source": [
    "#### Задание 1\n",
    "\n",
    "Повторите реализацию трёхслойного перцептрона из предыдущего задания на **Pytorch**. Желательно также, чтобы реализация модели имела параметризуемую глубину ( количество слоёв ), количество параметров на каждом слое и функцию активации. Отсутствие такой возможности не снижает балл, но сильно поможет в освоении принципов построения нейросетей с применением библиотеки pytorch."
   ]
  },
  {
   "cell_type": "code",
   "execution_count": 3,
   "metadata": {
    "executionInfo": {
     "elapsed": 709,
     "status": "ok",
     "timestamp": 1602498046518,
     "user": {
      "displayName": "Александр Иванович Бредихин",
      "photoUrl": "",
      "userId": "12165818949487795010"
     },
     "user_tz": -180
    },
    "id": "u2j_inpIYgB_"
   },
   "outputs": [],
   "source": [
    "class Perceptron(torch.nn.Module):\n",
    "    \n",
    "    def __init__(self, \n",
    "                 input_resolution: Tuple[int, int] = (28, 28),\n",
    "                 input_channels: int = 1, \n",
    "                 hidden_layer_features: List[int] = [256, 256, 256],\n",
    "                 activation: Type[torch.nn.Module] = torch.nn.ReLU,\n",
    "                 num_classes: int = 10,\n",
    "                 n_hidden_neurons = 100):\n",
    "\n",
    "        super(Perceptron, self).__init__()\n",
    "        self.layer_1 = torch.nn.Linear(input_resolution[0] * input_resolution[1], n_hidden_neurons)\n",
    "        self.act_1 = torch.nn.Sigmoid()\n",
    "        self.layer_2 = torch.nn.Linear(n_hidden_neurons, num_classes)\n",
    "        \n",
    "    \n",
    "    def forward(self, x):\n",
    "        x = self.layer_1(x) # последовательно вызываем метод forward у наших модулей (как и в предыдущем дз)\n",
    "        x = self.act_1(x)\n",
    "        x = self.layer_2(x)\n",
    "        return x "
   ]
  },
  {
   "cell_type": "markdown",
   "metadata": {
    "id": "E0QtMSeDfSVm"
   },
   "source": [
    "Заметим, что тут мы не считаем softmax на выходе, чтобы получить вероятности принадлежности к классам. Это делаем осознано, так как в pytorch есть функция CrossEntropyLoss, которая включает в себя взятие softmax и затем кросс-энтропии, но она более вычислительно стабильна и работает быстрее (так написано в документации)"
   ]
  },
  {
   "cell_type": "markdown",
   "metadata": {
    "id": "Zi_YTtUlYgCC"
   },
   "source": [
    "Следующий код позволяет посмотреть архитектуру получившейся модели и общее количество обучаемых параметров. Мы хотим, чтобы количество параметров в модели было порядка сотен тысяч. Если у вас получается больше или меньше, попробуйте изменить архитектуру модели."
   ]
  },
  {
   "cell_type": "code",
   "execution_count": 4,
   "metadata": {
    "colab": {
     "base_uri": "https://localhost:8080/",
     "height": 118
    },
    "executionInfo": {
     "elapsed": 2187,
     "status": "ok",
     "timestamp": 1602498051440,
     "user": {
      "displayName": "Александр Иванович Бредихин",
      "photoUrl": "",
      "userId": "12165818949487795010"
     },
     "user_tz": -180
    },
    "id": "48AMXibrYgCD",
    "outputId": "717061aa-bb3b-4763-d75d-fbe5253f5273"
   },
   "outputs": [
    {
     "name": "stdout",
     "output_type": "stream",
     "text": [
      "Perceptron(\n",
      "  (layer_1): Linear(in_features=784, out_features=100, bias=True)\n",
      "  (act_1): Sigmoid()\n",
      "  (layer_2): Linear(in_features=100, out_features=10, bias=True)\n",
      ")\n",
      "Total number of trainable parameters 79510\n"
     ]
    }
   ],
   "source": [
    "model = Perceptron()\n",
    "print(model)\n",
    "print('Total number of trainable parameters', \n",
    "      sum(p.numel() for p in model.parameters() if p.requires_grad))"
   ]
  },
  {
   "cell_type": "markdown",
   "metadata": {
    "id": "4xBTX3EYgKRI"
   },
   "source": [
    "получили модель, у которой примерно 80000 параметров (условие, что порядка 100 000 выполнено)"
   ]
  },
  {
   "cell_type": "markdown",
   "metadata": {
    "id": "H7bMd6OQYgCF"
   },
   "source": [
    "### Обучающая выборка\n",
    "\n",
    "На практике, наиболее важным для успеха обучения любой модели машинного обучения является этап подготовки данных. Модели глубокого обучения не являются исключением. Большая, чистая, репрезентативная и релевантная поставленной задаче обучающая выборка часто важнее, чем архитектура самой модели. В предлагаемой задаче используется качественный и проверенный временем MNIST. Однако в практических задачах часто будет получаться так, что лучшим способом добиться улучшения качества модели будет сбор дополнительных данных и очистка исходных данных."
   ]
  },
  {
   "cell_type": "markdown",
   "metadata": {
    "id": "143ridIdYgCG"
   },
   "source": [
    "### Предобработка данных\n",
    "\n",
    "Для улучшения сходимости алгоритма обучения и качества полученной модели данные могут быть предварительно обработаны:\n",
    "\n",
    "1. Среднее каждой входной переменной близко к нулю\n",
    "2. Переменные отмасштабированы таким образом, что их дисперсии примерно одинаковы ( из соображений вычислительной устойчивости, мы хотим, чтобы все величины по порядку величины были близки к еденице )\n",
    "3. По возможности, входные переменные не должны быть скоррелированны. Важнось этого пункта в последние годы ставится под сомнение, но всё-же в некоторых случаях это может влиять на результат\n",
    "\n",
    "Подробнее можно почитать здесь: http://yann.lecun.com/exdb/publis/pdf/lecun-98b.pdf"
   ]
  },
  {
   "cell_type": "markdown",
   "metadata": {
    "id": "jPHpdmehYgCG"
   },
   "source": [
    "### Аугментация (искусственное дополнение) обучающей выборки\n",
    "\n",
    "В зависимости от задачи можно применять к признаковому описанию объектов обучающей выборки различные преобразования, которые позволят увеличить эффективный размер выборки без дополнительной разметки. К примеру, для задачи классификации кошек и собак можно зеркально отразить изображение вокруг вертикальной оси - при этом класс изображения не изменится, а само изображение останется по прежнему будет принадлежать исходному распределению. Есть много разных техник аугментации, и их применимость и эффективность сильно зависит от данных и задачи.\n",
    "\n",
    "Подробнее можно почитать здесь: https://link.springer.com/content/pdf/10.1186/s40537-019-0197-0.pdf"
   ]
  },
  {
   "cell_type": "markdown",
   "metadata": {
    "id": "rZyzyU2eYgCH"
   },
   "source": [
    "### Задание 2\n",
    "\n",
    "Обоснуйте, почему аугментация обучающей выборки позволяет добиться прироста качества модели, несмотря на то, что она не добавляет в неё дополнительную информацию."
   ]
  },
  {
   "cell_type": "markdown",
   "metadata": {
    "id": "yvywyKMRYgCI"
   },
   "source": [
    "# Ответ на 2ой вопрос\n",
    "Рассмотрим картинку, на которой изображена кошка. Теперь сделаем некоторое преобразование с картинкой, например, вырежем некоторый кусок из этой картинки. Полученная картинка конечно останется кошкой (для нас визуально это вроде бы очевидно). Однако для нейронной сети это  будет совсем другой картинкой, потому что у нас будут задействованы совсем другие веса (например для свёрточной нейронной сети коэффициенты ядра будут меняться по другому и выделяются какие-то другие признаки). Также мы можем это изображение немножко растянуть или немножко сжать и у нас получится совсем другая картинка. То есть с нашей точки зрения картинка получится той же самой, практически, но для нейронной сети это будет совсем другая картинка, так как параметры будут меняться по-другому. "
   ]
  },
  {
   "cell_type": "markdown",
   "metadata": {
    "id": "EKGjRHrFYgCJ"
   },
   "source": [
    "### Задание 3\n",
    "\n",
    "Какие осмысленные аугментации вы можете придумать для следующих наборов данных:\n",
    "\n",
    "1. Набор изображений животных, размеченый на виды животных\n",
    "2. Набор аудиозаписей голоса, размечеными на языки говорящего\n",
    "3. Набор cо показаниями датчиков температуры, влажности и давления с одной из метеостанций, размеченый на признак наличия осадков"
   ]
  },
  {
   "cell_type": "markdown",
   "metadata": {
    "id": "1VLpLhKPYgCJ"
   },
   "source": [
    "# Ответ на 3ий вопрос\n",
    "1) Так как в этом случае датасет состоит из картинок, то можем применять стандартные методы аугментации к данным такого вида: то есть мы можем изменять цвет, насыщенность, мы можем изменять контраст. Мы можем добавлять различные шумы, такие как шум \"соль и перец\" который характерен для фото-матриц, мы можем добавлять гауссовский шум, мы можем применять различные графические эффекты и т.д.  \n",
    "\n",
    "2) Можем ускорять или замедлять эту запись (то есть менять частоту), менять амплитуду (громкость) . Также логично её разбивать на несколько частей, если аудиодорожка большая. Можно также накладывать шумы (гауссовский шум) и так далее (не разу не работала с аудио и с моделями, которые решают подобные задачи, но это должно заставить модель учиться по-другому).\n",
    "\n",
    "3) Аналогично можем сделать шумы на измерения показаний датчиков... В этом случае больше не знаю, что можно сделать с данными, чтобы изменить данные так, чтобы результат остался прежним, но для нейронной сети это были другие данные"
   ]
  },
  {
   "cell_type": "markdown",
   "metadata": {
    "id": "au2RKhNuYgCK"
   },
   "source": [
    "### Задание 4\n",
    "\n",
    "Напишите пайплайн для предобработки и аугументации данных. В `torchvision.transforms` есть готовые реализации большинства распространённых техник. Если вы хотите добавить что-то своё, вы можете воспользоваться `torchvision.transforms.Lambda`. При этом следует понимать, что если нужно оценить качество модели на оригинальных данных, пайплайн предварительной обработки данных валидационной выборки не должен включать аугментаций. Следует помнить, однако, что существует подход аугментации данных в момент применения модели (test-time augmentation), который позволяет повысить качество модели в режиме исполнения.\n",
    "\n",
    "Одним из обязательных шагов в вашем пайплайне должна быть конвертация данных в тензоры Pytorch (`torch.Tensor`): `torchvision.transforms.ToTensor()`."
   ]
  },
  {
   "cell_type": "code",
   "execution_count": 5,
   "metadata": {
    "executionInfo": {
     "elapsed": 735,
     "status": "ok",
     "timestamp": 1602498055683,
     "user": {
      "displayName": "Александр Иванович Бредихин",
      "photoUrl": "",
      "userId": "12165818949487795010"
     },
     "user_tz": -180
    },
    "id": "Swagm8D5YgCK"
   },
   "outputs": [],
   "source": [
    "train_transforms = torchvision.transforms.Compose([\n",
    "                                                 \n",
    "    transforms.ToTensor(), \n",
    "    transforms.Normalize((0.5,), (1.0,)),\n",
    "    #transforms.Resize((28*28))\n",
    "])\n",
    "\n",
    "val_transforms = torchvision.transforms.Compose([\n",
    "    transforms.ToTensor(), \n",
    "    transforms.Normalize((0.5,), (1.0,))\n",
    "])"
   ]
  },
  {
   "cell_type": "markdown",
   "metadata": {
    "id": "eS3BIW_YyFAw"
   },
   "source": [
    "В трансформации данных переводим картинку в тензор, с помощью transforms.ToTensor() и нормализуем её\n"
   ]
  },
  {
   "cell_type": "code",
   "execution_count": 6,
   "metadata": {
    "colab": {
     "base_uri": "https://localhost:8080/",
     "height": 400,
     "referenced_widgets": [
      "b0c1f15aee8a4370a8be80584bec12c2",
      "8a09cba3751d46dc8b259bc3fb0d7fdc",
      "aa686f527f5e4b1d974b11410fac633c",
      "c7fd8e46a3ce4337b6d241ce7058dada",
      "510f726c7a7b4f56ab47979f251fcb11",
      "5094a094ae1f4e3a810377f6b95229c6",
      "a0a1e0889ee34c9781dd1c47ccbdf496",
      "3f5419dd02ac4bd0bcdc5fda4a7c78b4",
      "9fc2d41408e646e18f9be1886eb9a929",
      "6e806d794a274dca933f5584090957f1",
      "ba6705b9b800492c96299c7831a286ae",
      "5772e26f675b4add9ac1810113735de2",
      "cfd1a3caa4b04cd6a639ae10e611c7ad",
      "be6ff6c59a0d4c54977381b81b25d078",
      "16800abafc0645f58022f49d3dfcde3e",
      "05c0c76a64e3448bbd757ed9e92e428f",
      "c1868645e1d64e568732914c5a42f261",
      "932fb72a477f47fba67bb5fdd9bb5141",
      "b0b49f453062448a985aac7924214f5d",
      "e92b9f1533294182a7b98b4abbec6187",
      "f9cf410d005b46419179c89d82f4d005",
      "1f949b5ceff44f98a09d7ca195ab0209",
      "f1fbfdeed40b465183730b72b9021c9c",
      "0978333be58346c7a79494133349cb33",
      "4aa45ce5b9c24965a5d9e9225273d50a",
      "91595bc16bdd4b5eb32932182e465840",
      "237133876ca54b18af8e4751077f6765",
      "0837aa0866c14d8fa06da890217e7d54",
      "faeb3d92f62a409b82ea1c2d3087ab1d",
      "0495743ff8d84810847fe04b05d7cc85",
      "4914900e72e64baf91dc5a026cdf8dc6",
      "46b2a0f1b6874170b48bdd085ec5e2ff"
     ]
    },
    "executionInfo": {
     "elapsed": 2334,
     "status": "ok",
     "timestamp": 1602498058201,
     "user": {
      "displayName": "Александр Иванович Бредихин",
      "photoUrl": "",
      "userId": "12165818949487795010"
     },
     "user_tz": -180
    },
    "id": "-iYE63CXYgCN",
    "outputId": "7ddf1699-75bd-441c-e89f-879fa55a568d"
   },
   "outputs": [
    {
     "name": "stdout",
     "output_type": "stream",
     "text": [
      "Downloading http://yann.lecun.com/exdb/mnist/train-images-idx3-ubyte.gz to ./mnist/MNIST/raw/train-images-idx3-ubyte.gz\n"
     ]
    },
    {
     "data": {
      "application/vnd.jupyter.widget-view+json": {
       "model_id": "b0c1f15aee8a4370a8be80584bec12c2",
       "version_major": 2,
       "version_minor": 0
      },
      "text/plain": [
       "HBox(children=(FloatProgress(value=1.0, bar_style='info', max=1.0), HTML(value='')))"
      ]
     },
     "metadata": {
      "tags": []
     },
     "output_type": "display_data"
    },
    {
     "name": "stdout",
     "output_type": "stream",
     "text": [
      "Extracting ./mnist/MNIST/raw/train-images-idx3-ubyte.gz to ./mnist/MNIST/raw\n",
      "Downloading http://yann.lecun.com/exdb/mnist/train-labels-idx1-ubyte.gz to ./mnist/MNIST/raw/train-labels-idx1-ubyte.gz\n"
     ]
    },
    {
     "data": {
      "application/vnd.jupyter.widget-view+json": {
       "model_id": "9fc2d41408e646e18f9be1886eb9a929",
       "version_major": 2,
       "version_minor": 0
      },
      "text/plain": [
       "HBox(children=(FloatProgress(value=1.0, bar_style='info', max=1.0), HTML(value='')))"
      ]
     },
     "metadata": {
      "tags": []
     },
     "output_type": "display_data"
    },
    {
     "name": "stdout",
     "output_type": "stream",
     "text": [
      "Extracting ./mnist/MNIST/raw/train-labels-idx1-ubyte.gz to ./mnist/MNIST/raw\n",
      "Downloading http://yann.lecun.com/exdb/mnist/t10k-images-idx3-ubyte.gz to ./mnist/MNIST/raw/t10k-images-idx3-ubyte.gz\n"
     ]
    },
    {
     "data": {
      "application/vnd.jupyter.widget-view+json": {
       "model_id": "c1868645e1d64e568732914c5a42f261",
       "version_major": 2,
       "version_minor": 0
      },
      "text/plain": [
       "HBox(children=(FloatProgress(value=1.0, bar_style='info', max=1.0), HTML(value='')))"
      ]
     },
     "metadata": {
      "tags": []
     },
     "output_type": "display_data"
    },
    {
     "name": "stdout",
     "output_type": "stream",
     "text": [
      "Extracting ./mnist/MNIST/raw/t10k-images-idx3-ubyte.gz to ./mnist/MNIST/raw\n",
      "Downloading http://yann.lecun.com/exdb/mnist/t10k-labels-idx1-ubyte.gz to ./mnist/MNIST/raw/t10k-labels-idx1-ubyte.gz\n",
      "\n",
      "\n"
     ]
    },
    {
     "data": {
      "application/vnd.jupyter.widget-view+json": {
       "model_id": "4aa45ce5b9c24965a5d9e9225273d50a",
       "version_major": 2,
       "version_minor": 0
      },
      "text/plain": [
       "HBox(children=(FloatProgress(value=1.0, bar_style='info', max=1.0), HTML(value='')))"
      ]
     },
     "metadata": {
      "tags": []
     },
     "output_type": "display_data"
    },
    {
     "name": "stdout",
     "output_type": "stream",
     "text": [
      "Extracting ./mnist/MNIST/raw/t10k-labels-idx1-ubyte.gz to ./mnist/MNIST/raw\n",
      "Processing...\n",
      "Done!\n"
     ]
    },
    {
     "name": "stderr",
     "output_type": "stream",
     "text": [
      "/usr/local/lib/python3.6/dist-packages/torchvision/datasets/mnist.py:469: UserWarning: The given NumPy array is not writeable, and PyTorch does not support non-writeable tensors. This means you can write to the underlying (supposedly non-writeable) NumPy array using the tensor. You may want to copy the array to protect its data or make it writeable before converting it to a tensor. This type of warning will be suppressed for the rest of this program. (Triggered internally at  /pytorch/torch/csrc/utils/tensor_numpy.cpp:141.)\n",
      "  return torch.from_numpy(parsed.astype(m[2], copy=False)).view(*s)\n"
     ]
    }
   ],
   "source": [
    "train_dataset = torchvision.datasets.MNIST(root='./mnist', \n",
    "                                           train=True, \n",
    "                                           download=True,\n",
    "                                           transform=train_transforms)\n",
    "\n",
    "val_dataset = torchvision.datasets.MNIST(root='./mnist', \n",
    "                                         train=False, \n",
    "                                         download=True, \n",
    "                                         transform=val_transforms)"
   ]
  },
  {
   "cell_type": "code",
   "execution_count": 7,
   "metadata": {
    "colab": {
     "base_uri": "https://localhost:8080/",
     "height": 168
    },
    "executionInfo": {
     "elapsed": 852,
     "status": "ok",
     "timestamp": 1602498059776,
     "user": {
      "displayName": "Александр Иванович Бредихин",
      "photoUrl": "",
      "userId": "12165818949487795010"
     },
     "user_tz": -180
    },
    "id": "uibRZF7FysyR",
    "outputId": "39694aca-87fe-4063-ec03-e34244dacc7a"
   },
   "outputs": [
    {
     "name": "stdout",
     "output_type": "stream",
     "text": [
      "Dataset MNIST\n",
      "    Number of datapoints: 60000\n",
      "    Root location: ./mnist\n",
      "    Split: Train\n",
      "    StandardTransform\n",
      "Transform: Compose(\n",
      "               ToTensor()\n",
      "               Normalize(mean=(0.5,), std=(1.0,))\n",
      "           )\n"
     ]
    }
   ],
   "source": [
    "print(train_dataset)"
   ]
  },
  {
   "cell_type": "code",
   "execution_count": 8,
   "metadata": {
    "colab": {
     "base_uri": "https://localhost:8080/",
     "height": 151
    },
    "executionInfo": {
     "elapsed": 402,
     "status": "ok",
     "timestamp": 1602498060842,
     "user": {
      "displayName": "Александр Иванович Бредихин",
      "photoUrl": "",
      "userId": "12165818949487795010"
     },
     "user_tz": -180
    },
    "id": "UD9NQlI1xdTs",
    "outputId": "6d372fa0-3926-4c16-f99d-65ea9ae397e2"
   },
   "outputs": [
    {
     "name": "stderr",
     "output_type": "stream",
     "text": [
      "/usr/local/lib/python3.6/dist-packages/torchvision/datasets/mnist.py:55: UserWarning: train_data has been renamed data\n",
      "  warnings.warn(\"train_data has been renamed data\")\n",
      "/usr/local/lib/python3.6/dist-packages/torchvision/datasets/mnist.py:45: UserWarning: train_labels has been renamed targets\n",
      "  warnings.warn(\"train_labels has been renamed targets\")\n",
      "/usr/local/lib/python3.6/dist-packages/torchvision/datasets/mnist.py:60: UserWarning: test_data has been renamed data\n",
      "  warnings.warn(\"test_data has been renamed data\")\n",
      "/usr/local/lib/python3.6/dist-packages/torchvision/datasets/mnist.py:50: UserWarning: test_labels has been renamed targets\n",
      "  warnings.warn(\"test_labels has been renamed targets\")\n"
     ]
    }
   ],
   "source": [
    "X_train = train_dataset.train_data # делаем данные для test и train для нашей нейронной сети\n",
    "y_train = train_dataset.train_labels\n",
    "X_test = val_dataset.test_data\n",
    "y_test = val_dataset.test_labels"
   ]
  },
  {
   "cell_type": "code",
   "execution_count": 9,
   "metadata": {
    "colab": {
     "base_uri": "https://localhost:8080/",
     "height": 34
    },
    "executionInfo": {
     "elapsed": 579,
     "status": "ok",
     "timestamp": 1602498061225,
     "user": {
      "displayName": "Александр Иванович Бредихин",
      "photoUrl": "",
      "userId": "12165818949487795010"
     },
     "user_tz": -180
    },
    "id": "LEp2iTCRx_yb",
    "outputId": "d0bea3f3-76d7-4fa1-f655-e5dea9495428"
   },
   "outputs": [
    {
     "data": {
      "text/plain": [
       "torch.Size([60000, 28, 28])"
      ]
     },
     "execution_count": 9,
     "metadata": {
      "tags": []
     },
     "output_type": "execute_result"
    }
   ],
   "source": [
    "X_train.shape"
   ]
  },
  {
   "cell_type": "code",
   "execution_count": 10,
   "metadata": {
    "executionInfo": {
     "elapsed": 957,
     "status": "ok",
     "timestamp": 1602498062057,
     "user": {
      "displayName": "Александр Иванович Бредихин",
      "photoUrl": "",
      "userId": "12165818949487795010"
     },
     "user_tz": -180
    },
    "id": "9ZFy4p87hA3O"
   },
   "outputs": [],
   "source": [
    "X_train = X_train.reshape([-1, 28 * 28]) # переводим трёхмерный тензор в двумерный\n",
    "X_test = X_test.reshape([-1, 28 * 28])"
   ]
  },
  {
   "cell_type": "code",
   "execution_count": 11,
   "metadata": {
    "colab": {
     "base_uri": "https://localhost:8080/",
     "height": 67
    },
    "executionInfo": {
     "elapsed": 616,
     "status": "ok",
     "timestamp": 1602498063108,
     "user": {
      "displayName": "Александр Иванович Бредихин",
      "photoUrl": "",
      "userId": "12165818949487795010"
     },
     "user_tz": -180
    },
    "id": "I8djodWSGmS5",
    "outputId": "e292ebfe-11f6-483e-e7eb-2de761776538"
   },
   "outputs": [
    {
     "name": "stderr",
     "output_type": "stream",
     "text": [
      "/usr/local/lib/python3.6/dist-packages/torchvision/datasets/mnist.py:55: UserWarning: train_data has been renamed data\n",
      "  warnings.warn(\"train_data has been renamed data\")\n"
     ]
    },
    {
     "data": {
      "text/plain": [
       "torch.Size([60000, 28, 28])"
      ]
     },
     "execution_count": 11,
     "metadata": {
      "tags": []
     },
     "output_type": "execute_result"
    }
   ],
   "source": [
    "train_dataset.train_data.shape\n"
   ]
  },
  {
   "cell_type": "code",
   "execution_count": 12,
   "metadata": {
    "colab": {
     "base_uri": "https://localhost:8080/",
     "height": 34
    },
    "executionInfo": {
     "elapsed": 695,
     "status": "ok",
     "timestamp": 1602498063392,
     "user": {
      "displayName": "Александр Иванович Бредихин",
      "photoUrl": "",
      "userId": "12165818949487795010"
     },
     "user_tz": -180
    },
    "id": "SE_Hvllaz8hU",
    "outputId": "4601ffee-f53a-4de6-a171-b389d31615f5"
   },
   "outputs": [
    {
     "data": {
      "text/plain": [
       "torch.Size([60000, 784])"
      ]
     },
     "execution_count": 12,
     "metadata": {
      "tags": []
     },
     "output_type": "execute_result"
    }
   ],
   "source": [
    "X_train.shape"
   ]
  },
  {
   "cell_type": "markdown",
   "metadata": {
    "id": "8gKs62EshI--"
   },
   "source": [
    "Для начала просто преобразуем трёхмерный тензор, который поступает нам на вход, в двумерный (растянем картинку 28*28 в одну линию). Да, тем самымым мы потеряем информацию о том, какие пиксели находятся рядом, какие нет, но зато мы сможем применить наш многослойный Perceptron"
   ]
  },
  {
   "cell_type": "markdown",
   "metadata": {
    "id": "OpSo-K1C07ah"
   },
   "source": [
    "Возможно это можно было сделать внутри класса torchvision.transforms.Compose, но я не разобралась как. Поэтому сделала это вне класса используя просто reshape, который подбирает первую зависимость автоматически, а вторую делает 28*28"
   ]
  },
  {
   "cell_type": "markdown",
   "metadata": {
    "id": "gZHTftrFKnUr"
   },
   "source": [
    "Потом все равно использую dataloader, поэтому делаю reshape внутри каждой эпохи"
   ]
  },
  {
   "cell_type": "markdown",
   "metadata": {
    "id": "uVj2cekRYgCQ"
   },
   "source": [
    "Перед тем как запускать обучение всегда стоит посмотреть на данные после предобработки, и удостовериться, что они соответствуют ожидаемым"
   ]
  },
  {
   "cell_type": "markdown",
   "metadata": {
    "id": "a54G3Kv51e8T"
   },
   "source": [
    "Не понимаю, как работает этот кусок кода..."
   ]
  },
  {
   "cell_type": "code",
   "execution_count": null,
   "metadata": {
    "id": "UKB5FXYMYgCQ"
   },
   "outputs": [],
   "source": [
    "indices = np.random.randint(0, len(train_dataset), size=256)\n",
    "\n",
    "fig, axes = plt.subplots(nrows=16, ncols=16, figsize=(32, 32))\n",
    "for i, row in enumerate(axes):\n",
    "    for j, ax in enumerate(row):\n",
    "        sample_index = indices[i*16+j]\n",
    "        sample, label = train_dataset[sample_index]\n",
    "        #print(sample.cpu().numpy().transpose(1, 2, 0))\n",
    "        ax.imshow(sample.cpu().numpy().transpose(1, 2, 0))\n",
    "        ax.set_title(label)"
   ]
  },
  {
   "cell_type": "markdown",
   "metadata": {
    "id": "rYr8Gsx0YgCT"
   },
   "source": [
    "### Обучение модели\n",
    "\n",
    "Теперь, когда мы реализовали модель и подготовили данные мы можем приступить к непосредственному обучению модели. Костяк функции обучения написан ниже, далее вы должны будете реализовать ключевые части этого алгоритма"
   ]
  },
  {
   "cell_type": "code",
   "execution_count": 13,
   "metadata": {
    "executionInfo": {
     "elapsed": 651,
     "status": "ok",
     "timestamp": 1602498066858,
     "user": {
      "displayName": "Александр Иванович Бредихин",
      "photoUrl": "",
      "userId": "12165818949487795010"
     },
     "user_tz": -180
    },
    "id": "vsTzUgvYYgCT"
   },
   "outputs": [],
   "source": [
    "def train_model(model: torch.nn.Module, \n",
    "                train_dataset: torch.utils.data.Dataset,\n",
    "                val_dataset: torch.utils.data.Dataset,\n",
    "                loss_function: torch.nn.Module = torch.nn.CrossEntropyLoss(),\n",
    "                optimizer_class: Type[torch.optim.Optimizer] = torch.optim,\n",
    "                optimizer_params: Dict = {},\n",
    "                initial_lr = 0.01,\n",
    "                lr_scheduler_class: Any = torch.optim.lr_scheduler.ReduceLROnPlateau,\n",
    "                lr_scheduler_params: Dict = {},\n",
    "                batch_size = 64,\n",
    "                max_epochs = 50,\n",
    "                early_stopping_patience = 20):\n",
    "    optimizer = torch.optim.Adam(model.parameters(), lr=initial_lr, **optimizer_params)\n",
    "    lr_scheduler = lr_scheduler_class(optimizer, **lr_scheduler_params)\n",
    "    \n",
    "    train_loader = torch.utils.data.DataLoader(train_dataset, shuffle=True, batch_size=batch_size)\n",
    "    val_loader = torch.utils.data.DataLoader(val_dataset, batch_size=batch_size)\n",
    "\n",
    "    best_val_loss = None\n",
    "    best_epoch = None\n",
    "    loss_hist_train = []\n",
    "    accuracy_hist_train = []\n",
    "\n",
    "    loss_hist_val = []\n",
    "    accuracy_hist_val = []\n",
    "    for epoch in range(max_epochs):\n",
    "        \n",
    "        print(f'Epoch {epoch}')\n",
    "        metric_train = train_single_epoch(model, optimizer, loss_function, train_loader)\n",
    "        loss_hist_val.append(metric_train['loss'])\n",
    "        accuracy_hist_val.append(metric_train['accuracy'])\n",
    "        val_metrics = validate_single_epoch(model, loss_function, val_loader)\n",
    "        loss_hist_train.append(val_metrics['loss'])\n",
    "        accuracy_hist_train.append(val_metrics['accuracy'])\n",
    "        print(f'Validation metrics: \\n{val_metrics}')\n",
    "\n",
    "        lr_scheduler.step(val_metrics['loss'])\n",
    "        \n",
    "        if best_val_loss is None or best_val_loss > val_metrics['loss']:\n",
    "            print(f'Best model yet, saving')\n",
    "            best_val_loss = val_metrics['loss']\n",
    "            best_epoch = epoch\n",
    "            torch.save(model, './best_model.pth')\n",
    "            \n",
    "        if epoch - best_epoch > early_stopping_patience:\n",
    "            print('Early stopping triggered')\n",
    "            return\n",
    "    return loss_hist_train, accuracy_hist_train, loss_hist_val, accuracy_hist_val"
   ]
  },
  {
   "cell_type": "markdown",
   "metadata": {
    "id": "Ua0KyJv7YgCY"
   },
   "source": [
    "### Задание 5\n",
    "\n",
    "Реализуйте функцию, производящую обучение сети на протяжении одной эпохи ( полного прохода по всей обучающей выборке ). На вход будет приходить модель, оптимизатор, функция потерь и объект типа `DataLoader`. При итерировании по `data_loader` вы будете получать пары вида ( данные, целевая_переменная )"
   ]
  },
  {
   "cell_type": "code",
   "execution_count": 14,
   "metadata": {
    "executionInfo": {
     "elapsed": 708,
     "status": "ok",
     "timestamp": 1602498071729,
     "user": {
      "displayName": "Александр Иванович Бредихин",
      "photoUrl": "",
      "userId": "12165818949487795010"
     },
     "user_tz": -180
    },
    "id": "XereEiJaYgCY"
   },
   "outputs": [],
   "source": [
    "def train_single_epoch(model: torch.nn.Module,\n",
    "                       optimizer: torch.optim.Optimizer, \n",
    "                       loss_function: torch.nn.Module, \n",
    "                       data_loader: torch.utils.data.DataLoader):\n",
    "    loss_history = []\n",
    "    accuracy_history = []\n",
    "    for X, y in data_loader:\n",
    "      X_batch = X.reshape([-1, 28 * 28])\n",
    "\n",
    "      X_batch = X_batch.to(device) # переносим на видеопамять для вычисления (для скорости обучения делаю на colab)\n",
    "      y = y.to(device)\n",
    "\n",
    "\n",
    "      optimizer.zero_grad() # обнуляем градиент, так как он не обнуляется с предыдущей итерации\n",
    "\n",
    "      pred = model.forward(X_batch) # получаю предсказание модели\n",
    "\n",
    "      loss_value = loss_function(pred, y) # значение лосс функции на батче\n",
    "      loss_history.append(loss_value)\n",
    "      accuracy = (pred.argmax(dim=1) == y).float().mean() # точность это сколько из возможных угадала наша модель\n",
    "      accuracy_history.append(accuracy)\n",
    "      loss_value.backward() # производная по каждой из компонент нашей нейронной сети\n",
    "\n",
    "      optimizer.step() # делаем шаг нашего оптимизатора\n",
    "    return {'loss': float(sum(loss_history)/len(loss_history)), 'accuracy': float(sum(accuracy_history)/len(accuracy_history))}"
   ]
  },
  {
   "cell_type": "markdown",
   "metadata": {
    "id": "ghhuujMZYgCb"
   },
   "source": [
    "### Задание 6\n",
    "\n",
    "Реализуйте функцию производящую вычисление функции потерь на валидационной выборке.  На вход будет приходить модель, функция потерь и `DataLoader`. На выходе ожидается словарь с вида:\n",
    "```\n",
    "{\n",
    "    'loss': <среднее значение функции потерь>,\n",
    "    'accuracy': <среднее значение точности модели>\n",
    "}\n",
    "```"
   ]
  },
  {
   "cell_type": "code",
   "execution_count": 15,
   "metadata": {
    "executionInfo": {
     "elapsed": 632,
     "status": "ok",
     "timestamp": 1602498073658,
     "user": {
      "displayName": "Александр Иванович Бредихин",
      "photoUrl": "",
      "userId": "12165818949487795010"
     },
     "user_tz": -180
    },
    "id": "AOtfpMC0YgCb"
   },
   "outputs": [],
   "source": [
    "def validate_single_epoch(model: torch.nn.Module,\n",
    "                          loss_function: torch.nn.Module, \n",
    "                          data_loader: torch.utils.data.DataLoader):\n",
    "    loss_history = []\n",
    "    accuracy_history = []\n",
    "    accuracy = 0\n",
    "    for X, y in data_loader:\n",
    "      X_test = X.reshape([-1, 28 * 28])\n",
    "      pred_test = model.forward(X_test)  # получаем результат на валидации\n",
    "\n",
    "      loss_val = loss_function(pred_test, y) # лосс функция на валидации на одном батче\n",
    "      loss_history.append(loss_val) #  добавляем в массив значение лосс функции на батче\n",
    "      accuracy = (pred_test.argmax(dim=1) == y).float().mean() # точность это сколько из возможных угадала наша модель\n",
    "      accuracy_history.append(accuracy)\n",
    "      \n",
    "    res_dict = {'loss': float(sum(loss_history)/len(loss_history)), 'accuracy': float(sum(accuracy_history)/len(accuracy_history))}\n",
    "    return res_dict\n",
    "\n",
    "\n",
    "\n",
    "\n",
    "\n"
   ]
  },
  {
   "cell_type": "markdown",
   "metadata": {
    "id": "qHY77Q4tYgCe"
   },
   "source": [
    "Если вы корректно реализовали все предыдущие шаги и ваша модель имеет достаточное количество обучаемых параметров, то в следующей ячейке должен пойти процесс обучения, и мы должны достичь итоговой точности (в смысле меры accuracy, доли верных ответов) выше 90%"
   ]
  },
  {
   "cell_type": "code",
   "execution_count": 16,
   "metadata": {
    "executionInfo": {
     "elapsed": 689,
     "status": "ok",
     "timestamp": 1602498083219,
     "user": {
      "displayName": "Александр Иванович Бредихин",
      "photoUrl": "",
      "userId": "12165818949487795010"
     },
     "user_tz": -180
    },
    "id": "s1oEJfOCXSw7"
   },
   "outputs": [],
   "source": [
    "device = torch.device('cuda:0' if torch.cuda.is_available() else 'cpu') # если видеокарта доступно, будем переносить туда вычисления\n",
    "model = model.to(device) # все параметры нейронной сети переносим на видеопамять, так как с ними вычисления происходят очень часто\n",
    "# list(mnist_net.parameters()) # проверяем, что все веса и байесы переместились"
   ]
  },
  {
   "cell_type": "code",
   "execution_count": null,
   "metadata": {
    "colab": {
     "base_uri": "https://localhost:8080/",
     "height": 1000
    },
    "executionInfo": {
     "elapsed": 878515,
     "status": "ok",
     "timestamp": 1602449116166,
     "user": {
      "displayName": "Александр Иванович Бредихин",
      "photoUrl": "",
      "userId": "12165818949487795010"
     },
     "user_tz": -180
    },
    "id": "ngBwK-BQYgCe",
    "outputId": "7e049044-962b-4b14-c252-8e6e66edeac7"
   },
   "outputs": [
    {
     "name": "stdout",
     "output_type": "stream",
     "text": [
      "Epoch 0\n",
      "Validation metrics: \n",
      "{'loss': 0.16420666873455048, 'accuracy': 0.9523288011550903}\n",
      "Best model yet, saving\n",
      "Epoch 1\n",
      "Validation metrics: \n",
      "{'loss': 0.17256665229797363, 'accuracy': 0.9499402642250061}\n",
      "Epoch 2\n",
      "Validation metrics: \n",
      "{'loss': 0.17492757737636566, 'accuracy': 0.9492436051368713}\n",
      "Epoch 3\n",
      "Validation metrics: \n",
      "{'loss': 0.15717710554599762, 'accuracy': 0.956409215927124}\n",
      "Best model yet, saving\n",
      "Epoch 4\n",
      "Validation metrics: \n",
      "{'loss': 0.1613512635231018, 'accuracy': 0.9550158977508545}\n",
      "Epoch 5\n",
      "Validation metrics: \n",
      "{'loss': 0.1752701997756958, 'accuracy': 0.9487460255622864}\n",
      "Epoch 6\n",
      "Validation metrics: \n",
      "{'loss': 0.1733340322971344, 'accuracy': 0.9505374431610107}\n",
      "Epoch 7\n",
      "Validation metrics: \n",
      "{'loss': 0.16027899086475372, 'accuracy': 0.9541202187538147}\n",
      "Epoch 8\n",
      "Validation metrics: \n",
      "{'loss': 0.15008753538131714, 'accuracy': 0.9565087556838989}\n",
      "Best model yet, saving\n",
      "Epoch 9\n",
      "Validation metrics: \n",
      "{'loss': 0.14529071748256683, 'accuracy': 0.9568073153495789}\n",
      "Best model yet, saving\n",
      "Epoch 10\n",
      "Validation metrics: \n",
      "{'loss': 0.17278291285037994, 'accuracy': 0.9512341022491455}\n",
      "Epoch 11\n",
      "Validation metrics: \n",
      "{'loss': 0.1894872635602951, 'accuracy': 0.9455612897872925}\n",
      "Epoch 12\n",
      "Validation metrics: \n",
      "{'loss': 0.17617911100387573, 'accuracy': 0.9489450454711914}\n",
      "Epoch 13\n",
      "Validation metrics: \n",
      "{'loss': 0.18025559186935425, 'accuracy': 0.9486464858055115}\n",
      "Epoch 14\n",
      "Validation metrics: \n",
      "{'loss': 0.15018408000469208, 'accuracy': 0.9543192386627197}\n",
      "Epoch 15\n",
      "Validation metrics: \n",
      "{'loss': 0.1658027619123459, 'accuracy': 0.9518312215805054}\n",
      "Epoch 16\n",
      "Validation metrics: \n",
      "{'loss': 0.15517652034759521, 'accuracy': 0.952925980091095}\n",
      "Epoch 17\n",
      "Validation metrics: \n",
      "{'loss': 0.16963917016983032, 'accuracy': 0.9515326619148254}\n",
      "Epoch 18\n",
      "Validation metrics: \n",
      "{'loss': 0.17322568595409393, 'accuracy': 0.9501393437385559}\n",
      "Epoch 19\n",
      "Validation metrics: \n",
      "{'loss': 0.16246885061264038, 'accuracy': 0.9526273608207703}\n",
      "Epoch 20\n",
      "Validation metrics: \n",
      "{'loss': 0.1760471761226654, 'accuracy': 0.9514331221580505}\n",
      "Epoch 21\n",
      "Validation metrics: \n",
      "{'loss': 0.13382984697818756, 'accuracy': 0.9600915312767029}\n",
      "Best model yet, saving\n",
      "Epoch 22\n",
      "Validation metrics: \n",
      "{'loss': 0.13560278713703156, 'accuracy': 0.9608877301216125}\n",
      "Epoch 23\n",
      "Validation metrics: \n",
      "{'loss': 0.13316842913627625, 'accuracy': 0.9599920511245728}\n",
      "Best model yet, saving\n",
      "Epoch 24\n",
      "Validation metrics: \n",
      "{'loss': 0.1318412870168686, 'accuracy': 0.9628781676292419}\n",
      "Best model yet, saving\n",
      "Epoch 25\n",
      "Validation metrics: \n",
      "{'loss': 0.13259360194206238, 'accuracy': 0.9616839289665222}\n",
      "Epoch 26\n",
      "Validation metrics: \n",
      "{'loss': 0.1320401281118393, 'accuracy': 0.962380588054657}\n",
      "Epoch 27\n",
      "Validation metrics: \n",
      "{'loss': 0.1324978470802307, 'accuracy': 0.9616839289665222}\n",
      "Epoch 28\n",
      "Validation metrics: \n",
      "{'loss': 0.13586510717868805, 'accuracy': 0.9630772471427917}\n",
      "Epoch 29\n",
      "Validation metrics: \n",
      "{'loss': 0.13154414296150208, 'accuracy': 0.962082028388977}\n",
      "Best model yet, saving\n",
      "Epoch 30\n",
      "Validation metrics: \n",
      "{'loss': 0.12994569540023804, 'accuracy': 0.9619824886322021}\n",
      "Best model yet, saving\n",
      "Epoch 31\n",
      "Validation metrics: \n",
      "{'loss': 0.13577067852020264, 'accuracy': 0.9614848494529724}\n",
      "Epoch 32\n",
      "Validation metrics: \n",
      "{'loss': 0.1330460011959076, 'accuracy': 0.962380588054657}\n",
      "Epoch 33\n",
      "Validation metrics: \n",
      "{'loss': 0.13357047736644745, 'accuracy': 0.9622810482978821}\n",
      "Epoch 34\n",
      "Validation metrics: \n",
      "{'loss': 0.13459524512290955, 'accuracy': 0.9621815085411072}\n",
      "Epoch 35\n",
      "Validation metrics: \n",
      "{'loss': 0.13460788130760193, 'accuracy': 0.9606887102127075}\n",
      "Epoch 36\n",
      "Validation metrics: \n",
      "{'loss': 0.1329522281885147, 'accuracy': 0.9619824886322021}\n",
      "Epoch 37\n",
      "Validation metrics: \n",
      "{'loss': 0.1349509358406067, 'accuracy': 0.9624800682067871}\n",
      "Epoch 38\n",
      "Validation metrics: \n",
      "{'loss': 0.13826999068260193, 'accuracy': 0.9618829488754272}\n",
      "Epoch 39\n",
      "Validation metrics: \n",
      "{'loss': 0.13603873550891876, 'accuracy': 0.9615843892097473}\n",
      "Epoch 40\n",
      "Validation metrics: \n",
      "{'loss': 0.13658516108989716, 'accuracy': 0.9616839289665222}\n",
      "Epoch 41\n",
      "Validation metrics: \n",
      "{'loss': 0.13887636363506317, 'accuracy': 0.962082028388977}\n",
      "Epoch 42\n",
      "Validation metrics: \n",
      "{'loss': 0.13660120964050293, 'accuracy': 0.9621815085411072}\n",
      "Epoch 43\n",
      "Validation metrics: \n",
      "{'loss': 0.13652239739894867, 'accuracy': 0.9621815085411072}\n",
      "Epoch 44\n",
      "Validation metrics: \n",
      "{'loss': 0.13672839105129242, 'accuracy': 0.962082028388977}\n",
      "Epoch 45\n",
      "Validation metrics: \n",
      "{'loss': 0.13678699731826782, 'accuracy': 0.9621815085411072}\n",
      "Epoch 46\n",
      "Validation metrics: \n",
      "{'loss': 0.13693077862262726, 'accuracy': 0.9621815085411072}\n",
      "Epoch 47\n",
      "Validation metrics: \n",
      "{'loss': 0.13695548474788666, 'accuracy': 0.962082028388977}\n",
      "Epoch 48\n",
      "Validation metrics: \n",
      "{'loss': 0.1365593522787094, 'accuracy': 0.9621815085411072}\n",
      "Epoch 49\n",
      "Validation metrics: \n",
      "{'loss': 0.13646629452705383, 'accuracy': 0.9621815085411072}\n",
      "Epoch 50\n",
      "Validation metrics: \n",
      "{'loss': 0.13711155951023102, 'accuracy': 0.9622810482978821}\n",
      "Epoch 51\n",
      "Validation metrics: \n",
      "{'loss': 0.1361342817544937, 'accuracy': 0.9622810482978821}\n",
      "Early stopping triggered\n"
     ]
    }
   ],
   "source": [
    "train_model(model, \n",
    "            train_dataset=train_dataset, \n",
    "            val_dataset=val_dataset, \n",
    "            loss_function=torch.nn.CrossEntropyLoss(), \n",
    "            initial_lr=0.01)"
   ]
  },
  {
   "cell_type": "markdown",
   "metadata": {
    "id": "EiJR5hFEgAJP"
   },
   "source": [
    "Выше представлено обучение модели, которая достигла точности 96.22\n"
   ]
  },
  {
   "cell_type": "markdown",
   "metadata": {
    "id": "GN7wNyigYgCh"
   },
   "source": [
    "### Задание 7\n",
    "\n",
    "Модифицируйте процесс обучения таким образом, чтобы достигнуть наилучшего качества на валидационной выборке. Модель должна оставаться N-слойным перцептроном с количеством обучаемых параметров <= 500000. Для обучения разрешается использовать только набор данных MNIST. Процесс обучения вы можете изменять по собственному усмотрению. К примеру, вы можете менять:\n",
    "\n",
    "* Архитектуру модели в рамках наложенных ограничений на количество параметров и вид архитектуры (многослойный перцептрон)\n",
    "* Функции активации в модели\n",
    "* Используемый оптимизатор\n",
    "* Расписание шага оптимизации\n",
    "* Сэмплинг данных при обучении ( e.g. hard negative mining)\n",
    "\n",
    "В результате мы ожидаем увидеть код экспериментов и любые инсайты, которые вы сможете получить в процессе"
   ]
  },
  {
   "cell_type": "code",
   "execution_count": 17,
   "metadata": {
    "colab": {
     "base_uri": "https://localhost:8080/",
     "height": 1000
    },
    "executionInfo": {
     "elapsed": 734236,
     "status": "ok",
     "timestamp": 1602498824785,
     "user": {
      "displayName": "Александр Иванович Бредихин",
      "photoUrl": "",
      "userId": "12165818949487795010"
     },
     "user_tz": -180
    },
    "id": "dY5IuA3MkCQe",
    "outputId": "30649256-f28f-452d-8e0a-282ec489c987"
   },
   "outputs": [
    {
     "name": "stdout",
     "output_type": "stream",
     "text": [
      "Epoch 0\n",
      "Validation metrics: \n",
      "{'loss': 0.24809084832668304, 'accuracy': 0.9286425113677979}\n",
      "Best model yet, saving\n",
      "Epoch 1\n",
      "Validation metrics: \n",
      "{'loss': 0.22148771584033966, 'accuracy': 0.9333200454711914}\n",
      "Best model yet, saving\n",
      "Epoch 2\n",
      "Validation metrics: \n",
      "{'loss': 0.2041497379541397, 'accuracy': 0.9352110028266907}\n",
      "Best model yet, saving\n",
      "Epoch 3\n",
      "Validation metrics: \n",
      "{'loss': 0.21240873634815216, 'accuracy': 0.933917224407196}\n",
      "Epoch 4\n",
      "Validation metrics: \n",
      "{'loss': 0.18734560906887054, 'accuracy': 0.9455612897872925}\n",
      "Best model yet, saving\n",
      "Epoch 5\n",
      "Validation metrics: \n",
      "{'loss': 0.20193032920360565, 'accuracy': 0.9414808750152588}\n",
      "Epoch 6\n",
      "Validation metrics: \n",
      "{'loss': 0.19810079038143158, 'accuracy': 0.9435708522796631}\n",
      "Epoch 7\n",
      "Validation metrics: \n",
      "{'loss': 0.2094324380159378, 'accuracy': 0.9391918778419495}\n",
      "Epoch 8\n",
      "Validation metrics: \n",
      "{'loss': 0.20744284987449646, 'accuracy': 0.9381966590881348}\n",
      "Epoch 9\n",
      "Validation metrics: \n",
      "{'loss': 0.2039307802915573, 'accuracy': 0.9406847357749939}\n",
      "Epoch 10\n",
      "Validation metrics: \n",
      "{'loss': 0.18901188671588898, 'accuracy': 0.9418789744377136}\n",
      "Epoch 11\n",
      "Validation metrics: \n",
      "{'loss': 0.18914754688739777, 'accuracy': 0.9459593892097473}\n",
      "Epoch 12\n",
      "Validation metrics: \n",
      "{'loss': 0.19016799330711365, 'accuracy': 0.9449641704559326}\n",
      "Epoch 13\n",
      "Validation metrics: \n",
      "{'loss': 0.17156600952148438, 'accuracy': 0.9507364630699158}\n",
      "Best model yet, saving\n",
      "Epoch 14\n",
      "Validation metrics: \n",
      "{'loss': 0.18412336707115173, 'accuracy': 0.9453622698783875}\n",
      "Epoch 15\n",
      "Validation metrics: \n",
      "{'loss': 0.17148679494857788, 'accuracy': 0.9489450454711914}\n",
      "Best model yet, saving\n",
      "Epoch 16\n",
      "Validation metrics: \n",
      "{'loss': 0.1871802806854248, 'accuracy': 0.9465565085411072}\n",
      "Epoch 17\n",
      "Validation metrics: \n",
      "{'loss': 0.18897277116775513, 'accuracy': 0.944167971611023}\n",
      "Epoch 18\n",
      "Validation metrics: \n",
      "{'loss': 0.191499263048172, 'accuracy': 0.9465565085411072}\n",
      "Epoch 19\n",
      "Validation metrics: \n",
      "{'loss': 0.22272750735282898, 'accuracy': 0.9340167045593262}\n",
      "Epoch 20\n",
      "Validation metrics: \n",
      "{'loss': 0.1902744472026825, 'accuracy': 0.9457603693008423}\n",
      "Epoch 21\n",
      "Validation metrics: \n",
      "{'loss': 0.20940625667572021, 'accuracy': 0.940784215927124}\n",
      "Epoch 22\n",
      "Validation metrics: \n",
      "{'loss': 0.17424336075782776, 'accuracy': 0.9490445852279663}\n",
      "Epoch 23\n",
      "Validation metrics: \n",
      "{'loss': 0.18974341452121735, 'accuracy': 0.9490445852279663}\n",
      "Epoch 24\n",
      "Validation metrics: \n",
      "{'loss': 0.16012431681156158, 'accuracy': 0.9549164175987244}\n",
      "Best model yet, saving\n",
      "Epoch 25\n",
      "Validation metrics: \n",
      "{'loss': 0.17298775911331177, 'accuracy': 0.9515326619148254}\n",
      "Epoch 26\n",
      "Validation metrics: \n",
      "{'loss': 0.1934644728899002, 'accuracy': 0.9449641704559326}\n",
      "Epoch 27\n",
      "Validation metrics: \n",
      "{'loss': 0.1696871966123581, 'accuracy': 0.9512341022491455}\n",
      "Epoch 28\n",
      "Validation metrics: \n",
      "{'loss': 0.1791248470544815, 'accuracy': 0.9486464858055115}\n",
      "Epoch 29\n",
      "Validation metrics: \n",
      "{'loss': 0.193247452378273, 'accuracy': 0.9461584687232971}\n",
      "Epoch 30\n",
      "Validation metrics: \n",
      "{'loss': 0.20616008341312408, 'accuracy': 0.940386176109314}\n",
      "Epoch 31\n",
      "Validation metrics: \n",
      "{'loss': 0.18878298997879028, 'accuracy': 0.9471536874771118}\n",
      "Epoch 32\n",
      "Validation metrics: \n",
      "{'loss': 0.21491830050945282, 'accuracy': 0.9426751732826233}\n",
      "Epoch 33\n",
      "Validation metrics: \n",
      "{'loss': 0.19159990549087524, 'accuracy': 0.9463574886322021}\n",
      "Epoch 34\n",
      "Validation metrics: \n",
      "{'loss': 0.18585602939128876, 'accuracy': 0.9503383636474609}\n",
      "Epoch 35\n",
      "Validation metrics: \n",
      "{'loss': 0.1886519342660904, 'accuracy': 0.9456608295440674}\n",
      "Epoch 36\n",
      "Validation metrics: \n",
      "{'loss': 0.14375406503677368, 'accuracy': 0.9593949317932129}\n",
      "Best model yet, saving\n",
      "Epoch 37\n",
      "Validation metrics: \n",
      "{'loss': 0.1432599425315857, 'accuracy': 0.9609872698783875}\n",
      "Best model yet, saving\n",
      "Epoch 38\n",
      "Validation metrics: \n",
      "{'loss': 0.13908536732196808, 'accuracy': 0.9616839289665222}\n",
      "Best model yet, saving\n",
      "Epoch 39\n",
      "Validation metrics: \n",
      "{'loss': 0.1413671225309372, 'accuracy': 0.962380588054657}\n",
      "Epoch 40\n",
      "Validation metrics: \n",
      "{'loss': 0.14090095460414886, 'accuracy': 0.9610868096351624}\n",
      "Epoch 41\n",
      "Validation metrics: \n",
      "{'loss': 0.13971582055091858, 'accuracy': 0.9612858295440674}\n",
      "Epoch 42\n",
      "Validation metrics: \n",
      "{'loss': 0.1425064206123352, 'accuracy': 0.9602906107902527}\n",
      "Epoch 43\n",
      "Validation metrics: \n",
      "{'loss': 0.14333118498325348, 'accuracy': 0.9613853693008423}\n",
      "Epoch 44\n",
      "Validation metrics: \n",
      "{'loss': 0.14158836007118225, 'accuracy': 0.9613853693008423}\n",
      "Epoch 45\n",
      "Validation metrics: \n",
      "{'loss': 0.14204590022563934, 'accuracy': 0.9605891704559326}\n",
      "Epoch 46\n",
      "Validation metrics: \n",
      "{'loss': 0.1407572329044342, 'accuracy': 0.9615843892097473}\n",
      "Epoch 47\n",
      "Validation metrics: \n",
      "{'loss': 0.13947157561779022, 'accuracy': 0.9614848494529724}\n",
      "Epoch 48\n",
      "Validation metrics: \n",
      "{'loss': 0.144130140542984, 'accuracy': 0.9609872698783875}\n",
      "Epoch 49\n",
      "Validation metrics: \n",
      "{'loss': 0.1417893022298813, 'accuracy': 0.9608877301216125}\n"
     ]
    }
   ],
   "source": [
    "loss_hist_train, accuracy_hist_train, loss_hist_val, accuracy_hist_val = train_model(model, \n",
    "            train_dataset=train_dataset, \n",
    "            val_dataset=val_dataset, \n",
    "            loss_function=torch.nn.CrossEntropyLoss(), \n",
    "            initial_lr=0.01)"
   ]
  },
  {
   "cell_type": "code",
   "execution_count": 18,
   "metadata": {
    "colab": {
     "base_uri": "https://localhost:8080/",
     "height": 299
    },
    "executionInfo": {
     "elapsed": 3200,
     "status": "ok",
     "timestamp": 1602498900293,
     "user": {
      "displayName": "Александр Иванович Бредихин",
      "photoUrl": "",
      "userId": "12165818949487795010"
     },
     "user_tz": -180
    },
    "id": "uYUFlEfjarMy",
    "outputId": "1166b78c-c416-4368-ba95-111f364c8aa4"
   },
   "outputs": [
    {
     "data": {
      "text/plain": [
       "Text(0, 0.5, '$loss$')"
      ]
     },
     "execution_count": 18,
     "metadata": {
      "tags": []
     },
     "output_type": "execute_result"
    },
    {
     "data": {
      "image/png": "[encoded data removed]",
      "text/plain": [
       "<Figure size 432x288 with 1 Axes>"
      ]
     },
     "metadata": {
      "needs_background": "light",
      "tags": []
     },
     "output_type": "display_data"
    }
   ],
   "source": [
    "plt.plot(loss_hist_train, label='loss function Test') # график убывания loss функции от номера эпохи\n",
    "plt.plot(loss_hist_val, label='loss function validation', c='r')\n",
    "plt.legend(loc='upper left')\n",
    "plt.xlabel('$n\\_epoxa$')\n",
    "plt.ylabel('$loss$')"
   ]
  },
  {
   "cell_type": "code",
   "execution_count": 19,
   "metadata": {
    "colab": {
     "base_uri": "https://localhost:8080/",
     "height": 299
    },
    "executionInfo": {
     "elapsed": 1215,
     "status": "ok",
     "timestamp": 1602498907102,
     "user": {
      "displayName": "Александр Иванович Бредихин",
      "photoUrl": "",
      "userId": "12165818949487795010"
     },
     "user_tz": -180
    },
    "id": "89u8fBoZYgCh",
    "outputId": "2a145921-11b7-42be-da73-24c85dc9e7d5"
   },
   "outputs": [
    {
     "data": {
      "text/plain": [
       "Text(0, 0.5, '$accuracy$')"
      ]
     },
     "execution_count": 19,
     "metadata": {
      "tags": []
     },
     "output_type": "execute_result"
    },
    {
     "data": {
      "image/png": "[encoded data removed]",
      "text/plain": [
       "<Figure size 432x288 with 1 Axes>"
      ]
     },
     "metadata": {
      "needs_background": "light",
      "tags": []
     },
     "output_type": "display_data"
    }
   ],
   "source": [
    "plt.plot(accuracy_hist_val, c='r', label='accuracy_Test')\n",
    "plt.plot(accuracy_hist_train, c='g', label='accuracy_Train')\n",
    "plt.legend(loc='upper left')\n",
    "plt.xlabel('$n\\_epoxa$')\n",
    "plt.ylabel('$accuracy$')"
   ]
  },
  {
   "cell_type": "code",
   "execution_count": null,
   "metadata": {
    "id": "WYCPf1YdYMaZ"
   },
   "outputs": [],
   "source": []
  }
 ],
 "metadata": {
  "colab": {
   "name": "HW03.ipynb",
   "provenance": [],
   "toc_visible": true
  },
  "kernelspec": {
   "display_name": "Python 3",
   "language": "python",
   "name": "python3"
  },
  "language_info": {
   "codemirror_mode": {
    "name": "ipython",
    "version": 3
   },
   "file_extension": ".py",
   "mimetype": "text/x-python",
   "name": "python",
   "nbconvert_exporter": "python",
   "pygments_lexer": "ipython3",
   "version": "3.7.3"
  },
  "widgets": {
   "application/vnd.jupyter.widget-state+json": {
    "0495743ff8d84810847fe04b05d7cc85": {
     "model_module": "@jupyter-widgets/base",
     "model_name": "LayoutModel",
     "state": {
      "_model_module": "@jupyter-widgets/base",
      "_model_module_version": "1.2.0",
      "_model_name": "LayoutModel",
      "_view_count": null,
      "_view_module": "@jupyter-widgets/base",
      "_view_module_version": "1.2.0",
      "_view_name": "LayoutView",
      "align_content": null,
      "align_items": null,
      "align_self": null,
      "border": null,
      "bottom": null,
      "display": null,
      "flex": null,
      "flex_flow": null,
      "grid_area": null,
      "grid_auto_columns": null,
      "grid_auto_flow": null,
      "grid_auto_rows": null,
      "grid_column": null,
      "grid_gap": null,
      "grid_row": null,
      "grid_template_areas": null,
      "grid_template_columns": null,
      "grid_template_rows": null,
      "height": null,
      "justify_content": null,
      "justify_items": null,
      "left": null,
      "margin": null,
      "max_height": null,
      "max_width": null,
      "min_height": null,
      "min_width": null,
      "object_fit": null,
      "object_position": null,
      "order": null,
      "overflow": null,
      "overflow_x": null,
      "overflow_y": null,
      "padding": null,
      "right": null,
      "top": null,
      "visibility": null,
      "width": null
     }
    },
    "05c0c76a64e3448bbd757ed9e92e428f": {
     "model_module": "@jupyter-widgets/base",
     "model_name": "LayoutModel",
     "state": {
      "_model_module": "@jupyter-widgets/base",
      "_model_module_version": "1.2.0",
      "_model_name": "LayoutModel",
      "_view_count": null,
      "_view_module": "@jupyter-widgets/base",
      "_view_module_version": "1.2.0",
      "_view_name": "LayoutView",
      "align_content": null,
      "align_items": null,
      "align_self": null,
      "border": null,
      "bottom": null,
      "display": null,
      "flex": null,
      "flex_flow": null,
      "grid_area": null,
      "grid_auto_columns": null,
      "grid_auto_flow": null,
      "grid_auto_rows": null,
      "grid_column": null,
      "grid_gap": null,
      "grid_row": null,
      "grid_template_areas": null,
      "grid_template_columns": null,
      "grid_template_rows": null,
      "height": null,
      "justify_content": null,
      "justify_items": null,
      "left": null,
      "margin": null,
      "max_height": null,
      "max_width": null,
      "min_height": null,
      "min_width": null,
      "object_fit": null,
      "object_position": null,
      "order": null,
      "overflow": null,
      "overflow_x": null,
      "overflow_y": null,
      "padding": null,
      "right": null,
      "top": null,
      "visibility": null,
      "width": null
     }
    },
    "0837aa0866c14d8fa06da890217e7d54": {
     "model_module": "@jupyter-widgets/controls",
     "model_name": "HTMLModel",
     "state": {
      "_dom_classes": [],
      "_model_module": "@jupyter-widgets/controls",
      "_model_module_version": "1.5.0",
      "_model_name": "HTMLModel",
      "_view_count": null,
      "_view_module": "@jupyter-widgets/controls",
      "_view_module_version": "1.5.0",
      "_view_name": "HTMLView",
      "description": "",
      "description_tooltip": null,
      "layout": "IPY_MODEL_46b2a0f1b6874170b48bdd085ec5e2ff",
      "placeholder": "​",
      "style": "IPY_MODEL_4914900e72e64baf91dc5a026cdf8dc6",
      "value": " 0/4542 [00:00&lt;?, ?it/s]"
     }
    },
    "0978333be58346c7a79494133349cb33": {
     "model_module": "@jupyter-widgets/base",
     "model_name": "LayoutModel",
     "state": {
      "_model_module": "@jupyter-widgets/base",
      "_model_module_version": "1.2.0",
      "_model_name": "LayoutModel",
      "_view_count": null,
      "_view_module": "@jupyter-widgets/base",
      "_view_module_version": "1.2.0",
      "_view_name": "LayoutView",
      "align_content": null,
      "align_items": null,
      "align_self": null,
      "border": null,
      "bottom": null,
      "display": null,
      "flex": null,
      "flex_flow": null,
      "grid_area": null,
      "grid_auto_columns": null,
      "grid_auto_flow": null,
      "grid_auto_rows": null,
      "grid_column": null,
      "grid_gap": null,
      "grid_row": null,
      "grid_template_areas": null,
      "grid_template_columns": null,
      "grid_template_rows": null,
      "height": null,
      "justify_content": null,
      "justify_items": null,
      "left": null,
      "margin": null,
      "max_height": null,
      "max_width": null,
      "min_height": null,
      "min_width": null,
      "object_fit": null,
      "object_position": null,
      "order": null,
      "overflow": null,
      "overflow_x": null,
      "overflow_y": null,
      "padding": null,
      "right": null,
      "top": null,
      "visibility": null,
      "width": null
     }
    },
    "16800abafc0645f58022f49d3dfcde3e": {
     "model_module": "@jupyter-widgets/controls",
     "model_name": "DescriptionStyleModel",
     "state": {
      "_model_module": "@jupyter-widgets/controls",
      "_model_module_version": "1.5.0",
      "_model_name": "DescriptionStyleModel",
      "_view_count": null,
      "_view_module": "@jupyter-widgets/base",
      "_view_module_version": "1.2.0",
      "_view_name": "StyleView",
      "description_width": ""
     }
    },
    "1f949b5ceff44f98a09d7ca195ab0209": {
     "model_module": "@jupyter-widgets/base",
     "model_name": "LayoutModel",
     "state": {
      "_model_module": "@jupyter-widgets/base",
      "_model_module_version": "1.2.0",
      "_model_name": "LayoutModel",
      "_view_count": null,
      "_view_module": "@jupyter-widgets/base",
      "_view_module_version": "1.2.0",
      "_view_name": "LayoutView",
      "align_content": null,
      "align_items": null,
      "align_self": null,
      "border": null,
      "bottom": null,
      "display": null,
      "flex": null,
      "flex_flow": null,
      "grid_area": null,
      "grid_auto_columns": null,
      "grid_auto_flow": null,
      "grid_auto_rows": null,
      "grid_column": null,
      "grid_gap": null,
      "grid_row": null,
      "grid_template_areas": null,
      "grid_template_columns": null,
      "grid_template_rows": null,
      "height": null,
      "justify_content": null,
      "justify_items": null,
      "left": null,
      "margin": null,
      "max_height": null,
      "max_width": null,
      "min_height": null,
      "min_width": null,
      "object_fit": null,
      "object_position": null,
      "order": null,
      "overflow": null,
      "overflow_x": null,
      "overflow_y": null,
      "padding": null,
      "right": null,
      "top": null,
      "visibility": null,
      "width": null
     }
    },
    "237133876ca54b18af8e4751077f6765": {
     "model_module": "@jupyter-widgets/controls",
     "model_name": "FloatProgressModel",
     "state": {
      "_dom_classes": [],
      "_model_module": "@jupyter-widgets/controls",
      "_model_module_version": "1.5.0",
      "_model_name": "FloatProgressModel",
      "_view_count": null,
      "_view_module": "@jupyter-widgets/controls",
      "_view_module_version": "1.5.0",
      "_view_name": "ProgressView",
      "bar_style": "info",
      "description": "  0%",
      "description_tooltip": null,
      "layout": "IPY_MODEL_0495743ff8d84810847fe04b05d7cc85",
      "max": 1,
      "min": 0,
      "orientation": "horizontal",
      "style": "IPY_MODEL_faeb3d92f62a409b82ea1c2d3087ab1d",
      "value": 0
     }
    },
    "3f5419dd02ac4bd0bcdc5fda4a7c78b4": {
     "model_module": "@jupyter-widgets/base",
     "model_name": "LayoutModel",
     "state": {
      "_model_module": "@jupyter-widgets/base",
      "_model_module_version": "1.2.0",
      "_model_name": "LayoutModel",
      "_view_count": null,
      "_view_module": "@jupyter-widgets/base",
      "_view_module_version": "1.2.0",
      "_view_name": "LayoutView",
      "align_content": null,
      "align_items": null,
      "align_self": null,
      "border": null,
      "bottom": null,
      "display": null,
      "flex": null,
      "flex_flow": null,
      "grid_area": null,
      "grid_auto_columns": null,
      "grid_auto_flow": null,
      "grid_auto_rows": null,
      "grid_column": null,
      "grid_gap": null,
      "grid_row": null,
      "grid_template_areas": null,
      "grid_template_columns": null,
      "grid_template_rows": null,
      "height": null,
      "justify_content": null,
      "justify_items": null,
      "left": null,
      "margin": null,
      "max_height": null,
      "max_width": null,
      "min_height": null,
      "min_width": null,
      "object_fit": null,
      "object_position": null,
      "order": null,
      "overflow": null,
      "overflow_x": null,
      "overflow_y": null,
      "padding": null,
      "right": null,
      "top": null,
      "visibility": null,
      "width": null
     }
    },
    "46b2a0f1b6874170b48bdd085ec5e2ff": {
     "model_module": "@jupyter-widgets/base",
     "model_name": "LayoutModel",
     "state": {
      "_model_module": "@jupyter-widgets/base",
      "_model_module_version": "1.2.0",
      "_model_name": "LayoutModel",
      "_view_count": null,
      "_view_module": "@jupyter-widgets/base",
      "_view_module_version": "1.2.0",
      "_view_name": "LayoutView",
      "align_content": null,
      "align_items": null,
      "align_self": null,
      "border": null,
      "bottom": null,
      "display": null,
      "flex": null,
      "flex_flow": null,
      "grid_area": null,
      "grid_auto_columns": null,
      "grid_auto_flow": null,
      "grid_auto_rows": null,
      "grid_column": null,
      "grid_gap": null,
      "grid_row": null,
      "grid_template_areas": null,
      "grid_template_columns": null,
      "grid_template_rows": null,
      "height": null,
      "justify_content": null,
      "justify_items": null,
      "left": null,
      "margin": null,
      "max_height": null,
      "max_width": null,
      "min_height": null,
      "min_width": null,
      "object_fit": null,
      "object_position": null,
      "order": null,
      "overflow": null,
      "overflow_x": null,
      "overflow_y": null,
      "padding": null,
      "right": null,
      "top": null,
      "visibility": null,
      "width": null
     }
    },
    "4914900e72e64baf91dc5a026cdf8dc6": {
     "model_module": "@jupyter-widgets/controls",
     "model_name": "DescriptionStyleModel",
     "state": {
      "_model_module": "@jupyter-widgets/controls",
      "_model_module_version": "1.5.0",
      "_model_name": "DescriptionStyleModel",
      "_view_count": null,
      "_view_module": "@jupyter-widgets/base",
      "_view_module_version": "1.2.0",
      "_view_name": "StyleView",
      "description_width": ""
     }
    },
    "4aa45ce5b9c24965a5d9e9225273d50a": {
     "model_module": "@jupyter-widgets/controls",
     "model_name": "HBoxModel",
     "state": {
      "_dom_classes": [],
      "_model_module": "@jupyter-widgets/controls",
      "_model_module_version": "1.5.0",
      "_model_name": "HBoxModel",
      "_view_count": null,
      "_view_module": "@jupyter-widgets/controls",
      "_view_module_version": "1.5.0",
      "_view_name": "HBoxView",
      "box_style": "",
      "children": [
       "IPY_MODEL_237133876ca54b18af8e4751077f6765",
       "IPY_MODEL_0837aa0866c14d8fa06da890217e7d54"
      ],
      "layout": "IPY_MODEL_91595bc16bdd4b5eb32932182e465840"
     }
    },
    "5094a094ae1f4e3a810377f6b95229c6": {
     "model_module": "@jupyter-widgets/base",
     "model_name": "LayoutModel",
     "state": {
      "_model_module": "@jupyter-widgets/base",
      "_model_module_version": "1.2.0",
      "_model_name": "LayoutModel",
      "_view_count": null,
      "_view_module": "@jupyter-widgets/base",
      "_view_module_version": "1.2.0",
      "_view_name": "LayoutView",
      "align_content": null,
      "align_items": null,
      "align_self": null,
      "border": null,
      "bottom": null,
      "display": null,
      "flex": null,
      "flex_flow": null,
      "grid_area": null,
      "grid_auto_columns": null,
      "grid_auto_flow": null,
      "grid_auto_rows": null,
      "grid_column": null,
      "grid_gap": null,
      "grid_row": null,
      "grid_template_areas": null,
      "grid_template_columns": null,
      "grid_template_rows": null,
      "height": null,
      "justify_content": null,
      "justify_items": null,
      "left": null,
      "margin": null,
      "max_height": null,
      "max_width": null,
      "min_height": null,
      "min_width": null,
      "object_fit": null,
      "object_position": null,
      "order": null,
      "overflow": null,
      "overflow_x": null,
      "overflow_y": null,
      "padding": null,
      "right": null,
      "top": null,
      "visibility": null,
      "width": null
     }
    },
    "510f726c7a7b4f56ab47979f251fcb11": {
     "model_module": "@jupyter-widgets/controls",
     "model_name": "ProgressStyleModel",
     "state": {
      "_model_module": "@jupyter-widgets/controls",
      "_model_module_version": "1.5.0",
      "_model_name": "ProgressStyleModel",
      "_view_count": null,
      "_view_module": "@jupyter-widgets/base",
      "_view_module_version": "1.2.0",
      "_view_name": "StyleView",
      "bar_color": null,
      "description_width": "initial"
     }
    },
    "5772e26f675b4add9ac1810113735de2": {
     "model_module": "@jupyter-widgets/controls",
     "model_name": "HTMLModel",
     "state": {
      "_dom_classes": [],
      "_model_module": "@jupyter-widgets/controls",
      "_model_module_version": "1.5.0",
      "_model_name": "HTMLModel",
      "_view_count": null,
      "_view_module": "@jupyter-widgets/controls",
      "_view_module_version": "1.5.0",
      "_view_name": "HTMLView",
      "description": "",
      "description_tooltip": null,
      "layout": "IPY_MODEL_05c0c76a64e3448bbd757ed9e92e428f",
      "placeholder": "​",
      "style": "IPY_MODEL_16800abafc0645f58022f49d3dfcde3e",
      "value": " 32768/? [00:00&lt;00:00, 74594.06it/s]"
     }
    },
    "6e806d794a274dca933f5584090957f1": {
     "model_module": "@jupyter-widgets/base",
     "model_name": "LayoutModel",
     "state": {
      "_model_module": "@jupyter-widgets/base",
      "_model_module_version": "1.2.0",
      "_model_name": "LayoutModel",
      "_view_count": null,
      "_view_module": "@jupyter-widgets/base",
      "_view_module_version": "1.2.0",
      "_view_name": "LayoutView",
      "align_content": null,
      "align_items": null,
      "align_self": null,
      "border": null,
      "bottom": null,
      "display": null,
      "flex": null,
      "flex_flow": null,
      "grid_area": null,
      "grid_auto_columns": null,
      "grid_auto_flow": null,
      "grid_auto_rows": null,
      "grid_column": null,
      "grid_gap": null,
      "grid_row": null,
      "grid_template_areas": null,
      "grid_template_columns": null,
      "grid_template_rows": null,
      "height": null,
      "justify_content": null,
      "justify_items": null,
      "left": null,
      "margin": null,
      "max_height": null,
      "max_width": null,
      "min_height": null,
      "min_width": null,
      "object_fit": null,
      "object_position": null,
      "order": null,
      "overflow": null,
      "overflow_x": null,
      "overflow_y": null,
      "padding": null,
      "right": null,
      "top": null,
      "visibility": null,
      "width": null
     }
    },
    "8a09cba3751d46dc8b259bc3fb0d7fdc": {
     "model_module": "@jupyter-widgets/base",
     "model_name": "LayoutModel",
     "state": {
      "_model_module": "@jupyter-widgets/base",
      "_model_module_version": "1.2.0",
      "_model_name": "LayoutModel",
      "_view_count": null,
      "_view_module": "@jupyter-widgets/base",
      "_view_module_version": "1.2.0",
      "_view_name": "LayoutView",
      "align_content": null,
      "align_items": null,
      "align_self": null,
      "border": null,
      "bottom": null,
      "display": null,
      "flex": null,
      "flex_flow": null,
      "grid_area": null,
      "grid_auto_columns": null,
      "grid_auto_flow": null,
      "grid_auto_rows": null,
      "grid_column": null,
      "grid_gap": null,
      "grid_row": null,
      "grid_template_areas": null,
      "grid_template_columns": null,
      "grid_template_rows": null,
      "height": null,
      "justify_content": null,
      "justify_items": null,
      "left": null,
      "margin": null,
      "max_height": null,
      "max_width": null,
      "min_height": null,
      "min_width": null,
      "object_fit": null,
      "object_position": null,
      "order": null,
      "overflow": null,
      "overflow_x": null,
      "overflow_y": null,
      "padding": null,
      "right": null,
      "top": null,
      "visibility": null,
      "width": null
     }
    },
    "91595bc16bdd4b5eb32932182e465840": {
     "model_module": "@jupyter-widgets/base",
     "model_name": "LayoutModel",
     "state": {
      "_model_module": "@jupyter-widgets/base",
      "_model_module_version": "1.2.0",
      "_model_name": "LayoutModel",
      "_view_count": null,
      "_view_module": "@jupyter-widgets/base",
      "_view_module_version": "1.2.0",
      "_view_name": "LayoutView",
      "align_content": null,
      "align_items": null,
      "align_self": null,
      "border": null,
      "bottom": null,
      "display": null,
      "flex": null,
      "flex_flow": null,
      "grid_area": null,
      "grid_auto_columns": null,
      "grid_auto_flow": null,
      "grid_auto_rows": null,
      "grid_column": null,
      "grid_gap": null,
      "grid_row": null,
      "grid_template_areas": null,
      "grid_template_columns": null,
      "grid_template_rows": null,
      "height": null,
      "justify_content": null,
      "justify_items": null,
      "left": null,
      "margin": null,
      "max_height": null,
      "max_width": null,
      "min_height": null,
      "min_width": null,
      "object_fit": null,
      "object_position": null,
      "order": null,
      "overflow": null,
      "overflow_x": null,
      "overflow_y": null,
      "padding": null,
      "right": null,
      "top": null,
      "visibility": null,
      "width": null
     }
    },
    "932fb72a477f47fba67bb5fdd9bb5141": {
     "model_module": "@jupyter-widgets/base",
     "model_name": "LayoutModel",
     "state": {
      "_model_module": "@jupyter-widgets/base",
      "_model_module_version": "1.2.0",
      "_model_name": "LayoutModel",
      "_view_count": null,
      "_view_module": "@jupyter-widgets/base",
      "_view_module_version": "1.2.0",
      "_view_name": "LayoutView",
      "align_content": null,
      "align_items": null,
      "align_self": null,
      "border": null,
      "bottom": null,
      "display": null,
      "flex": null,
      "flex_flow": null,
      "grid_area": null,
      "grid_auto_columns": null,
      "grid_auto_flow": null,
      "grid_auto_rows": null,
      "grid_column": null,
      "grid_gap": null,
      "grid_row": null,
      "grid_template_areas": null,
      "grid_template_columns": null,
      "grid_template_rows": null,
      "height": null,
      "justify_content": null,
      "justify_items": null,
      "left": null,
      "margin": null,
      "max_height": null,
      "max_width": null,
      "min_height": null,
      "min_width": null,
      "object_fit": null,
      "object_position": null,
      "order": null,
      "overflow": null,
      "overflow_x": null,
      "overflow_y": null,
      "padding": null,
      "right": null,
      "top": null,
      "visibility": null,
      "width": null
     }
    },
    "9fc2d41408e646e18f9be1886eb9a929": {
     "model_module": "@jupyter-widgets/controls",
     "model_name": "HBoxModel",
     "state": {
      "_dom_classes": [],
      "_model_module": "@jupyter-widgets/controls",
      "_model_module_version": "1.5.0",
      "_model_name": "HBoxModel",
      "_view_count": null,
      "_view_module": "@jupyter-widgets/controls",
      "_view_module_version": "1.5.0",
      "_view_name": "HBoxView",
      "box_style": "",
      "children": [
       "IPY_MODEL_ba6705b9b800492c96299c7831a286ae",
       "IPY_MODEL_5772e26f675b4add9ac1810113735de2"
      ],
      "layout": "IPY_MODEL_6e806d794a274dca933f5584090957f1"
     }
    },
    "a0a1e0889ee34c9781dd1c47ccbdf496": {
     "model_module": "@jupyter-widgets/controls",
     "model_name": "DescriptionStyleModel",
     "state": {
      "_model_module": "@jupyter-widgets/controls",
      "_model_module_version": "1.5.0",
      "_model_name": "DescriptionStyleModel",
      "_view_count": null,
      "_view_module": "@jupyter-widgets/base",
      "_view_module_version": "1.2.0",
      "_view_name": "StyleView",
      "description_width": ""
     }
    },
    "aa686f527f5e4b1d974b11410fac633c": {
     "model_module": "@jupyter-widgets/controls",
     "model_name": "FloatProgressModel",
     "state": {
      "_dom_classes": [],
      "_model_module": "@jupyter-widgets/controls",
      "_model_module_version": "1.5.0",
      "_model_name": "FloatProgressModel",
      "_view_count": null,
      "_view_module": "@jupyter-widgets/controls",
      "_view_module_version": "1.5.0",
      "_view_name": "ProgressView",
      "bar_style": "info",
      "description": "",
      "description_tooltip": null,
      "layout": "IPY_MODEL_5094a094ae1f4e3a810377f6b95229c6",
      "max": 1,
      "min": 0,
      "orientation": "horizontal",
      "style": "IPY_MODEL_510f726c7a7b4f56ab47979f251fcb11",
      "value": 1
     }
    },
    "b0b49f453062448a985aac7924214f5d": {
     "model_module": "@jupyter-widgets/controls",
     "model_name": "FloatProgressModel",
     "state": {
      "_dom_classes": [],
      "_model_module": "@jupyter-widgets/controls",
      "_model_module_version": "1.5.0",
      "_model_name": "FloatProgressModel",
      "_view_count": null,
      "_view_module": "@jupyter-widgets/controls",
      "_view_module_version": "1.5.0",
      "_view_name": "ProgressView",
      "bar_style": "success",
      "description": "",
      "description_tooltip": null,
      "layout": "IPY_MODEL_1f949b5ceff44f98a09d7ca195ab0209",
      "max": 1,
      "min": 0,
      "orientation": "horizontal",
      "style": "IPY_MODEL_f9cf410d005b46419179c89d82f4d005",
      "value": 1
     }
    },
    "b0c1f15aee8a4370a8be80584bec12c2": {
     "model_module": "@jupyter-widgets/controls",
     "model_name": "HBoxModel",
     "state": {
      "_dom_classes": [],
      "_model_module": "@jupyter-widgets/controls",
      "_model_module_version": "1.5.0",
      "_model_name": "HBoxModel",
      "_view_count": null,
      "_view_module": "@jupyter-widgets/controls",
      "_view_module_version": "1.5.0",
      "_view_name": "HBoxView",
      "box_style": "",
      "children": [
       "IPY_MODEL_aa686f527f5e4b1d974b11410fac633c",
       "IPY_MODEL_c7fd8e46a3ce4337b6d241ce7058dada"
      ],
      "layout": "IPY_MODEL_8a09cba3751d46dc8b259bc3fb0d7fdc"
     }
    },
    "ba6705b9b800492c96299c7831a286ae": {
     "model_module": "@jupyter-widgets/controls",
     "model_name": "FloatProgressModel",
     "state": {
      "_dom_classes": [],
      "_model_module": "@jupyter-widgets/controls",
      "_model_module_version": "1.5.0",
      "_model_name": "FloatProgressModel",
      "_view_count": null,
      "_view_module": "@jupyter-widgets/controls",
      "_view_module_version": "1.5.0",
      "_view_name": "ProgressView",
      "bar_style": "success",
      "description": "",
      "description_tooltip": null,
      "layout": "IPY_MODEL_be6ff6c59a0d4c54977381b81b25d078",
      "max": 1,
      "min": 0,
      "orientation": "horizontal",
      "style": "IPY_MODEL_cfd1a3caa4b04cd6a639ae10e611c7ad",
      "value": 1
     }
    },
    "be6ff6c59a0d4c54977381b81b25d078": {
     "model_module": "@jupyter-widgets/base",
     "model_name": "LayoutModel",
     "state": {
      "_model_module": "@jupyter-widgets/base",
      "_model_module_version": "1.2.0",
      "_model_name": "LayoutModel",
      "_view_count": null,
      "_view_module": "@jupyter-widgets/base",
      "_view_module_version": "1.2.0",
      "_view_name": "LayoutView",
      "align_content": null,
      "align_items": null,
      "align_self": null,
      "border": null,
      "bottom": null,
      "display": null,
      "flex": null,
      "flex_flow": null,
      "grid_area": null,
      "grid_auto_columns": null,
      "grid_auto_flow": null,
      "grid_auto_rows": null,
      "grid_column": null,
      "grid_gap": null,
      "grid_row": null,
      "grid_template_areas": null,
      "grid_template_columns": null,
      "grid_template_rows": null,
      "height": null,
      "justify_content": null,
      "justify_items": null,
      "left": null,
      "margin": null,
      "max_height": null,
      "max_width": null,
      "min_height": null,
      "min_width": null,
      "object_fit": null,
      "object_position": null,
      "order": null,
      "overflow": null,
      "overflow_x": null,
      "overflow_y": null,
      "padding": null,
      "right": null,
      "top": null,
      "visibility": null,
      "width": null
     }
    },
    "c1868645e1d64e568732914c5a42f261": {
     "model_module": "@jupyter-widgets/controls",
     "model_name": "HBoxModel",
     "state": {
      "_dom_classes": [],
      "_model_module": "@jupyter-widgets/controls",
      "_model_module_version": "1.5.0",
      "_model_name": "HBoxModel",
      "_view_count": null,
      "_view_module": "@jupyter-widgets/controls",
      "_view_module_version": "1.5.0",
      "_view_name": "HBoxView",
      "box_style": "",
      "children": [
       "IPY_MODEL_b0b49f453062448a985aac7924214f5d",
       "IPY_MODEL_e92b9f1533294182a7b98b4abbec6187"
      ],
      "layout": "IPY_MODEL_932fb72a477f47fba67bb5fdd9bb5141"
     }
    },
    "c7fd8e46a3ce4337b6d241ce7058dada": {
     "model_module": "@jupyter-widgets/controls",
     "model_name": "HTMLModel",
     "state": {
      "_dom_classes": [],
      "_model_module": "@jupyter-widgets/controls",
      "_model_module_version": "1.5.0",
      "_model_name": "HTMLModel",
      "_view_count": null,
      "_view_module": "@jupyter-widgets/controls",
      "_view_module_version": "1.5.0",
      "_view_name": "HTMLView",
      "description": "",
      "description_tooltip": null,
      "layout": "IPY_MODEL_3f5419dd02ac4bd0bcdc5fda4a7c78b4",
      "placeholder": "​",
      "style": "IPY_MODEL_a0a1e0889ee34c9781dd1c47ccbdf496",
      "value": " 9920512/? [00:20&lt;00:00, 4563260.97it/s]"
     }
    },
    "cfd1a3caa4b04cd6a639ae10e611c7ad": {
     "model_module": "@jupyter-widgets/controls",
     "model_name": "ProgressStyleModel",
     "state": {
      "_model_module": "@jupyter-widgets/controls",
      "_model_module_version": "1.5.0",
      "_model_name": "ProgressStyleModel",
      "_view_count": null,
      "_view_module": "@jupyter-widgets/base",
      "_view_module_version": "1.2.0",
      "_view_name": "StyleView",
      "bar_color": null,
      "description_width": "initial"
     }
    },
    "e92b9f1533294182a7b98b4abbec6187": {
     "model_module": "@jupyter-widgets/controls",
     "model_name": "HTMLModel",
     "state": {
      "_dom_classes": [],
      "_model_module": "@jupyter-widgets/controls",
      "_model_module_version": "1.5.0",
      "_model_name": "HTMLModel",
      "_view_count": null,
      "_view_module": "@jupyter-widgets/controls",
      "_view_module_version": "1.5.0",
      "_view_name": "HTMLView",
      "description": "",
      "description_tooltip": null,
      "layout": "IPY_MODEL_0978333be58346c7a79494133349cb33",
      "placeholder": "​",
      "style": "IPY_MODEL_f1fbfdeed40b465183730b72b9021c9c",
      "value": " 1654784/? [00:00&lt;00:00, 5188170.58it/s]"
     }
    },
    "f1fbfdeed40b465183730b72b9021c9c": {
     "model_module": "@jupyter-widgets/controls",
     "model_name": "DescriptionStyleModel",
     "state": {
      "_model_module": "@jupyter-widgets/controls",
      "_model_module_version": "1.5.0",
      "_model_name": "DescriptionStyleModel",
      "_view_count": null,
      "_view_module": "@jupyter-widgets/base",
      "_view_module_version": "1.2.0",
      "_view_name": "StyleView",
      "description_width": ""
     }
    },
    "f9cf410d005b46419179c89d82f4d005": {
     "model_module": "@jupyter-widgets/controls",
     "model_name": "ProgressStyleModel",
     "state": {
      "_model_module": "@jupyter-widgets/controls",
      "_model_module_version": "1.5.0",
      "_model_name": "ProgressStyleModel",
      "_view_count": null,
      "_view_module": "@jupyter-widgets/base",
      "_view_module_version": "1.2.0",
      "_view_name": "StyleView",
      "bar_color": null,
      "description_width": "initial"
     }
    },
    "faeb3d92f62a409b82ea1c2d3087ab1d": {
     "model_module": "@jupyter-widgets/controls",
     "model_name": "ProgressStyleModel",
     "state": {
      "_model_module": "@jupyter-widgets/controls",
      "_model_module_version": "1.5.0",
      "_model_name": "ProgressStyleModel",
      "_view_count": null,
      "_view_module": "@jupyter-widgets/base",
      "_view_module_version": "1.2.0",
      "_view_name": "StyleView",
      "bar_color": null,
      "description_width": "initial"
     }
    }
   }
  }
 },
 "nbformat": 4,
 "nbformat_minor": 1
}
